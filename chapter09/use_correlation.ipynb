{
 "cells": [
  {
   "cell_type": "code",
   "execution_count": 1,
   "id": "initial_id",
   "metadata": {
    "collapsed": true,
    "ExecuteTime": {
     "end_time": "2023-12-21T08:08:26.778822303Z",
     "start_time": "2023-12-21T08:08:26.108601410Z"
    }
   },
   "outputs": [
    {
     "data": {
      "text/plain": "<Figure size 640x480 with 1 Axes>",
      "image/png": "[encoded data removed]"
     },
     "metadata": {},
     "output_type": "display_data"
    }
   ],
   "source": [
    "import pandas as pd\n",
    "import matplotlib.pyplot as plt\n",
    "\n",
    "real_estate = [83, 83, 83.5, 83.8, 83.9, 83.7, 84.3, 84.6, 85.2, 85.7, 85.7, 85.7, 86.3\n",
    "    , 86.8, 87.4, 87.4, 87.4, 87.4, 87.6, 88.2, 88.8, 89.4, 89.7, 89.9, 90.5\n",
    "    , 91.1, 92, 92.7, 93.3, 93.8, 94.7, 95.4, 96, 96.4, 96.4, 95.8, 95.7\n",
    "    , 95.8, 95.7, 95.7, 95.7, 96, 96.6, 97.2, 98.1, 98.8, 98.9, 98.6, 98.3\n",
    "    , 98.5, 98.7, 98.6, 98.9, 99.4, 100.1, 100.2, 100.3, 100.3, 100, 99.6\n",
    "    , 99.8, 100.1, 100.2, 100.2, 99.9, 99.7, 99.6, 100.8, 102.2, 102.4\n",
    "    , 101.6, 100.8, 100.3, 99.9, 99.2, 99, 98.8, 99.1, 99.6, 99.9, 100.3\n",
    "    , 100.8, 101.7, 102.7, 103.4, 104.7, 105.5, 105.5, 106.3, 108.3, 110.7\n",
    "    , 112, 112.9, 114.4, 117, 119.8, 122.9, 125.1, 126.7, 128.3, 130.5\n",
    "    , 133.4, 136.5, 139.7, 142.3, 143.8, 143, 141.6, 140.7, 140.6, 141.1\n",
    "    , 141.8, 140.5, 139.8, 136.1, 133.4, 130.6, 126.2, 121.1]\n",
    "interest_rate = [2.75, 2.75, 2.75, 2.75, 2.5, 2.5, 2.5, 2.5, 2.5, 2.5, 2.5, 2.5, 2.5\n",
    "    , 2.5, 2.5, 2.5, 2.5, 2.5, 2.5, 2.25, 2.25, 2, 2, 2, 2, 2, 1.75, 1.75\n",
    "    , 1.75, 1.5, 1.5, 1.5, 1.5, 1.5, 1.5, 1.5, 1.5, 1.5, 1.5, 1.5, 1.5, 1.25\n",
    "    , 1.25, 1.25, 1.25, 1.25, 1.25, 1.25, 1.25, 1.25, 1.25, 1.25, 1.25, 1.25\n",
    "    , 1.25, 1.25, 1.25, 1.25, 1.5, 1.5, 1.5, 1.5, 1.5, 1.5, 1.5, 1.5, 1.5\n",
    "    , 1.5, 1.5, 1.5, 1.75, 1.75, 1.75, 1.75, 1.75, 1.75, 1.75, 1.75, 1.5\n",
    "    , 1.5, 1.5, 1.25, 1.25, 1.25, 1.25, 1.25, 0.75, 0.75, 0.5, 0.5, 0.5\n",
    "    , 0.5, 0.5, 0.5, 0.5, 0.5, 0.5, 0.5, 0.5, 0.5, 0.5, 0.5, 0.5\n",
    "    , 0.75, 0.75, 0.75, 1, 1, 1.25, 1.25, 1.25, 1.5, 1.75, 1.75, 2.25, 2.5, 2.5\n",
    "    , 3, 3.25]\n",
    "data = {'real_estate': real_estate, 'interest_rate': interest_rate}\n",
    "df = pd.DataFrame(data)\n",
    "\n",
    "plt.scatter(df['real_estate'], df['interest_rate'])\n",
    "plt.show()"
   ]
  },
  {
   "cell_type": "code",
   "execution_count": 2,
   "outputs": [
    {
     "data": {
      "text/plain": "               real_estate  interest_rate\nreal_estate       1.000000      -0.497677\ninterest_rate    -0.497677       1.000000",
      "text/html": "<div>\n<style scoped>\n    .dataframe tbody tr th:only-of-type {\n        vertical-align: middle;\n    }\n\n    .dataframe tbody tr th {\n        vertical-align: top;\n    }\n\n    .dataframe thead th {\n        text-align: right;\n    }\n</style>\n<table border=\"1\" class=\"dataframe\">\n  <thead>\n    <tr style=\"text-align: right;\">\n      <th></th>\n      <th>real_estate</th>\n      <th>interest_rate</th>\n    </tr>\n  </thead>\n  <tbody>\n    <tr>\n      <th>real_estate</th>\n      <td>1.000000</td>\n      <td>-0.497677</td>\n    </tr>\n    <tr>\n      <th>interest_rate</th>\n      <td>-0.497677</td>\n      <td>1.000000</td>\n    </tr>\n  </tbody>\n</table>\n</div>"
     },
     "execution_count": 2,
     "metadata": {},
     "output_type": "execute_result"
    }
   ],
   "source": [
    "coef = df.corr(method='pearson')\n",
    "coef"
   ],
   "metadata": {
    "collapsed": false,
    "ExecuteTime": {
     "end_time": "2023-12-21T08:10:01.888397927Z",
     "start_time": "2023-12-21T08:10:01.845711660Z"
    }
   },
   "id": "beb972d13dca649a"
  },
  {
   "cell_type": "code",
   "execution_count": 3,
   "outputs": [
    {
     "data": {
      "text/plain": "                        real_estate_index_list  interest_list\nreal_estate_index_list                1.000000      -0.854603\ninterest_list                        -0.854603       1.000000",
      "text/html": "<div>\n<style scoped>\n    .dataframe tbody tr th:only-of-type {\n        vertical-align: middle;\n    }\n\n    .dataframe tbody tr th {\n        vertical-align: top;\n    }\n\n    .dataframe thead th {\n        text-align: right;\n    }\n</style>\n<table border=\"1\" class=\"dataframe\">\n  <thead>\n    <tr style=\"text-align: right;\">\n      <th></th>\n      <th>real_estate_index_list</th>\n      <th>interest_list</th>\n    </tr>\n  </thead>\n  <tbody>\n    <tr>\n      <th>real_estate_index_list</th>\n      <td>1.000000</td>\n      <td>-0.854603</td>\n    </tr>\n    <tr>\n      <th>interest_list</th>\n      <td>-0.854603</td>\n      <td>1.000000</td>\n    </tr>\n  </tbody>\n</table>\n</div>"
     },
     "execution_count": 3,
     "metadata": {},
     "output_type": "execute_result"
    }
   ],
   "source": [
    "real_estate_index_list = []\n",
    "interest_list = []\n",
    "last_index = -1\n",
    "\n",
    "for key, value in data.items():\n",
    "    if key == 'real_estate':\n",
    "        for i in range(0, len(value)):\n",
    "            if value[i] == 143.8:\n",
    "                break\n",
    "            else:\n",
    "                real_estate_index_list.append(value[i])\n",
    "                last_index = i\n",
    "    else:\n",
    "        for i in range(0, last_index + 1):\n",
    "            interest_list.append(value[i])\n",
    "\n",
    "data = {'real_estate_index_list': real_estate_index_list, 'interest_list': interest_list}\n",
    "df = pd.DataFrame(data)\n",
    "coef = df.corr(method='pearson')\n",
    "coef"
   ],
   "metadata": {
    "collapsed": false,
    "ExecuteTime": {
     "end_time": "2023-12-21T08:15:16.989849564Z",
     "start_time": "2023-12-21T08:15:16.947236349Z"
    }
   },
   "id": "3ee24076451e3c9a"
  },
  {
   "cell_type": "code",
   "execution_count": 4,
   "outputs": [
    {
     "name": "stdout",
     "output_type": "stream",
     "text": [
      "[100, 101, 102, 103, 104, 105]\n",
      "5\n"
     ]
    }
   ],
   "source": [
    "score = [100, 101, 102, 103, 104, 105, 106, 104, 102, 100, 98]\n",
    "score_list = []\n",
    "\n",
    "for i in range(0, len(score)):\n",
    "    if score[i] == 106:\n",
    "        break\n",
    "    else:\n",
    "        score_list.append(score[i])\n",
    "        last_index = i\n",
    "\n",
    "print(score_list)\n",
    "print(last_index)\n"
   ],
   "metadata": {
    "collapsed": false,
    "ExecuteTime": {
     "end_time": "2023-12-21T08:21:31.079445762Z",
     "start_time": "2023-12-21T08:21:31.068920160Z"
    }
   },
   "id": "92fd5a7c39c67ba7"
  },
  {
   "cell_type": "code",
   "execution_count": null,
   "outputs": [],
   "source": [],
   "metadata": {
    "collapsed": false
   },
   "id": "fd3d88a21d856be7"
  }
 ],
 "metadata": {
  "kernelspec": {
   "display_name": "Python 3",
   "language": "python",
   "name": "python3"
  },
  "language_info": {
   "codemirror_mode": {
    "name": "ipython",
    "version": 2
   },
   "file_extension": ".py",
   "mimetype": "text/x-python",
   "name": "python",
   "nbconvert_exporter": "python",
   "pygments_lexer": "ipython2",
   "version": "2.7.6"
  }
 },
 "nbformat": 4,
 "nbformat_minor": 5
}

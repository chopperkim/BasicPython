{
 "cells": [
  {
   "cell_type": "code",
   "execution_count": 6,
   "id": "initial_id",
   "metadata": {
    "collapsed": true,
    "ExecuteTime": {
     "end_time": "2023-12-21T08:39:18.624303126Z",
     "start_time": "2023-12-21T08:39:18.582405675Z"
    }
   },
   "outputs": [
    {
     "name": "stdout",
     "output_type": "stream",
     "text": [
      "          GDP 성장률       인구수\n",
      "GDP 성장률  1.000000  0.198924\n",
      "인구수      0.198924  1.000000\n",
      "          GDP 성장률       인구수\n",
      "GDP 성장률  1.000000 -0.196388\n",
      "인구수     -0.196388  1.000000\n",
      "          GDP 성장률       인구수\n",
      "GDP 성장률  1.000000 -0.137568\n",
      "인구수     -0.137568  1.000000\n"
     ]
    }
   ],
   "source": [
    "import pandas as pd\n",
    "\n",
    "df = pd.read_csv('gdp.csv', encoding='utf-8')\n",
    "df = df[['GDP 성장률', '인구수']]\n",
    "\n",
    "coef_pearson = df.corr(method='pearson')\n",
    "print(coef_pearson)\n",
    "coef_spearman = df.corr(method='spearman')\n",
    "print(coef_spearman)\n",
    "coef_kendall = df.corr(method='kendall')\n",
    "print(coef_kendall)\n"
   ]
  }
 ],
 "metadata": {
  "kernelspec": {
   "display_name": "Python 3",
   "language": "python",
   "name": "python3"
  },
  "language_info": {
   "codemirror_mode": {
    "name": "ipython",
    "version": 2
   },
   "file_extension": ".py",
   "mimetype": "text/x-python",
   "name": "python",
   "nbconvert_exporter": "python",
   "pygments_lexer": "ipython2",
   "version": "2.7.6"
  }
 },
 "nbformat": 4,
 "nbformat_minor": 5
}

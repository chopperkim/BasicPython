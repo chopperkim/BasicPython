{
 "cells": [
  {
   "cell_type": "code",
   "execution_count": 37,
   "id": "initial_id",
   "metadata": {
    "collapsed": true,
    "ExecuteTime": {
     "end_time": "2023-12-27T01:53:30.085632Z",
     "start_time": "2023-12-27T01:53:30.062184Z"
    }
   },
   "outputs": [
    {
     "data": {
      "text/plain": "0       0\n1       0\n2       1\n3       0\n4       2\n       ..\n4172    1\n4173    0\n4174    0\n4175    1\n4176    0\nName: 0, Length: 4177, dtype: int64"
     },
     "execution_count": 37,
     "metadata": {},
     "output_type": "execute_result"
    }
   ],
   "source": [
    "# avalone 데이터를 이용하여 성별을 예측하는 알고리즘 중 가장 성능이 높은 알고리즘을 찾으시오.\n",
    "# Linear Regression\n",
    "# SVM(SVC)\n",
    "# K-nn\n",
    "# Random Forest\n",
    "# logistic Regression\n",
    "import sklearn.linear_model as lm\n",
    "import sklearn.svm as svm\n",
    "import sklearn.ensemble as en\n",
    "import sklearn.neighbors as nb\n",
    "from ucimlrepo import fetch_ucirepo \n",
    "from sklearn.model_selection import train_test_split\n",
    "from sklearn.metrics import accuracy_score\n",
    "from sklearn.preprocessing import OneHotEncoder\n",
    "import pandas as pd\n",
    "\n",
    "# fetch dataset \n",
    "abalone = pd.read_csv('abalone.data', encoding='utf-8', header=None)\n",
    "# data (as pandas dataframes) \n",
    "X = abalone[[1, 2, 3, 4, 5, 6, 7, 8]]\n",
    "y = abalone[0]\n",
    "\n",
    "y = y.replace({'M': 0, 'F': 1, 'I': 2})\n",
    "y"
   ]
  },
  {
   "cell_type": "code",
   "outputs": [
    {
     "name": "stdout",
     "output_type": "stream",
     "text": [
      "<class 'sklearn.linear_model._ridge.RidgeClassifier'>: 0.5526315789473685\n"
     ]
    },
    {
     "name": "stderr",
     "output_type": "stream",
     "text": [
      "/Users/chopper/PycharmProjects/BasicPython/venv/lib/python3.8/site-packages/sklearn/svm/_classes.py:32: FutureWarning: The default value of `dual` will change from `True` to `'auto'` in 1.5. Set the value of `dual` explicitly to suppress the warning.\n",
      "  warnings.warn(\n",
      "/Users/chopper/PycharmProjects/BasicPython/venv/lib/python3.8/site-packages/sklearn/svm/_base.py:1250: ConvergenceWarning: Liblinear failed to converge, increase the number of iterations.\n",
      "  warnings.warn(\n"
     ]
    },
    {
     "name": "stdout",
     "output_type": "stream",
     "text": [
      "<class 'sklearn.svm._classes.LinearSVC'>: 0.5418660287081339\n",
      "<class 'sklearn.ensemble._forest.RandomForestClassifier'>: 0.5526315789473685\n",
      "<class 'sklearn.neighbors._classification.KNeighborsClassifier'>: 0.5394736842105263\n"
     ]
    }
   ],
   "source": [
    "# 분류를 할 때는 데이터를 숫자 데이터로 변형해줘야 한다.\n",
    "\n",
    "X_train, X_test, y_train, y_test = train_test_split(X, y, test_size=0.2, random_state=0)\n",
    "\n",
    "models = [\n",
    "    lm.RidgeClassifier(),\n",
    "    svm.LinearSVC(),\n",
    "    en.RandomForestClassifier(),\n",
    "    nb.KNeighborsClassifier()\n",
    "]\n",
    "\n",
    "for model in models:\n",
    "    model.fit(X_train, y_train)\n",
    "    pred = model.predict(X_test)\n",
    "    \n",
    "    accuracy = accuracy_score(pred, y_test)\n",
    "    print(f'{model.__class__}: {accuracy}')"
   ],
   "metadata": {
    "collapsed": false,
    "ExecuteTime": {
     "end_time": "2023-12-27T01:54:05.769307Z",
     "start_time": "2023-12-27T01:54:04.245362Z"
    }
   },
   "id": "e82756e2601212dc",
   "execution_count": 40
  },
  {
   "cell_type": "code",
   "outputs": [],
   "source": [],
   "metadata": {
    "collapsed": false
   },
   "id": "3257cb28458a8b4e"
  }
 ],
 "metadata": {
  "kernelspec": {
   "display_name": "Python 3",
   "language": "python",
   "name": "python3"
  },
  "language_info": {
   "codemirror_mode": {
    "name": "ipython",
    "version": 2
   },
   "file_extension": ".py",
   "mimetype": "text/x-python",
   "name": "python",
   "nbconvert_exporter": "python",
   "pygments_lexer": "ipython2",
   "version": "2.7.6"
  }
 },
 "nbformat": 4,
 "nbformat_minor": 5
}

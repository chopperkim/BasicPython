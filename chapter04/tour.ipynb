{
 "cells": [
  {
   "cell_type": "code",
   "execution_count": 19,
   "id": "initial_id",
   "metadata": {
    "collapsed": true,
    "ExecuteTime": {
     "end_time": "2023-12-11T03:48:14.840550503Z",
     "start_time": "2023-12-11T03:48:05.985183534Z"
    }
   },
   "outputs": [
    {
     "name": "stdout",
     "output_type": "stream",
     "text": [
      "16\n",
      "[제주->대구] 대한항공 편도 할인항공권\n",
      "편도직항\n",
      "2024.01.08~2024.03.18\n",
      "62,200\n",
      "[대구->제주] 대한항공 편도 할인항공권\n",
      "편도직항\n",
      "2024.01.06~2024.03.17\n",
      "57,200\n",
      "[제주->부산] 대한항공 편도 할인항공권\n",
      "편도직항\n",
      "2024.01.03~2024.03.20\n",
      "54,200\n",
      "[부산->제주] 대한항공 편도 할인항공권\n",
      "편도직항\n",
      "2024.01.04~2024.03.16\n",
      "59,200\n",
      "[제주->청주] 대한항공 편도 할인항공권\n",
      "편도직항\n",
      "2024.01.08~2024.03.18\n",
      "63,200\n",
      "[청주->제주] 대한항공 편도 할인항공권\n",
      "편도직항\n",
      "2024.01.04~2024.03.17\n",
      "57,200\n",
      "[제주->김포] 대한항공 편도 할인항공권\n",
      "편도직항\n",
      "2024.01.03~2024.03.20\n",
      "58,200\n",
      "[김포->제주] 대한항공 편도 할인항공권\n",
      "편도직항\n",
      "2024.01.02~2024.03.20\n",
      "58,200\n",
      "[대구->제주] 티웨이 항공 편도 설연휴 항공권\n",
      "편도직항\n",
      "2024.02.08~2024.02.10\n",
      "112,300\n",
      "[광주->제주] 티웨이 항공 편도 설연휴 항공권\n",
      "편도직항\n",
      "2024.02.08~2024.02.10\n",
      "94,300\n"
     ]
    },
    {
     "ename": "StaleElementReferenceException",
     "evalue": "Message: stale element reference: stale element not found\n  (Session info: chrome=120.0.6099.71); For documentation on this error, please visit: https://www.selenium.dev/documentation/webdriver/troubleshooting/errors#stale-element-reference-exception\nStacktrace:\n#0 0x557b835e1d33 <unknown>\n#1 0x557b8329ef87 <unknown>\n#2 0x557b832a5533 <unknown>\n#3 0x557b832a7a28 <unknown>\n#4 0x557b832a7b7c <unknown>\n#5 0x557b832e8552 <unknown>\n#6 0x557b83318342 <unknown>\n#7 0x557b832e1db9 <unknown>\n#8 0x557b8331875e <unknown>\n#9 0x557b83337297 <unknown>\n#10 0x557b833180e3 <unknown>\n#11 0x557b832e0044 <unknown>\n#12 0x557b832e144e <unknown>\n#13 0x557b835a6861 <unknown>\n#14 0x557b835aa785 <unknown>\n#15 0x557b83594285 <unknown>\n#16 0x557b835ab41f <unknown>\n#17 0x557b8357820f <unknown>\n#18 0x557b835cf028 <unknown>\n#19 0x557b835cf1f7 <unknown>\n#20 0x557b835e0ed4 <unknown>\n#21 0x7faca0349ac3 <unknown>\n",
     "output_type": "error",
     "traceback": [
      "\u001B[0;31m---------------------------------------------------------------------------\u001B[0m",
      "\u001B[0;31mStaleElementReferenceException\u001B[0m            Traceback (most recent call last)",
      "Cell \u001B[0;32mIn[19], line 25\u001B[0m\n\u001B[1;32m     23\u001B[0m \u001B[38;5;28;01mfor\u001B[39;00m item \u001B[38;5;129;01min\u001B[39;00m items:\n\u001B[1;32m     24\u001B[0m     \u001B[38;5;28mprint\u001B[39m(item\u001B[38;5;241m.\u001B[39mfind_element(By\u001B[38;5;241m.\u001B[39mCLASS_NAME, \u001B[38;5;124m'\u001B[39m\u001B[38;5;124minfoTitle\u001B[39m\u001B[38;5;124m'\u001B[39m)\u001B[38;5;241m.\u001B[39mtext)\n\u001B[0;32m---> 25\u001B[0m     \u001B[38;5;28mprint\u001B[39m(\u001B[43mitem\u001B[49m\u001B[38;5;241;43m.\u001B[39;49m\u001B[43mfind_element\u001B[49m\u001B[43m(\u001B[49m\u001B[43mBy\u001B[49m\u001B[38;5;241;43m.\u001B[39;49m\u001B[43mCLASS_NAME\u001B[49m\u001B[43m,\u001B[49m\u001B[43m \u001B[49m\u001B[38;5;124;43m'\u001B[39;49m\u001B[38;5;124;43minfoFlightWay\u001B[39;49m\u001B[38;5;124;43m'\u001B[39;49m\u001B[43m)\u001B[49m\u001B[38;5;241;43m.\u001B[39;49m\u001B[43mtext\u001B[49m)\n\u001B[1;32m     26\u001B[0m     \u001B[38;5;28mprint\u001B[39m(item\u001B[38;5;241m.\u001B[39mfind_element(By\u001B[38;5;241m.\u001B[39mCSS_SELECTOR, \u001B[38;5;124m'\u001B[39m\u001B[38;5;124mdiv.productInfo > p:nth-child(3)\u001B[39m\u001B[38;5;124m'\u001B[39m)\u001B[38;5;241m.\u001B[39mtext)\n\u001B[1;32m     27\u001B[0m     \u001B[38;5;28mprint\u001B[39m(item\u001B[38;5;241m.\u001B[39mfind_element(By\u001B[38;5;241m.\u001B[39mCSS_SELECTOR, \u001B[38;5;124m'\u001B[39m\u001B[38;5;124m.final > strong\u001B[39m\u001B[38;5;124m'\u001B[39m)\u001B[38;5;241m.\u001B[39mtext)\n",
      "File \u001B[0;32m~/PycharmProjects/BasicPython/venv/lib/python3.10/site-packages/selenium/webdriver/remote/webelement.py:90\u001B[0m, in \u001B[0;36mWebElement.text\u001B[0;34m(self)\u001B[0m\n\u001B[1;32m     87\u001B[0m \u001B[38;5;129m@property\u001B[39m\n\u001B[1;32m     88\u001B[0m \u001B[38;5;28;01mdef\u001B[39;00m \u001B[38;5;21mtext\u001B[39m(\u001B[38;5;28mself\u001B[39m) \u001B[38;5;241m-\u001B[39m\u001B[38;5;241m>\u001B[39m \u001B[38;5;28mstr\u001B[39m:\n\u001B[1;32m     89\u001B[0m \u001B[38;5;250m    \u001B[39m\u001B[38;5;124;03m\"\"\"The text of the element.\"\"\"\u001B[39;00m\n\u001B[0;32m---> 90\u001B[0m     \u001B[38;5;28;01mreturn\u001B[39;00m \u001B[38;5;28;43mself\u001B[39;49m\u001B[38;5;241;43m.\u001B[39;49m\u001B[43m_execute\u001B[49m\u001B[43m(\u001B[49m\u001B[43mCommand\u001B[49m\u001B[38;5;241;43m.\u001B[39;49m\u001B[43mGET_ELEMENT_TEXT\u001B[49m\u001B[43m)\u001B[49m[\u001B[38;5;124m\"\u001B[39m\u001B[38;5;124mvalue\u001B[39m\u001B[38;5;124m\"\u001B[39m]\n",
      "File \u001B[0;32m~/PycharmProjects/BasicPython/venv/lib/python3.10/site-packages/selenium/webdriver/remote/webelement.py:395\u001B[0m, in \u001B[0;36mWebElement._execute\u001B[0;34m(self, command, params)\u001B[0m\n\u001B[1;32m    393\u001B[0m     params \u001B[38;5;241m=\u001B[39m {}\n\u001B[1;32m    394\u001B[0m params[\u001B[38;5;124m\"\u001B[39m\u001B[38;5;124mid\u001B[39m\u001B[38;5;124m\"\u001B[39m] \u001B[38;5;241m=\u001B[39m \u001B[38;5;28mself\u001B[39m\u001B[38;5;241m.\u001B[39m_id\n\u001B[0;32m--> 395\u001B[0m \u001B[38;5;28;01mreturn\u001B[39;00m \u001B[38;5;28;43mself\u001B[39;49m\u001B[38;5;241;43m.\u001B[39;49m\u001B[43m_parent\u001B[49m\u001B[38;5;241;43m.\u001B[39;49m\u001B[43mexecute\u001B[49m\u001B[43m(\u001B[49m\u001B[43mcommand\u001B[49m\u001B[43m,\u001B[49m\u001B[43m \u001B[49m\u001B[43mparams\u001B[49m\u001B[43m)\u001B[49m\n",
      "File \u001B[0;32m~/PycharmProjects/BasicPython/venv/lib/python3.10/site-packages/selenium/webdriver/remote/webdriver.py:348\u001B[0m, in \u001B[0;36mWebDriver.execute\u001B[0;34m(self, driver_command, params)\u001B[0m\n\u001B[1;32m    346\u001B[0m response \u001B[38;5;241m=\u001B[39m \u001B[38;5;28mself\u001B[39m\u001B[38;5;241m.\u001B[39mcommand_executor\u001B[38;5;241m.\u001B[39mexecute(driver_command, params)\n\u001B[1;32m    347\u001B[0m \u001B[38;5;28;01mif\u001B[39;00m response:\n\u001B[0;32m--> 348\u001B[0m     \u001B[38;5;28;43mself\u001B[39;49m\u001B[38;5;241;43m.\u001B[39;49m\u001B[43merror_handler\u001B[49m\u001B[38;5;241;43m.\u001B[39;49m\u001B[43mcheck_response\u001B[49m\u001B[43m(\u001B[49m\u001B[43mresponse\u001B[49m\u001B[43m)\u001B[49m\n\u001B[1;32m    349\u001B[0m     response[\u001B[38;5;124m\"\u001B[39m\u001B[38;5;124mvalue\u001B[39m\u001B[38;5;124m\"\u001B[39m] \u001B[38;5;241m=\u001B[39m \u001B[38;5;28mself\u001B[39m\u001B[38;5;241m.\u001B[39m_unwrap_value(response\u001B[38;5;241m.\u001B[39mget(\u001B[38;5;124m\"\u001B[39m\u001B[38;5;124mvalue\u001B[39m\u001B[38;5;124m\"\u001B[39m, \u001B[38;5;28;01mNone\u001B[39;00m))\n\u001B[1;32m    350\u001B[0m     \u001B[38;5;28;01mreturn\u001B[39;00m response\n",
      "File \u001B[0;32m~/PycharmProjects/BasicPython/venv/lib/python3.10/site-packages/selenium/webdriver/remote/errorhandler.py:229\u001B[0m, in \u001B[0;36mErrorHandler.check_response\u001B[0;34m(self, response)\u001B[0m\n\u001B[1;32m    227\u001B[0m         alert_text \u001B[38;5;241m=\u001B[39m value[\u001B[38;5;124m\"\u001B[39m\u001B[38;5;124malert\u001B[39m\u001B[38;5;124m\"\u001B[39m]\u001B[38;5;241m.\u001B[39mget(\u001B[38;5;124m\"\u001B[39m\u001B[38;5;124mtext\u001B[39m\u001B[38;5;124m\"\u001B[39m)\n\u001B[1;32m    228\u001B[0m     \u001B[38;5;28;01mraise\u001B[39;00m exception_class(message, screen, stacktrace, alert_text)  \u001B[38;5;66;03m# type: ignore[call-arg]  # mypy is not smart enough here\u001B[39;00m\n\u001B[0;32m--> 229\u001B[0m \u001B[38;5;28;01mraise\u001B[39;00m exception_class(message, screen, stacktrace)\n",
      "\u001B[0;31mStaleElementReferenceException\u001B[0m: Message: stale element reference: stale element not found\n  (Session info: chrome=120.0.6099.71); For documentation on this error, please visit: https://www.selenium.dev/documentation/webdriver/troubleshooting/errors#stale-element-reference-exception\nStacktrace:\n#0 0x557b835e1d33 <unknown>\n#1 0x557b8329ef87 <unknown>\n#2 0x557b832a5533 <unknown>\n#3 0x557b832a7a28 <unknown>\n#4 0x557b832a7b7c <unknown>\n#5 0x557b832e8552 <unknown>\n#6 0x557b83318342 <unknown>\n#7 0x557b832e1db9 <unknown>\n#8 0x557b8331875e <unknown>\n#9 0x557b83337297 <unknown>\n#10 0x557b833180e3 <unknown>\n#11 0x557b832e0044 <unknown>\n#12 0x557b832e144e <unknown>\n#13 0x557b835a6861 <unknown>\n#14 0x557b835aa785 <unknown>\n#15 0x557b83594285 <unknown>\n#16 0x557b835ab41f <unknown>\n#17 0x557b8357820f <unknown>\n#18 0x557b835cf028 <unknown>\n#19 0x557b835cf1f7 <unknown>\n#20 0x557b835e0ed4 <unknown>\n#21 0x7faca0349ac3 <unknown>\n"
     ]
    }
   ],
   "source": [
    "from selenium import webdriver\n",
    "from selenium.webdriver.common.by import By\n",
    "import time\n",
    "\n",
    "from selenium.webdriver import Chrome, ActionChains, Keys\n",
    "location = input(\"여행지를 입력하세요.\")\n",
    "url = f'https://search-travel.interpark.com/search?q={location}&cateCode=tourE'\n",
    "\n",
    "driver = Chrome()\n",
    "driver.maximize_window()\n",
    "driver.get(url)\n",
    "time.sleep(2)\n",
    "\n",
    "items = driver.find_elements(By.CSS_SELECTOR, '.boxItem')\n",
    "total = driver.find_element(By.XPATH, '//*[@id=\"app\"]/div/div[1]/div/div[3]/div[2]/div[1]/h4/span').text\n",
    "total = int(total.replace(\"(\", \"\").replace(\")\", \"\").strip())\n",
    "print(total)\n",
    "\n",
    "for page_num in range(1, total // 10 + 2):\n",
    "    if page_num != 1:\n",
    "        driver.find_element(By.XPATH, f'//*[@id=\"app\"]/div/div[1]/div/div[3]/div[2]/div[2]/ul/li[{page_num}]').click()\n",
    "        driver.execute_script('window.scrollTo(0, 300);')\n",
    "    for item in items:\n",
    "        print(item.find_element(By.CLASS_NAME, 'infoTitle').text)\n",
    "        print(item.find_element(By.CLASS_NAME, 'infoFlightWay').text)\n",
    "        print(item.find_element(By.CSS_SELECTOR, 'div.productInfo > p:nth-child(3)').text)\n",
    "        print(item.find_element(By.CSS_SELECTOR, '.final > strong').text)\n",
    "    time.sleep(1)\n",
    "    "
   ]
  }
 ],
 "metadata": {
  "kernelspec": {
   "display_name": "Python 3",
   "language": "python",
   "name": "python3"
  },
  "language_info": {
   "codemirror_mode": {
    "name": "ipython",
    "version": 2
   },
   "file_extension": ".py",
   "mimetype": "text/x-python",
   "name": "python",
   "nbconvert_exporter": "python",
   "pygments_lexer": "ipython2",
   "version": "2.7.6"
  }
 },
 "nbformat": 4,
 "nbformat_minor": 5
}

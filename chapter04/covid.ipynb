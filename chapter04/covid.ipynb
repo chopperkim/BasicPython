{
 "cells": [
  {
   "cell_type": "code",
   "execution_count": 27,
   "id": "initial_id",
   "metadata": {
    "collapsed": true,
    "ExecuteTime": {
     "end_time": "2023-12-11T01:07:13.405718620Z",
     "start_time": "2023-12-11T01:07:01.723031134Z"
    }
   },
   "outputs": [
    {
     "name": "stdout",
     "output_type": "stream",
     "text": [
      "{'11.5. ~ 11.11.': '6,221', '11.12. ~ 11.18.': '6,165', '11.19. ~ 11.25.': '6,996', '11.26. ~ 12.2.': '6,574'}\n"
     ]
    }
   ],
   "source": [
    "from selenium import webdriver\n",
    "from selenium.webdriver.common.by import By\n",
    "import time\n",
    "\n",
    "from selenium.webdriver import Chrome\n",
    "\n",
    "options = webdriver.ChromeOptions()\n",
    "# options.add_argument('--headless')  # 브라우저 창이 안나타남\n",
    "driver = Chrome(options=options) # java에서 new Chrome()와 유사한 코드\n",
    "# driver.maximize_window()    # 창 전체 크기로 시작\n",
    "url = 'https://ncov.kdca.go.kr'\n",
    "driver.get(url)\n",
    "time.sleep(2) # java에서는 Thread.sleep(3000)와 유사한 코드\n",
    "driver.implicitly_wait(3)\n",
    "\n",
    "driver.find_element(By.XPATH, '//*[@id=\"header\"]/div/div[2]/a[2]').click()\n",
    "time.sleep(2)\n",
    "driver.find_element(By.XPATH, '/html/body/div/div[4]/div/div[2]/div/ul/li[1]/a').click()\n",
    "time.sleep(2)\n",
    "driver.find_element(By.XPATH, '/html/body/div/div[4]/div/div[2]/div/ul/li[1]/div/ul/li[1]/a').click()\n",
    "time.sleep(3)\n",
    "\n",
    "data = {}\n",
    "weeks = driver.find_element(By.XPATH, '//*[@id=\"content\"]/div/div[2]/table/thead/tr')\n",
    "positives = driver.find_element(By.XPATH, '//*[@id=\"content\"]/div/div[2]/table/tbody/tr')\n",
    "\n",
    "for i in range(2, 6):\n",
    "    week, positive = (weeks.find_element(By.XPATH, f'//*[@id=\"content\"]/div/div[2]/table/thead/tr/th[{i}]'),\n",
    "               positives.find_element(By.XPATH, f'//*[@id=\"content\"]/div/div[2]/table/tbody/tr/td[{i-1}]'))\n",
    "    data[week.text] = positive.text\n",
    "\n",
    "print(data)\n"
   ]
  }
 ],
 "metadata": {
  "kernelspec": {
   "display_name": "Python 3",
   "language": "python",
   "name": "python3"
  },
  "language_info": {
   "codemirror_mode": {
    "name": "ipython",
    "version": 2
   },
   "file_extension": ".py",
   "mimetype": "text/x-python",
   "name": "python",
   "nbconvert_exporter": "python",
   "pygments_lexer": "ipython2",
   "version": "2.7.6"
  }
 },
 "nbformat": 4,
 "nbformat_minor": 5
}

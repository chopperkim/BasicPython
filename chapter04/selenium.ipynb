{
 "cells": [
  {
   "cell_type": "code",
   "execution_count": 9,
   "id": "initial_id",
   "metadata": {
    "collapsed": true,
    "ExecuteTime": {
     "end_time": "2023-12-08T08:08:59.895286945Z",
     "start_time": "2023-12-08T08:08:56.078660363Z"
    }
   },
   "outputs": [],
   "source": [
    "import time\n",
    "\n",
    "from selenium.webdriver import Keys\n",
    "from selenium.webdriver.common.by import By\n",
    "# selenium\n",
    "from selenium import webdriver\n",
    "\n",
    "driver = webdriver.Chrome()\n",
    "url = 'http://ncov.kdca.go.kr'\n",
    "driver.get(url)\n",
    "\n",
    "driver.find_element(By.XPATH, '//*[@id=\"header\"]/div/div[2]/a[1]').click()\n",
    "# 1초를 기다린다.\n",
    "# driver.implicitly_wait(3)\n",
    "time.sleep(1)\n",
    "\n",
    "search = driver.find_element(By.XPATH, '//*[@id=\"searchTermMobile123\"]')\n",
    "search.click()\n",
    "search.send_keys('백신')\n",
    "search.send_keys(Keys.ENTER)\n",
    "# driver.find_element(By.XPATH, '//*[@id=\"btnHeaderInput\"]').click()\n"
   ]
  },
  {
   "cell_type": "code",
   "execution_count": 11,
   "outputs": [],
   "source": [
    "# Daum 사이트 로그인\n",
    "driver = webdriver.Chrome()\n",
    "url = 'https://accounts.kakao.com/login/?continue=https%3A%2F%2Flogins.daum.net%2Faccounts%2Fksso.do%3Frescue%3Dtrue%26url%3Dhttps%253A%252F%252Fwww.daum.net#login'\n",
    "driver.get(url)\n",
    "user_id = driver.find_element(By.XPATH, '//*[@id=\"loginId--1\"]')\n",
    "user_pw = driver.find_element(By.XPATH, '//*[@id=\"password--2\"]')\n",
    "login_btn = driver.find_element(By.XPATH, '//*[@id=\"mainContent\"]/div/div/form/div[4]/button[1]')\n",
    "user_id.send_keys('chopperkim@kakao.com')\n",
    "login_btn.click()"
   ],
   "metadata": {
    "collapsed": false,
    "ExecuteTime": {
     "end_time": "2023-12-08T08:16:49.590783023Z",
     "start_time": "2023-12-08T08:16:47.931974500Z"
    }
   },
   "id": "1ec367af9ba1be80"
  },
  {
   "cell_type": "code",
   "execution_count": 13,
   "outputs": [],
   "source": [
    "driver = webdriver.Chrome()\n",
    "url = 'https://www.costco.co.kr/login'\n",
    "driver.get(url)\n",
    "\n",
    "time.sleep(2)\n",
    "id = driver.find_element(By.XPATH, '//*[@id=\"j_username\"]')\n",
    "pw = driver.find_element(By.XPATH, '//*[@id=\"j_password\"]')\n",
    "btn = driver.find_element(By.XPATH, '//*[@id=\"loginSubmit\"]')\n",
    "id.send_keys('chocojhkim@hanmail.net')\n",
    "btn.click()"
   ],
   "metadata": {
    "collapsed": false,
    "ExecuteTime": {
     "end_time": "2023-12-08T08:21:02.455493806Z",
     "start_time": "2023-12-08T08:20:56.051048329Z"
    }
   },
   "id": "a3f2ec6082634345"
  },
  {
   "cell_type": "code",
   "execution_count": 15,
   "outputs": [],
   "source": [
    "driver = webdriver.Chrome()\n",
    "url = 'https://naver.com'\n",
    "driver.get(url)\n",
    "search = driver.find_element(By.XPATH, '//*[@id=\"query\"]')\n",
    "search.send_keys('피자')\n",
    "search.send_keys(Keys.ENTER)\n",
    "\n",
    "driver.implicitly_wait(5)\n",
    "\n",
    "shopping = driver.find_element(By.XPATH, '//*[@id=\"main_pack\"]/section[1]/div[1]/div[3]/div[1]/div[1]/ul')\n",
    "\n",
    "list = shopping.find_elements(By.CSS_SELECTOR, '#main_pack > section.sc_new.sp_nshop._shopping_root > div:nth-child(1) > div.shop_guide_group._content_root > div:nth-child(1) > div.shop_list_divide._page._ad._calledAdLog > ul > li.box._ad._calledAdVisibleLog > div > div > a')\n",
    "for item in list:\n",
    "    print(item)\n"
   ],
   "metadata": {
    "collapsed": false,
    "ExecuteTime": {
     "end_time": "2023-12-08T08:38:53.867118355Z",
     "start_time": "2023-12-08T08:38:43.845506732Z"
    }
   },
   "id": "9aed1c2da3314574"
  }
 ],
 "metadata": {
  "kernelspec": {
   "display_name": "Python 3",
   "language": "python",
   "name": "python3"
  },
  "language_info": {
   "codemirror_mode": {
    "name": "ipython",
    "version": 2
   },
   "file_extension": ".py",
   "mimetype": "text/x-python",
   "name": "python",
   "nbconvert_exporter": "python",
   "pygments_lexer": "ipython2",
   "version": "2.7.6"
  }
 },
 "nbformat": 4,
 "nbformat_minor": 5
}

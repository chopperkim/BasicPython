{
 "cells": [
  {
   "cell_type": "code",
   "execution_count": 9,
   "id": "initial_id",
   "metadata": {
    "collapsed": true,
    "ExecuteTime": {
     "end_time": "2023-12-07T05:38:39.197879724Z",
     "start_time": "2023-12-07T05:38:39.192896327Z"
    }
   },
   "outputs": [
    {
     "name": "stdout",
     "output_type": "stream",
     "text": [
      "[['이름', '국어', '영어', '수학'], ['철수', '100', '90', '80'], ['영수', '90', '95', '75'], ['영희', '85', '40', '95']]\n"
     ]
    }
   ],
   "source": [
    "f = open('dataset/score.csv', 'r', encoding='utf-8')\n",
    "scores = []\n",
    "for line in f:\n",
    "    score = line.strip().split(',')\n",
    "    scores.append(score)\n",
    "\n",
    "print(scores)"
   ]
  },
  {
   "cell_type": "code",
   "execution_count": 14,
   "outputs": [
    {
     "name": "stdout",
     "output_type": "stream",
     "text": [
      "<_csv.reader object at 0x7f13e4794510>\n",
      "['이름', '국어', '영어', '수학']\n",
      "['철수', '100', '90', '80']\n",
      "['영수', '90', '95', '75']\n",
      "['영희', '85', '40', '95']\n"
     ]
    }
   ],
   "source": [
    "import csv\n",
    "\n",
    "f = open('dataset/score.csv', 'r', encoding='utf-8')\n",
    "reader = csv.reader(f)\n",
    "for line in reader:\n",
    "    print(line)\n",
    "f.close()"
   ],
   "metadata": {
    "collapsed": false,
    "ExecuteTime": {
     "end_time": "2023-12-07T05:48:03.437508764Z",
     "start_time": "2023-12-07T05:48:03.396191877Z"
    }
   },
   "id": "7ed9c2ca36be4a16"
  },
  {
   "cell_type": "code",
   "execution_count": 15,
   "outputs": [
    {
     "name": "stdout",
     "output_type": "stream",
     "text": [
      "['이름', '국어', '영어', '수학']\n",
      "['철수', '100', '90', '80']\n",
      "['영수', '90', '95', '75']\n",
      "['영희', '85', '40', '95']\n"
     ]
    }
   ],
   "source": [
    "with open('dataset/score.csv', 'r', encoding='utf-8') as f:\n",
    "    reader = csv.reader(f)\n",
    "    for score in reader:\n",
    "        print(score)\n"
   ],
   "metadata": {
    "collapsed": false,
    "ExecuteTime": {
     "end_time": "2023-12-07T06:19:02.942669363Z",
     "start_time": "2023-12-07T06:19:02.890143096Z"
    }
   },
   "id": "18146456522a5d74"
  },
  {
   "cell_type": "code",
   "execution_count": 20,
   "outputs": [],
   "source": [
    "# csv 라이브러리를 이용하여 파일 작성하기\n",
    "with open('dataset/write.csv', 'w', encoding='utf-8', newline='') as f:\n",
    "    writer = csv.writer(f)\n",
    "    writer.writerow(['ID', '이름', '상징색', '취미', '특징'])\n",
    "    writer.writerow(['001', '뽀로로', '파랑색', '낚시', '펭귄'])\n",
    "    writer.writerow(['002', '에디', '주황색', '과학실험', '사막여우'])\n",
    "    writer.writerow(['003', '크롱', '초록색', '눈싸움', '공룡'])\n",
    "    writer.writerow(['004', '루피', '분홍색', '요리', '비버'])\n",
    "    writer.writerow(['005', '패티', '보라색', '운동', '펭귄'])"
   ],
   "metadata": {
    "collapsed": false,
    "ExecuteTime": {
     "end_time": "2023-12-07T06:30:16.872452486Z",
     "start_time": "2023-12-07T06:30:16.867426798Z"
    }
   },
   "id": "5d7125d97ee098af"
  },
  {
   "cell_type": "code",
   "execution_count": 22,
   "outputs": [],
   "source": [
    "# 데이터 추가하기\n",
    "with open('dataset/write.csv', 'a', encoding='utf-8', newline='') as f:\n",
    "    writer = csv.writer(f)\n",
    "    writer.writerow(['006', '포비', '흰색', '춤', '북극곰'])\n"
   ],
   "metadata": {
    "collapsed": false,
    "ExecuteTime": {
     "end_time": "2023-12-07T06:30:23.902226529Z",
     "start_time": "2023-12-07T06:30:23.899101160Z"
    }
   },
   "id": "a7e02206d3d57f88"
  },
  {
   "cell_type": "code",
   "execution_count": 23,
   "outputs": [],
   "source": [
    "with open('dataset/weather.csv', 'w', newline='') as f:\n",
    "    writer = csv.writer(f)\n",
    "    writer.writerow(['날짜', '요일', '날씨', '최저기온', '최고기온', '강수량'])\n",
    "    writer.writerow(['20230101', '월', '맑음', -4.3, 3.8, 0])\n",
    "    writer.writerow(['20230102', '화', '맑음', -7.4, 0.4, 0])\n",
    "    writer.writerow(['20230103', '수', '맑음', -9.0, 0.6, 0])"
   ],
   "metadata": {
    "collapsed": false,
    "ExecuteTime": {
     "end_time": "2023-12-07T06:54:04.304598552Z",
     "start_time": "2023-12-07T06:54:04.256577564Z"
    }
   },
   "id": "3da80925f628b530"
  }
 ],
 "metadata": {
  "kernelspec": {
   "display_name": "Python 3",
   "language": "python",
   "name": "python3"
  },
  "language_info": {
   "codemirror_mode": {
    "name": "ipython",
    "version": 2
   },
   "file_extension": ".py",
   "mimetype": "text/x-python",
   "name": "python",
   "nbconvert_exporter": "python",
   "pygments_lexer": "ipython2",
   "version": "2.7.6"
  }
 },
 "nbformat": 4,
 "nbformat_minor": 5
}

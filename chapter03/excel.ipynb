{
 "cells": [
  {
   "cell_type": "code",
   "execution_count": 2,
   "id": "initial_id",
   "metadata": {
    "collapsed": true,
    "ExecuteTime": {
     "end_time": "2023-12-07T07:10:04.893274833Z",
     "start_time": "2023-12-07T07:10:04.849767598Z"
    }
   },
   "outputs": [
    {
     "name": "stdout",
     "output_type": "stream",
     "text": [
      "['시트1']\n"
     ]
    }
   ],
   "source": [
    "import csv\n",
    "\n",
    "import openpyxl\n",
    "\n",
    "workbook = openpyxl.load_workbook('dataset/characters.xlsx')\n",
    "print(workbook.sheetnames)"
   ]
  },
  {
   "cell_type": "code",
   "execution_count": 3,
   "outputs": [
    {
     "name": "stdout",
     "output_type": "stream",
     "text": [
      "1\n"
     ]
    }
   ],
   "source": [
    "sheet1 = workbook['시트1']\n",
    "print(sheet1['A1'].value)"
   ],
   "metadata": {
    "collapsed": false,
    "ExecuteTime": {
     "end_time": "2023-12-07T07:11:13.129002315Z",
     "start_time": "2023-12-07T07:11:13.081329879Z"
    }
   },
   "id": "bed3e2bdee547a68"
  },
  {
   "cell_type": "code",
   "execution_count": 4,
   "outputs": [
    {
     "name": "stdout",
     "output_type": "stream",
     "text": [
      "뽀로로\n"
     ]
    }
   ],
   "source": [
    "print(sheet1['B1'].value)"
   ],
   "metadata": {
    "collapsed": false,
    "ExecuteTime": {
     "end_time": "2023-12-07T07:11:26.095985806Z",
     "start_time": "2023-12-07T07:11:26.057185408Z"
    }
   },
   "id": "7672255ff587587e"
  },
  {
   "cell_type": "code",
   "execution_count": 13,
   "outputs": [
    {
     "name": "stdout",
     "output_type": "stream",
     "text": [
      "1\n",
      "뽀로로\n",
      "파랑색\n",
      "낚시\n",
      "펭귄\n",
      "\n",
      "2\n",
      "에디\n",
      "주황색\n",
      "과학실험\n",
      "사막여우\n",
      "\n",
      "3\n",
      "크롱\n",
      "초록색\n",
      "눈싸움\n",
      "공룡\n",
      "\n",
      "4\n",
      "루피\n",
      "분홍색\n",
      "요리\n",
      "비버\n",
      "\n",
      "5\n",
      "패티\n",
      "보라색\n",
      "운동\n",
      "펭귄\n",
      "\n",
      "6\n",
      "포비\n",
      "흰색\n",
      "춤\n",
      "북극곰\n"
     ]
    }
   ],
   "source": [
    "for line in sheet1:\n",
    "    for cell in line:\n",
    "        print(cell.value)\n",
    "    print()"
   ],
   "metadata": {
    "collapsed": false,
    "ExecuteTime": {
     "end_time": "2023-12-07T07:14:18.537687870Z",
     "start_time": "2023-12-07T07:14:18.496285320Z"
    }
   },
   "id": "6b0e88f5b09f482c"
  },
  {
   "cell_type": "code",
   "execution_count": 23,
   "outputs": [
    {
     "name": "stdout",
     "output_type": "stream",
     "text": [
      "['Sheet']\n",
      "['Sheet', 'Sheet2']\n"
     ]
    }
   ],
   "source": [
    "# 엑셀 파일 만들기\n",
    "wb = openpyxl.Workbook()\n",
    "print(wb.sheetnames)\n",
    "wb.create_sheet('Sheet2')\n",
    "print(wb.sheetnames)"
   ],
   "metadata": {
    "collapsed": false,
    "ExecuteTime": {
     "end_time": "2023-12-07T07:53:30.481182892Z",
     "start_time": "2023-12-07T07:53:30.437682245Z"
    }
   },
   "id": "ef6388d9227d7fdd"
  },
  {
   "cell_type": "code",
   "execution_count": 24,
   "outputs": [
    {
     "name": "stdout",
     "output_type": "stream",
     "text": [
      "['캐릭터 명단', '인기도 조사']\n"
     ]
    }
   ],
   "source": [
    "sheet1 = wb['Sheet']\n",
    "sheet2 = wb['Sheet2']\n",
    "sheet1.title = '캐릭터 명단'\n",
    "sheet2.title = '인기도 조사'\n",
    "print(wb.sheetnames)"
   ],
   "metadata": {
    "collapsed": false,
    "ExecuteTime": {
     "end_time": "2023-12-07T07:53:32.347019474Z",
     "start_time": "2023-12-07T07:53:32.334238122Z"
    }
   },
   "id": "f2f936d0f07cd861"
  },
  {
   "cell_type": "code",
   "execution_count": 27,
   "outputs": [],
   "source": [
    "sheet2['B1'] = '인기도 조사 결과'\n",
    "sheet2.merge_cells('B1:D1')\n",
    "sheet2.append(['성명', '나이', '휴대전화번호', '주소'])\n",
    "wb.save('dataset/complete.xlsx')\n"
   ],
   "metadata": {
    "collapsed": false,
    "ExecuteTime": {
     "end_time": "2023-12-07T07:59:17.705098001Z",
     "start_time": "2023-12-07T07:59:17.663645923Z"
    }
   },
   "id": "ebaf8e4b2be3c079"
  },
  {
   "cell_type": "code",
   "execution_count": 3,
   "outputs": [],
   "source": [
    "import openpyxl\n",
    "import csv\n",
    "wb = openpyxl.Workbook()\n",
    "ws = wb.active\n",
    "\n",
    "with open('dataset/data1.csv', 'r', encoding='cp949') as f:\n",
    "    reader = csv.reader(f)\n",
    "    for row in reader:\n",
    "        ws.append(row)\n",
    "ws.title = '서울특별시_지하철 혼잡도 정보'\n",
    "wb.save('dataset/traffic.xlsx')"
   ],
   "metadata": {
    "collapsed": false,
    "ExecuteTime": {
     "end_time": "2023-12-07T08:39:09.112015445Z",
     "start_time": "2023-12-07T08:39:07.989940732Z"
    }
   },
   "id": "6f1831c8574b3cff"
  },
  {
   "cell_type": "code",
   "execution_count": null,
   "outputs": [],
   "source": [],
   "metadata": {
    "collapsed": false
   },
   "id": "b3da98cc8e22ee9b"
  }
 ],
 "metadata": {
  "kernelspec": {
   "display_name": "Python 3",
   "language": "python",
   "name": "python3"
  },
  "language_info": {
   "codemirror_mode": {
    "name": "ipython",
    "version": 2
   },
   "file_extension": ".py",
   "mimetype": "text/x-python",
   "name": "python",
   "nbconvert_exporter": "python",
   "pygments_lexer": "ipython2",
   "version": "2.7.6"
  }
 },
 "nbformat": 4,
 "nbformat_minor": 5
}

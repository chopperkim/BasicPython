{
 "cells": [
  {
   "cell_type": "code",
   "execution_count": 7,
   "id": "initial_id",
   "metadata": {
    "collapsed": true,
    "ExecuteTime": {
     "end_time": "2023-12-05T05:03:16.076413650Z",
     "start_time": "2023-12-05T05:03:13.953020686Z"
    }
   },
   "outputs": [
    {
     "name": "stdout",
     "output_type": "stream",
     "text": [
      "Right!\n",
      "a is not 3\n"
     ]
    }
   ],
   "source": [
    "a = input(\"값을 입력하세요.\")\n",
    "a = int(a)\n",
    "if a == 5:\n",
    "    print(\"Right!\")\n",
    "    print(\"a is 5\")\n",
    "if a == 3:\n",
    "    print(\"Right!\")\n",
    "    print(\"a is 3\")\n",
    "if a != 3:\n",
    "    print(\"Right!\")\n",
    "    print(\"a is not 3\")"
   ]
  },
  {
   "cell_type": "code",
   "execution_count": 9,
   "outputs": [
    {
     "name": "stdout",
     "output_type": "stream",
     "text": [
      "a is not 5\n"
     ]
    }
   ],
   "source": [
    "b = int(input(\"숫자를 입력하세요.\"))\n",
    "if b == 5:\n",
    "    print(\"Right!\")\n",
    "    print(\"a is 5\")\n",
    "else:\n",
    "    print(\"a is not 5\")"
   ],
   "metadata": {
    "collapsed": false,
    "ExecuteTime": {
     "end_time": "2023-12-05T05:05:21.645765950Z",
     "start_time": "2023-12-05T05:05:19.956793060Z"
    }
   },
   "id": "cbf273a4c4925d42"
  },
  {
   "cell_type": "code",
   "execution_count": 15,
   "outputs": [
    {
     "name": "stdout",
     "output_type": "stream",
     "text": [
      "a is smaller than 5\n"
     ]
    }
   ],
   "source": [
    "c = int(input(\"숫자를 입력하세요.\"))\n",
    "if c < 5:\n",
    "    print(\"a is smaller than 5\")\n",
    "elif c > 5:\n",
    "    print(\"a is larger than 5\")\n",
    "else:\n",
    "    print(\"a is 5\")"
   ],
   "metadata": {
    "collapsed": false,
    "ExecuteTime": {
     "end_time": "2023-12-05T05:07:55.638865425Z",
     "start_time": "2023-12-05T05:07:54.896370473Z"
    }
   },
   "id": "d298ce8a79b119"
  },
  {
   "cell_type": "code",
   "execution_count": 16,
   "outputs": [
    {
     "name": "stdout",
     "output_type": "stream",
     "text": [
      "짝수\n"
     ]
    }
   ],
   "source": [
    "# a가 19이고 b가 12일 때, a * b * 3이 짝수이면 \"짝수\"를 출력하고, 홀수이면 \"홀수\"를 출력하는 코드를 작성하시오.\n",
    "a = 19\n",
    "b = 12\n",
    "if (a * b * 3) % 2 == 0:\n",
    "    print(\"짝수\")\n",
    "else:\n",
    "    print(\"홀수\")\n"
   ],
   "metadata": {
    "collapsed": false,
    "ExecuteTime": {
     "end_time": "2023-12-05T05:19:57.952355363Z",
     "start_time": "2023-12-05T05:19:57.945410311Z"
    }
   },
   "id": "d26ae4559b8764e2"
  },
  {
   "cell_type": "code",
   "execution_count": 22,
   "outputs": [
    {
     "name": "stdout",
     "output_type": "stream",
     "text": [
      "5 * 1 = 5\n",
      "5 * 2 = 10\n",
      "5 * 3 = 15\n",
      "5 * 4 = 20\n",
      "5 * 5 = 25\n",
      "5 * 6 = 30\n",
      "5 * 7 = 35\n",
      "5 * 8 = 40\n",
      "5 * 9 = 45\n"
     ]
    }
   ],
   "source": [
    "#구구단 출력\n",
    "dan = 5\n",
    "i = 1\n",
    "\n",
    "while i <= 9:\n",
    "    # print(str(dan) + ' * ' + str(i) + ' = ' + str(dan * i))\n",
    "    # 0. % operator를 사용\n",
    "    \n",
    "    # 1. str.format()을 사용 python 3 이상 가능\n",
    "    # print(\"{0} * {1} = {2}\".format(dan, i, dan * i))\n",
    "    # 2. f-string을 사용 python 3.6 이상부터 가능\n",
    "    print(f\"{dan} * {i} = {dan * i}\")\n",
    "    i += 1"
   ],
   "metadata": {
    "collapsed": false,
    "ExecuteTime": {
     "end_time": "2023-12-05T05:34:07.574359185Z",
     "start_time": "2023-12-05T05:34:07.545077547Z"
    }
   },
   "id": "c550d43ea9844d8c"
  },
  {
   "cell_type": "code",
   "execution_count": 24,
   "outputs": [
    {
     "name": "stdout",
     "output_type": "stream",
     "text": [
      "7 * 1 = 7\n",
      "7 * 3 = 21\n",
      "7 * 5 = 35\n",
      "7 * 7 = 49\n",
      "7 * 9 = 63\n"
     ]
    }
   ],
   "source": [
    "# range(10) => 0부터 9까지\n",
    "dan = 7\n",
    "for i in range(1, 10, 2):  #range(start, end)는 start는 포함하고 end는 포함하지 않는다.\n",
    "    print(f\"{dan} * {i} = {dan * i}\")\n"
   ],
   "metadata": {
    "collapsed": false,
    "ExecuteTime": {
     "end_time": "2023-12-05T05:39:04.199910963Z",
     "start_time": "2023-12-05T05:39:04.194294374Z"
    }
   },
   "id": "7bf62b6ed14f9037"
  },
  {
   "cell_type": "code",
   "execution_count": 26,
   "outputs": [
    {
     "name": "stdout",
     "output_type": "stream",
     "text": [
      "2550\n"
     ]
    }
   ],
   "source": [
    "# 1부터 100까지의 짝수의 합을 구하시오.\n",
    "sum = 0\n",
    "for i in range(0, 101, 2):\n",
    "    sum += i\n",
    "\n",
    "print(sum)"
   ],
   "metadata": {
    "collapsed": false,
    "ExecuteTime": {
     "end_time": "2023-12-05T06:11:12.386383090Z",
     "start_time": "2023-12-05T06:11:12.342362992Z"
    }
   },
   "id": "504b2d880b70ce7b"
  }
 ],
 "metadata": {
  "kernelspec": {
   "display_name": "Python 3",
   "language": "python",
   "name": "python3"
  },
  "language_info": {
   "codemirror_mode": {
    "name": "ipython",
    "version": 2
   },
   "file_extension": ".py",
   "mimetype": "text/x-python",
   "name": "python",
   "nbconvert_exporter": "python",
   "pygments_lexer": "ipython2",
   "version": "2.7.6"
  }
 },
 "nbformat": 4,
 "nbformat_minor": 5
}

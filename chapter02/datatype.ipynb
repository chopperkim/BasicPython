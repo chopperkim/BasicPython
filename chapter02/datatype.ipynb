{
 "cells": [
  {
   "cell_type": "code",
   "execution_count": 5,
   "id": "initial_id",
   "metadata": {
    "collapsed": true,
    "ExecuteTime": {
     "end_time": "2023-12-05T07:24:52.209290562Z",
     "start_time": "2023-12-05T07:24:52.167617645Z"
    }
   },
   "outputs": [
    {
     "name": "stdout",
     "output_type": "stream",
     "text": [
      "12300.0\n",
      "0 <class 'int'>\n"
     ]
    }
   ],
   "source": [
    "integer_1 = 3214\n",
    "integer_2 = -128109\n",
    "float_1 = -1.986214\n",
    "float_2 = 123.e2 # 123.0 * 10^2\n",
    "print(float_2)\n",
    "print(10 // 20, type(10 // 20))"
   ]
  },
  {
   "cell_type": "code",
   "execution_count": 6,
   "outputs": [],
   "source": [
    "strings_1 = 'This is String!'\n",
    "strings_2 = \"This is String!\"\n",
    "strings_3 = '''This is String!'''\n",
    "strings_4 = \"\"\"This is String!\"\"\"\n",
    "strings_5 = \"\"\"\n",
    "안녕하세요.\n",
    "오늘은 화요일입니다.\n",
    "드디어 오후 4시 30분이 다가옵니다.\n",
    "\"\"\"\n",
    "strings_5 += \"abc\"\n",
    "strings_5 += \"def\"\n",
    "strings_5 += \"ghi\"\n",
    "strings_5 += \"jkl\"\n"
   ],
   "metadata": {
    "collapsed": false,
    "ExecuteTime": {
     "end_time": "2023-12-05T07:27:14.333300982Z",
     "start_time": "2023-12-05T07:27:14.290352397Z"
    }
   },
   "id": "beddaee3b47886b7"
  },
  {
   "cell_type": "code",
   "execution_count": 7,
   "outputs": [],
   "source": [
    "bool_1 = True\n",
    "bool_2 = False"
   ],
   "metadata": {
    "collapsed": false,
    "ExecuteTime": {
     "end_time": "2023-12-05T07:30:15.125075390Z",
     "start_time": "2023-12-05T07:30:15.080188786Z"
    }
   },
   "id": "82fdc20ef4f8f8e8"
  },
  {
   "cell_type": "code",
   "execution_count": 9,
   "outputs": [
    {
     "name": "stdout",
     "output_type": "stream",
     "text": [
      "3\n"
     ]
    },
    {
     "ename": "TypeError",
     "evalue": "'tuple' object does not support item assignment",
     "output_type": "error",
     "traceback": [
      "\u001B[0;31m---------------------------------------------------------------------------\u001B[0m",
      "\u001B[0;31mTypeError\u001B[0m                                 Traceback (most recent call last)",
      "Cell \u001B[0;32mIn[9], line 8\u001B[0m\n\u001B[1;32m      6\u001B[0m tuple_4 \u001B[38;5;241m=\u001B[39m \u001B[38;5;124m'\u001B[39m\u001B[38;5;124m파이썬\u001B[39m\u001B[38;5;124m'\u001B[39m, (\u001B[38;5;241m1000\u001B[39m, \u001B[38;5;124m'\u001B[39m\u001B[38;5;124m만큼\u001B[39m\u001B[38;5;124m'\u001B[39m, \u001B[38;5;124m'\u001B[39m\u001B[38;5;124m쉬워\u001B[39m\u001B[38;5;124m'\u001B[39m), \u001B[38;5;28;01mFalse\u001B[39;00m\n\u001B[1;32m      7\u001B[0m \u001B[38;5;28mprint\u001B[39m(tuple_1[\u001B[38;5;241m2\u001B[39m])\n\u001B[0;32m----> 8\u001B[0m \u001B[43mtuple_1\u001B[49m\u001B[43m[\u001B[49m\u001B[38;5;241;43m3\u001B[39;49m\u001B[43m]\u001B[49m \u001B[38;5;241m=\u001B[39m \u001B[38;5;241m400\u001B[39m\n\u001B[1;32m      9\u001B[0m \u001B[38;5;28mprint\u001B[39m(tuple_1[\u001B[38;5;241m3\u001B[39m])\n",
      "\u001B[0;31mTypeError\u001B[0m: 'tuple' object does not support item assignment"
     ]
    }
   ],
   "source": [
    "# Tuple: 순서가 있는 데이터의 목록으로 값을 변경할 수 없다.\n",
    "# 기호는 소괄호()로 표현한다.\n",
    "tuple_1 = 1, 2, 3, 4, 5\n",
    "tuple_2 = ('가', '나', '다', '라', '마')\n",
    "tuple_3 = '파이썬', 1000, False\n",
    "tuple_4 = '파이썬', (1000, '만큼', '쉬워'), False\n",
    "print(tuple_1[2])\n",
    "tuple_1[3] = 400\n",
    "print(tuple_1[3])"
   ],
   "metadata": {
    "collapsed": false,
    "ExecuteTime": {
     "end_time": "2023-12-05T07:36:31.189613404Z",
     "start_time": "2023-12-05T07:36:30.977031512Z"
    }
   },
   "id": "bd43bfa155749268"
  },
  {
   "cell_type": "code",
   "execution_count": 10,
   "outputs": [
    {
     "name": "stdout",
     "output_type": "stream",
     "text": [
      "가\n",
      "나\n",
      "다\n",
      "라\n",
      "마\n"
     ]
    }
   ],
   "source": [
    "for word in tuple_2:\n",
    "    print(word)"
   ],
   "metadata": {
    "collapsed": false,
    "ExecuteTime": {
     "end_time": "2023-12-05T07:38:03.349433307Z",
     "start_time": "2023-12-05T07:38:03.308882074Z"
    }
   },
   "id": "15adb854e9fd7073"
  },
  {
   "cell_type": "code",
   "execution_count": 12,
   "outputs": [
    {
     "name": "stdout",
     "output_type": "stream",
     "text": [
      "5\n"
     ]
    }
   ],
   "source": [
    "print(len(tuple_1))"
   ],
   "metadata": {
    "collapsed": false,
    "ExecuteTime": {
     "end_time": "2023-12-05T07:39:09.653298532Z",
     "start_time": "2023-12-05T07:39:09.605284839Z"
    }
   },
   "id": "4bb4a7cc561189c6"
  },
  {
   "cell_type": "code",
   "execution_count": 16,
   "outputs": [
    {
     "data": {
      "text/plain": "'웨스 맥키니'"
     },
     "execution_count": 16,
     "metadata": {},
     "output_type": "execute_result"
    }
   ],
   "source": [
    "my_book = 2019, 'Python for Data Analysis', '웨스 맥키니', 664\n",
    "year, title, author, pages = my_book"
   ],
   "metadata": {
    "collapsed": false,
    "ExecuteTime": {
     "end_time": "2023-12-05T07:57:48.253313441Z",
     "start_time": "2023-12-05T07:57:48.234725199Z"
    }
   },
   "id": "b2d1647da2248ca"
  },
  {
   "cell_type": "code",
   "execution_count": 17,
   "outputs": [
    {
     "name": "stdout",
     "output_type": "stream",
     "text": [
      "{False, 1, 2, 3, '다', '가', '나'}\n",
      "{False, 1, 2, 3, '다', '가', '나'}\n",
      "{False, 1, 2, 3, '다', '가', '나'}\n"
     ]
    }
   ],
   "source": [
    "# Set(집합): 순서가 없으며 중복 데이터가 존재하지 않는다.\n",
    "# 중괄호{}로 표현\n",
    "set1 = {1, 2, 3, '가', '나', '다', False, 2, '다', False}\n",
    "set2 = set({1, 2, 3, '가', '나', '다', False, 2, '다', False})\n",
    "set3 = set([1, 2, 3, '가', '나', '다', False, 2, '다', False])\n",
    "print(set1)\n",
    "print(set2)\n",
    "print(set3)"
   ],
   "metadata": {
    "collapsed": false,
    "ExecuteTime": {
     "end_time": "2023-12-05T08:09:15.412528778Z",
     "start_time": "2023-12-05T08:09:15.363759819Z"
    }
   },
   "id": "bfa25d9501797501"
  },
  {
   "cell_type": "code",
   "execution_count": 18,
   "outputs": [
    {
     "name": "stdout",
     "output_type": "stream",
     "text": [
      "{0, 1, 2, 3, 4, 5, 6, 7, 8, 9}\n"
     ]
    }
   ],
   "source": [
    "arr = [1, 2, 3, 4, 2, 3, 6, 2, 7, 1, 9, 8, 3, 8, 5, 6, 7, 3, 2, 0]\n",
    "set_arr = set(arr)\n",
    "print(set_arr)"
   ],
   "metadata": {
    "collapsed": false,
    "ExecuteTime": {
     "end_time": "2023-12-05T08:11:26.589357852Z",
     "start_time": "2023-12-05T08:11:26.543411540Z"
    }
   },
   "id": "9c31b8c093fbcacb"
  },
  {
   "cell_type": "code",
   "execution_count": null,
   "outputs": [],
   "source": [
    "set_arr.add(10)\n",
    "set_arr"
   ],
   "metadata": {
    "collapsed": false
   },
   "id": "2eebe4e30aa5b396"
  },
  {
   "cell_type": "code",
   "execution_count": 20,
   "outputs": [],
   "source": [
    "set_arr.remove(4)"
   ],
   "metadata": {
    "collapsed": false,
    "ExecuteTime": {
     "end_time": "2023-12-05T08:12:17.459795569Z",
     "start_time": "2023-12-05T08:12:17.448495465Z"
    }
   },
   "id": "b2b36df8ad862f63"
  },
  {
   "cell_type": "code",
   "execution_count": 21,
   "outputs": [
    {
     "data": {
      "text/plain": "{0, 1, 2, 3, 5, 6, 7, 8, 9, 10}"
     },
     "execution_count": 21,
     "metadata": {},
     "output_type": "execute_result"
    }
   ],
   "source": [
    "set_arr"
   ],
   "metadata": {
    "collapsed": false,
    "ExecuteTime": {
     "end_time": "2023-12-05T08:12:20.049894467Z",
     "start_time": "2023-12-05T08:12:19.953376666Z"
    }
   },
   "id": "4863f1244461688b"
  },
  {
   "cell_type": "code",
   "execution_count": 22,
   "outputs": [
    {
     "name": "stdout",
     "output_type": "stream",
     "text": [
      "[1, 2, 3, 4, 5, 1, 3]\n",
      "[]\n",
      "7\n",
      "[1, 2, 3, 9999, 5, 1, 3]\n"
     ]
    }
   ],
   "source": [
    "# List: 파이썬에서 가장 많이 사용하는 자료형\n",
    "# 순서가 있고, 중복값도 존재함\n",
    "# 대괄호[]로 표현\n",
    "list1 = [1, 2, 3, 4, 5, 1, 3]\n",
    "list2 = []\n",
    "print(list1)\n",
    "print(list2)\n",
    "print(len(list1))\n",
    "list1[3] = 9999\n",
    "print(list1)\n"
   ],
   "metadata": {
    "collapsed": false,
    "ExecuteTime": {
     "end_time": "2023-12-05T08:27:45.733736918Z",
     "start_time": "2023-12-05T08:27:45.689668532Z"
    }
   },
   "id": "f8d8fb3e92e18868"
  },
  {
   "cell_type": "code",
   "execution_count": 23,
   "outputs": [
    {
     "name": "stdout",
     "output_type": "stream",
     "text": [
      "[777, 1, 2, 3, 5, 1, 3, 100]\n"
     ]
    }
   ],
   "source": [
    "list1.append(100)\n",
    "list1.insert(0, 777)\n",
    "list1.remove(9999)\n",
    "print(list1)"
   ],
   "metadata": {
    "collapsed": false,
    "ExecuteTime": {
     "end_time": "2023-12-05T08:29:28.689643260Z",
     "start_time": "2023-12-05T08:29:28.639931762Z"
    }
   },
   "id": "506c89985e23a466"
  },
  {
   "cell_type": "code",
   "execution_count": 24,
   "outputs": [
    {
     "name": "stdout",
     "output_type": "stream",
     "text": [
      "[777, 1, 2, 3, 5, 1, 3, 100]\n"
     ]
    }
   ],
   "source": [
    "list2 = list1.copy()\n",
    "print(list2)"
   ],
   "metadata": {
    "collapsed": false,
    "ExecuteTime": {
     "end_time": "2023-12-05T08:30:23.587698422Z",
     "start_time": "2023-12-05T08:30:23.529580968Z"
    }
   },
   "id": "4b05a252670004bf"
  },
  {
   "cell_type": "code",
   "execution_count": 25,
   "outputs": [
    {
     "data": {
      "text/plain": "[1, 2, 3, 5]"
     },
     "execution_count": 25,
     "metadata": {},
     "output_type": "execute_result"
    }
   ],
   "source": [
    "list2[1:5]"
   ],
   "metadata": {
    "collapsed": false,
    "ExecuteTime": {
     "end_time": "2023-12-05T08:33:02.395243544Z",
     "start_time": "2023-12-05T08:33:02.352383958Z"
    }
   },
   "id": "cb73982a3557f6e4"
  },
  {
   "cell_type": "code",
   "execution_count": 27,
   "outputs": [
    {
     "data": {
      "text/plain": "[1, 1, 2, 3, 3, 5, 100, 777]"
     },
     "execution_count": 27,
     "metadata": {},
     "output_type": "execute_result"
    }
   ],
   "source": [
    "list1.sort()\n",
    "list1"
   ],
   "metadata": {
    "collapsed": false,
    "ExecuteTime": {
     "end_time": "2023-12-05T08:37:38.357318617Z",
     "start_time": "2023-12-05T08:37:38.315027925Z"
    }
   },
   "id": "4391439f10dff083"
  },
  {
   "cell_type": "code",
   "execution_count": 30,
   "outputs": [
    {
     "data": {
      "text/plain": "[777, 100, 5, 3, 3, 2, 1, 1]"
     },
     "execution_count": 30,
     "metadata": {},
     "output_type": "execute_result"
    }
   ],
   "source": [
    "list1.reverse()\n",
    "list1"
   ],
   "metadata": {
    "collapsed": false,
    "ExecuteTime": {
     "end_time": "2023-12-05T08:38:33.642320646Z",
     "start_time": "2023-12-05T08:38:33.580222612Z"
    }
   },
   "id": "b14889cd68b894db"
  },
  {
   "cell_type": "code",
   "execution_count": 31,
   "outputs": [
    {
     "data": {
      "text/plain": "[777, 100, 5, 3, 3, 2, 1, 1]"
     },
     "execution_count": 31,
     "metadata": {},
     "output_type": "execute_result"
    }
   ],
   "source": [
    "list1.sort(reverse=True)\n",
    "list1"
   ],
   "metadata": {
    "collapsed": false,
    "ExecuteTime": {
     "end_time": "2023-12-05T08:39:43.365221693Z",
     "start_time": "2023-12-05T08:39:43.312649611Z"
    }
   },
   "id": "b257e5de1892b256"
  },
  {
   "cell_type": "markdown",
   "source": [
    "## Dictionary(딕셔너리)\n",
    "1. 사전과 같은 자료형으로 키(key)와 값(value)이 한쌍을 이루어 요소가 되는 자료구조\n",
    "2. 집합과 마찬가지로 중괄호{}를 사용\n",
    "3. 한번 지정한 키는 변경할 수 없고 {키: 값}을 한꺼번에 삭제하고 새로 추가해야함 "
   ],
   "metadata": {
    "collapsed": false
   },
   "id": "9b76c40195f6cd39"
  },
  {
   "cell_type": "code",
   "execution_count": 1,
   "outputs": [
    {
     "data": {
      "text/plain": "{'name': '홍길동', 'birth': 1990, 'author': 'KR'}"
     },
     "execution_count": 1,
     "metadata": {},
     "output_type": "execute_result"
    }
   ],
   "source": [
    "dict_1 = {'name': '홍길동', 'birth': 1990, 'author': 'KR'}\n",
    "dict_1"
   ],
   "metadata": {
    "collapsed": false,
    "ExecuteTime": {
     "end_time": "2023-12-06T05:09:46.056740006Z",
     "start_time": "2023-12-06T05:09:46.049654610Z"
    }
   },
   "id": "7a5d89562a1c58b1"
  },
  {
   "cell_type": "code",
   "execution_count": 6,
   "outputs": [
    {
     "data": {
      "text/plain": "'KR'"
     },
     "execution_count": 6,
     "metadata": {},
     "output_type": "execute_result"
    }
   ],
   "source": [
    "dict_1['author']"
   ],
   "metadata": {
    "collapsed": false,
    "ExecuteTime": {
     "end_time": "2023-12-06T05:11:34.693496747Z",
     "start_time": "2023-12-06T05:11:34.688686606Z"
    }
   },
   "id": "54f4b13fdfed1f6"
  },
  {
   "cell_type": "code",
   "execution_count": 5,
   "outputs": [
    {
     "data": {
      "text/plain": "'KR'"
     },
     "execution_count": 5,
     "metadata": {},
     "output_type": "execute_result"
    }
   ],
   "source": [
    "dict_1.get('author')"
   ],
   "metadata": {
    "collapsed": false,
    "ExecuteTime": {
     "end_time": "2023-12-06T05:11:33.277741379Z",
     "start_time": "2023-12-06T05:11:33.232848431Z"
    }
   },
   "id": "ae900d739bbe13e9"
  },
  {
   "cell_type": "code",
   "execution_count": 7,
   "outputs": [
    {
     "data": {
      "text/plain": "{'name': '홍길동', 'birth': 1990, 'author': 'KR', 'weight': 60.5}"
     },
     "execution_count": 7,
     "metadata": {},
     "output_type": "execute_result"
    }
   ],
   "source": [
    "dict_1['weight'] = 60.5\n",
    "dict_1"
   ],
   "metadata": {
    "collapsed": false,
    "ExecuteTime": {
     "end_time": "2023-12-06T05:12:01.107726715Z",
     "start_time": "2023-12-06T05:12:01.088739474Z"
    }
   },
   "id": "ca27e1c9fe6ac4f1"
  },
  {
   "cell_type": "code",
   "execution_count": 8,
   "outputs": [
    {
     "data": {
      "text/plain": "{'name': '홍길동',\n 'birth': 1990,\n 'author': 'KR',\n 'weight': 60.5,\n 'family': ['아빠', '엄마', '여동생']}"
     },
     "execution_count": 8,
     "metadata": {},
     "output_type": "execute_result"
    }
   ],
   "source": [
    "dict_1['family'] = ['아빠', '엄마', '여동생']\n",
    "dict_1"
   ],
   "metadata": {
    "collapsed": false,
    "ExecuteTime": {
     "end_time": "2023-12-06T05:13:06.345911662Z",
     "start_time": "2023-12-06T05:13:06.298875416Z"
    }
   },
   "id": "fcc22eff7e8b32b5"
  },
  {
   "cell_type": "code",
   "execution_count": 9,
   "outputs": [
    {
     "data": {
      "text/plain": "{'name': '홍길동',\n 'birth': 1990,\n 'author': 'KR',\n 'weight': 67.8,\n 'family': ['아빠', '엄마', '여동생'],\n 'hobby': ['게임', '독서']}"
     },
     "execution_count": 9,
     "metadata": {},
     "output_type": "execute_result"
    }
   ],
   "source": [
    "dict_1.update({'weight': 67.8, 'hobby': ['게임', '독서']})\n",
    "dict_1"
   ],
   "metadata": {
    "collapsed": false,
    "ExecuteTime": {
     "end_time": "2023-12-06T05:13:58.670091047Z",
     "start_time": "2023-12-06T05:13:58.636280005Z"
    }
   },
   "id": "72a2a32b89e93314"
  },
  {
   "cell_type": "code",
   "execution_count": 10,
   "outputs": [
    {
     "data": {
      "text/plain": "{'name': '홍길동',\n 'birth': 1990,\n 'author': 'KR',\n 'weight': 67.8,\n 'family': ['아빠', '엄마', '여동생'],\n 'hobby': ['축구', '등산']}"
     },
     "execution_count": 10,
     "metadata": {},
     "output_type": "execute_result"
    }
   ],
   "source": [
    "dict_1['hobby'] = ['축구', '등산']\n",
    "dict_1"
   ],
   "metadata": {
    "collapsed": false,
    "ExecuteTime": {
     "end_time": "2023-12-06T05:15:08.290696626Z",
     "start_time": "2023-12-06T05:15:08.270221718Z"
    }
   },
   "id": "870993c93b44e57b"
  },
  {
   "cell_type": "code",
   "execution_count": 11,
   "outputs": [
    {
     "data": {
      "text/plain": "'엄마'"
     },
     "execution_count": 11,
     "metadata": {},
     "output_type": "execute_result"
    }
   ],
   "source": [
    "dict_1['family'][1]"
   ],
   "metadata": {
    "collapsed": false,
    "ExecuteTime": {
     "end_time": "2023-12-06T05:16:15.292829758Z",
     "start_time": "2023-12-06T05:16:15.270478144Z"
    }
   },
   "id": "3c58327733a6f24c"
  },
  {
   "cell_type": "code",
   "execution_count": 12,
   "outputs": [],
   "source": [
    "del dict_1['weight']"
   ],
   "metadata": {
    "collapsed": false,
    "ExecuteTime": {
     "end_time": "2023-12-06T05:17:06.609582567Z",
     "start_time": "2023-12-06T05:17:06.583582651Z"
    }
   },
   "id": "a2ec4779c68383b"
  },
  {
   "cell_type": "code",
   "execution_count": 13,
   "outputs": [
    {
     "data": {
      "text/plain": "{'name': '홍길동',\n 'birth': 1990,\n 'author': 'KR',\n 'family': ['아빠', '엄마', '여동생'],\n 'hobby': ['축구', '등산']}"
     },
     "execution_count": 13,
     "metadata": {},
     "output_type": "execute_result"
    }
   ],
   "source": [
    "dict_1"
   ],
   "metadata": {
    "collapsed": false,
    "ExecuteTime": {
     "end_time": "2023-12-06T05:17:09.423086794Z",
     "start_time": "2023-12-06T05:17:09.401176384Z"
    }
   },
   "id": "e969d71467edcb3b"
  },
  {
   "cell_type": "code",
   "execution_count": 14,
   "outputs": [
    {
     "data": {
      "text/plain": "{'name': '홍길동',\n 'birth': 1990,\n 'author': 'KR',\n 'family': ['아빠', '엄마', '여동생'],\n 'hobby': ['축구']}"
     },
     "execution_count": 14,
     "metadata": {},
     "output_type": "execute_result"
    }
   ],
   "source": [
    "del dict_1['hobby'][1]\n",
    "dict_1"
   ],
   "metadata": {
    "collapsed": false,
    "ExecuteTime": {
     "end_time": "2023-12-06T05:17:34.473306197Z",
     "start_time": "2023-12-06T05:17:34.430383623Z"
    }
   },
   "id": "f560dfdbb56a4402"
  },
  {
   "cell_type": "code",
   "execution_count": null,
   "outputs": [],
   "source": [
    "# 다음 소스 코드는 40명의 학생에게 50 ~ 100점 사이의 점수를 무작위로 할당한 딕셔너리 scores를 제공한다.\n",
    "import random\n",
    "scores = dict() # {}와 비슷\n",
    "for i in range(1, 41):\n",
    "    scores[f'S{i:0>2}'] = random.randrange(50, 100)\n",
    "scores"
   ],
   "metadata": {
    "collapsed": false
   },
   "id": "763ff92f687c8d3b"
  },
  {
   "cell_type": "code",
   "execution_count": 46,
   "outputs": [
    {
     "name": "stdout",
     "output_type": "stream",
     "text": [
      "76.475\n"
     ]
    }
   ],
   "source": [
    "# 40명 학생의 평균 점수를 구하시오.\n",
    "sum = 0\n",
    "for value in scores.values():\n",
    "    sum += value\n",
    "avg = sum / len(scores)\n",
    "print(avg)"
   ],
   "metadata": {
    "collapsed": false,
    "ExecuteTime": {
     "end_time": "2023-12-06T06:12:08.731854945Z",
     "start_time": "2023-12-06T06:12:08.718345748Z"
    }
   },
   "id": "dac379cfec435436"
  },
  {
   "cell_type": "code",
   "execution_count": 48,
   "outputs": [
    {
     "name": "stdout",
     "output_type": "stream",
     "text": [
      "S03: 98\n"
     ]
    }
   ],
   "source": [
    "# 40명 중 최고 득점을 한 학생과 점수를 출력하시오. 단 여러명인 경우 학번이 가장 빠른 한명만 출력되도록 하시오.\n",
    "max_value = 0\n",
    "max_key = ''\n",
    "for key, value in scores.items():\n",
    "    if value > max_value:\n",
    "        max_value = value\n",
    "        max_key = key\n",
    "print(f'{max_key}: {max_value}')"
   ],
   "metadata": {
    "collapsed": false,
    "ExecuteTime": {
     "end_time": "2023-12-06T06:15:50.445273348Z",
     "start_time": "2023-12-06T06:15:50.404597130Z"
    }
   },
   "id": "b7e8d5319b4cb594"
  },
  {
   "cell_type": "code",
   "execution_count": null,
   "outputs": [],
   "source": [],
   "metadata": {
    "collapsed": false
   },
   "id": "a927cf4482d0c6a1"
  },
  {
   "cell_type": "code",
   "execution_count": null,
   "outputs": [],
   "source": [],
   "metadata": {
    "collapsed": false
   },
   "id": "533005f375863d6f"
  }
 ],
 "metadata": {
  "kernelspec": {
   "display_name": "Python 3",
   "language": "python",
   "name": "python3"
  },
  "language_info": {
   "codemirror_mode": {
    "name": "ipython",
    "version": 2
   },
   "file_extension": ".py",
   "mimetype": "text/x-python",
   "name": "python",
   "nbconvert_exporter": "python",
   "pygments_lexer": "ipython2",
   "version": "2.7.6"
  }
 },
 "nbformat": 4,
 "nbformat_minor": 5
}

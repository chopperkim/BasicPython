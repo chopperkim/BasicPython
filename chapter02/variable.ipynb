{
 "cells": [
  {
   "cell_type": "code",
   "execution_count": 1,
   "id": "initial_id",
   "metadata": {
    "collapsed": true,
    "ExecuteTime": {
     "end_time": "2023-12-04T07:30:17.896982302Z",
     "start_time": "2023-12-04T07:30:17.885481215Z"
    }
   },
   "outputs": [
    {
     "data": {
      "text/plain": "2000"
     },
     "execution_count": 1,
     "metadata": {},
     "output_type": "execute_result"
    }
   ],
   "source": [
    "20 * 100"
   ]
  },
  {
   "cell_type": "code",
   "execution_count": 2,
   "outputs": [
    {
     "data": {
      "text/plain": "590490000000000"
     },
     "execution_count": 2,
     "metadata": {},
     "output_type": "execute_result"
    }
   ],
   "source": [
    "30 ** 10"
   ],
   "metadata": {
    "collapsed": false,
    "ExecuteTime": {
     "end_time": "2023-12-04T07:33:35.339972964Z",
     "start_time": "2023-12-04T07:33:35.289237371Z"
    }
   },
   "id": "73c3db238f5f9220"
  },
  {
   "cell_type": "markdown",
   "source": [
    "# 제목\n",
    "## 부제목\n",
    "### 부부제목\n",
    "<img src=\"가위_우.png\">\n",
    "\n",
    "\n",
    "|제목 셀1|제목 셀2|제목 셀3|제목 셀4|\n",
    "|---|---|---|---|\n",
    "|내용 1|내용 2|내용 3|내용 4|\n",
    "|내용 5|내용 6|내용 7|내용 8|\n",
    "|내용 9|내용 10|내용 11|내용 12|\n"
   ],
   "metadata": {
    "collapsed": false
   },
   "id": "fe09b535f7a01867"
  },
  {
   "cell_type": "markdown",
   "source": [],
   "metadata": {
    "collapsed": false
   },
   "id": "a792e5b6e3bc9861"
  },
  {
   "cell_type": "code",
   "execution_count": 3,
   "outputs": [
    {
     "name": "stdout",
     "output_type": "stream",
     "text": [
      "홍길동\n"
     ]
    }
   ],
   "source": [
    "name = '홍길동'\n",
    "print(name)"
   ],
   "metadata": {
    "collapsed": false,
    "ExecuteTime": {
     "end_time": "2023-12-04T08:21:46.000997179Z",
     "start_time": "2023-12-04T08:21:45.979715660Z"
    }
   },
   "id": "c11f45b4ed34242c"
  },
  {
   "cell_type": "code",
   "execution_count": 4,
   "outputs": [
    {
     "name": "stdout",
     "output_type": "stream",
     "text": [
      "대전광역시 중구\n"
     ]
    }
   ],
   "source": [
    "# 주소를 저장할 변수 addr에 '대전광역시 중구'를 할당하고 print()함수로 출력하시오.\n",
    "addr = '대전광역시 중구'\n",
    "print(addr)"
   ],
   "metadata": {
    "collapsed": false,
    "ExecuteTime": {
     "end_time": "2023-12-04T08:24:00.813785155Z",
     "start_time": "2023-12-04T08:24:00.771743593Z"
    }
   },
   "id": "752e9817bdc15976"
  },
  {
   "cell_type": "code",
   "execution_count": 5,
   "outputs": [
    {
     "name": "stdout",
     "output_type": "stream",
     "text": [
      "3.14\n",
      "3.141592\n"
     ]
    }
   ],
   "source": [
    "PI = 3.14\n",
    "print(PI)\n",
    "PI = 3.141592\n",
    "print(PI)\n"
   ],
   "metadata": {
    "collapsed": false,
    "ExecuteTime": {
     "end_time": "2023-12-04T08:24:56.737160830Z",
     "start_time": "2023-12-04T08:24:56.693755126Z"
    }
   },
   "id": "10960c2b44af03e5"
  },
  {
   "cell_type": "code",
   "execution_count": 6,
   "outputs": [
    {
     "data": {
      "text/plain": "3"
     },
     "execution_count": 6,
     "metadata": {},
     "output_type": "execute_result"
    }
   ],
   "source": [
    "10 // 3"
   ],
   "metadata": {
    "collapsed": false,
    "ExecuteTime": {
     "end_time": "2023-12-04T08:27:51.121432970Z",
     "start_time": "2023-12-04T08:27:51.079823482Z"
    }
   },
   "id": "91241571cecd2268"
  },
  {
   "cell_type": "code",
   "execution_count": 7,
   "outputs": [
    {
     "data": {
      "text/plain": "3.3333333333333335"
     },
     "execution_count": 7,
     "metadata": {},
     "output_type": "execute_result"
    }
   ],
   "source": [
    "10 / 3"
   ],
   "metadata": {
    "collapsed": false,
    "ExecuteTime": {
     "end_time": "2023-12-04T08:28:12.455246120Z",
     "start_time": "2023-12-04T08:28:12.446590261Z"
    }
   },
   "id": "a0a40b6508cf574d"
  },
  {
   "cell_type": "code",
   "execution_count": 8,
   "outputs": [
    {
     "data": {
      "text/plain": "1000"
     },
     "execution_count": 8,
     "metadata": {},
     "output_type": "execute_result"
    }
   ],
   "source": [
    "10 ** 3"
   ],
   "metadata": {
    "collapsed": false,
    "ExecuteTime": {
     "end_time": "2023-12-04T08:28:23.429323070Z",
     "start_time": "2023-12-04T08:28:23.389959426Z"
    }
   },
   "id": "a3461804db8664a8"
  },
  {
   "cell_type": "code",
   "execution_count": 9,
   "outputs": [
    {
     "data": {
      "text/plain": "True"
     },
     "execution_count": 9,
     "metadata": {},
     "output_type": "execute_result"
    }
   ],
   "source": [
    "11 > 4"
   ],
   "metadata": {
    "collapsed": false,
    "ExecuteTime": {
     "end_time": "2023-12-04T08:29:29.954252507Z",
     "start_time": "2023-12-04T08:29:29.941628432Z"
    }
   },
   "id": "5ffea7ad94464b5f"
  },
  {
   "cell_type": "code",
   "execution_count": 10,
   "outputs": [
    {
     "name": "stdout",
     "output_type": "stream",
     "text": [
      "/bin/bash: line 1: True: command not found\r\n"
     ]
    }
   ],
   "source": [
    "!True"
   ],
   "metadata": {
    "collapsed": false,
    "ExecuteTime": {
     "end_time": "2023-12-04T08:31:39.202364965Z",
     "start_time": "2023-12-04T08:31:39.070786348Z"
    }
   },
   "id": "70b17df8d76fd485"
  },
  {
   "cell_type": "code",
   "execution_count": 11,
   "outputs": [
    {
     "data": {
      "text/plain": "False"
     },
     "execution_count": 11,
     "metadata": {},
     "output_type": "execute_result"
    }
   ],
   "source": [
    "not True"
   ],
   "metadata": {
    "collapsed": false,
    "ExecuteTime": {
     "end_time": "2023-12-04T08:31:49.183026409Z",
     "start_time": "2023-12-04T08:31:49.136314330Z"
    }
   },
   "id": "6474700c97b2f7e9"
  },
  {
   "cell_type": "code",
   "execution_count": 12,
   "outputs": [
    {
     "data": {
      "text/plain": "94.985"
     },
     "execution_count": 12,
     "metadata": {},
     "output_type": "execute_result"
    }
   ],
   "source": [
    "# 1.\n",
    "PI = 3.14\n",
    "PI * 5.5 * 5.5"
   ],
   "metadata": {
    "collapsed": false,
    "ExecuteTime": {
     "end_time": "2023-12-04T08:36:33.825094640Z",
     "start_time": "2023-12-04T08:36:33.786381409Z"
    }
   },
   "id": "be211918fbf10e06"
  },
  {
   "cell_type": "code",
   "execution_count": 15,
   "outputs": [
    {
     "data": {
      "text/plain": "False"
     },
     "execution_count": 15,
     "metadata": {},
     "output_type": "execute_result"
    }
   ],
   "source": [
    "a = 10 * 4 / 2\n",
    "b = 9 * 5 / 2\n",
    "result = a == b\n",
    "result"
   ],
   "metadata": {
    "collapsed": false,
    "ExecuteTime": {
     "end_time": "2023-12-04T08:38:47.836261978Z",
     "start_time": "2023-12-04T08:38:47.829250679Z"
    }
   },
   "id": "e6c6e128cbac5520"
  },
  {
   "cell_type": "code",
   "execution_count": null,
   "outputs": [],
   "source": [],
   "metadata": {
    "collapsed": false
   },
   "id": "51435af5452d03a4"
  }
 ],
 "metadata": {
  "kernelspec": {
   "display_name": "Python 3",
   "language": "python",
   "name": "python3"
  },
  "language_info": {
   "codemirror_mode": {
    "name": "ipython",
    "version": 2
   },
   "file_extension": ".py",
   "mimetype": "text/x-python",
   "name": "python",
   "nbconvert_exporter": "python",
   "pygments_lexer": "ipython2",
   "version": "2.7.6"
  }
 },
 "nbformat": 4,
 "nbformat_minor": 5
}

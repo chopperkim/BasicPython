{
 "cells": [
  {
   "cell_type": "code",
   "execution_count": 5,
   "id": "initial_id",
   "metadata": {
    "collapsed": true,
    "ExecuteTime": {
     "end_time": "2023-12-06T08:08:14.445150312Z",
     "start_time": "2023-12-06T08:08:14.403609595Z"
    }
   },
   "outputs": [
    {
     "data": {
      "text/plain": "60"
     },
     "execution_count": 5,
     "metadata": {},
     "output_type": "execute_result"
    }
   ],
   "source": [
    "list1 = [1, 2, 3, 4, 5, 6, 7, 8, 9, 10]\n",
    "# 리스트의 모든 수를 더하고 그 합의 10배를 반환하는 함수 작성\n",
    "def sum_list(arr: list = [1, 2, 3]) -> int:\n",
    "    sum = 0\n",
    "    for a in arr:\n",
    "        sum += a\n",
    "    return sum * 10\n",
    "\n",
    "sum_list()"
   ]
  },
  {
   "cell_type": "code",
   "execution_count": 10,
   "outputs": [
    {
     "name": "stdout",
     "output_type": "stream",
     "text": [
      "151는 소수입니다.\n"
     ]
    }
   ],
   "source": [
    "# 사용자에게 숫자를 입력받고 숫자가 소수(Prime Number)인지 판별하는 프로그램을 만들어보자.\n",
    "# 소수는 1보다 큰 자연수 중에서 1과 자기 자신을 제외한 자연수로 나누어 떨어지지 않는 수입니다.\n",
    "# 사용자가 입력한 값이 x이면 2부터 x-1까지 모든 자연수로 x를 나눈다. 나누어 떨어지는 수가 하나라도 있으면 소수가 아니고 없으면 소수이다.\n",
    "def check_prime_num(x):\n",
    "    for i in range(2, x):\n",
    "        if x % i == 0:\n",
    "            return False\n",
    "    return True\n",
    "    \n",
    "number = int(input('판별할 자연수를 입력하세요: '))\n",
    "if check_prime_num(number):\n",
    "    print(f'{number}는 소수입니다.')\n",
    "else:\n",
    "    print(f'{number}는 소수가 아닙니다.')"
   ],
   "metadata": {
    "collapsed": false,
    "ExecuteTime": {
     "end_time": "2023-12-06T08:38:59.230466364Z",
     "start_time": "2023-12-06T08:38:56.593984076Z"
    }
   },
   "id": "267b184c265735e4"
  },
  {
   "cell_type": "code",
   "execution_count": 7,
   "outputs": [
    {
     "name": "stdout",
     "output_type": "stream",
     "text": [
      "원금: 30000000원, 이자: 4828069.529999994원\n"
     ]
    }
   ],
   "source": [
    "def interest_year(p, r, n):\n",
    "    return p * (1 + r) ** n\n",
    "\n",
    "p = 30000000\n",
    "r = 0.051\n",
    "n = 3\n",
    "print(f'원금: {p}원, 이자: {interest_year(p, r, n) - p}원')"
   ],
   "metadata": {
    "collapsed": false,
    "ExecuteTime": {
     "end_time": "2023-12-07T05:06:00.117732792Z",
     "start_time": "2023-12-07T05:06:00.074446859Z"
    }
   },
   "id": "76abf78ac0791a30"
  },
  {
   "cell_type": "code",
   "execution_count": null,
   "outputs": [],
   "source": [],
   "metadata": {
    "collapsed": false
   },
   "id": "eabc29c4d2cd4c59"
  }
 ],
 "metadata": {
  "kernelspec": {
   "display_name": "Python 3",
   "language": "python",
   "name": "python3"
  },
  "language_info": {
   "codemirror_mode": {
    "name": "ipython",
    "version": 2
   },
   "file_extension": ".py",
   "mimetype": "text/x-python",
   "name": "python",
   "nbconvert_exporter": "python",
   "pygments_lexer": "ipython2",
   "version": "2.7.6"
  }
 },
 "nbformat": 4,
 "nbformat_minor": 5
}

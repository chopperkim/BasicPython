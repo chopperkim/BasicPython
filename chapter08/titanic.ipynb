{
 "cells": [
  {
   "cell_type": "code",
   "execution_count": 2,
   "id": "initial_id",
   "metadata": {
    "collapsed": true,
    "ExecuteTime": {
     "end_time": "2023-12-21T06:27:22.542261103Z",
     "start_time": "2023-12-21T06:27:22.527748752Z"
    }
   },
   "outputs": [
    {
     "data": {
      "text/plain": "(891, 12)"
     },
     "execution_count": 2,
     "metadata": {},
     "output_type": "execute_result"
    }
   ],
   "source": [
    "import pandas as pd\n",
    "df = pd.read_csv('titanic.csv')\n",
    "df.shape"
   ]
  },
  {
   "cell_type": "code",
   "execution_count": 3,
   "outputs": [
    {
     "data": {
      "text/plain": "PassengerId      0\nSurvived         0\nPclass           0\nName             0\nSex              0\nAge            177\nSibSp            0\nParch            0\nTicket           0\nFare             0\nCabin          687\nEmbarked         2\ndtype: int64"
     },
     "execution_count": 3,
     "metadata": {},
     "output_type": "execute_result"
    }
   ],
   "source": [
    "df.isnull().sum()"
   ],
   "metadata": {
    "collapsed": false,
    "ExecuteTime": {
     "end_time": "2023-12-21T06:27:33.124785285Z",
     "start_time": "2023-12-21T06:27:33.109771546Z"
    }
   },
   "id": "ebec2da8fab17b09"
  },
  {
   "cell_type": "code",
   "execution_count": 6,
   "outputs": [
    {
     "data": {
      "text/plain": "(0, 116)"
     },
     "execution_count": 6,
     "metadata": {},
     "output_type": "execute_result"
    }
   ],
   "source": [
    "q1 = df['Fare'].quantile(.25)\n",
    "q3 = df['Fare'].quantile(.75)\n",
    "iqr = q3 - q1\n",
    "min = q1 - 1.5 * iqr\n",
    "max = q3 + 1.5 * iqr\n",
    "\n",
    "out1 = df[df['Fare'] < min]\n",
    "out2 = df[df['Fare'] > max]\n",
    "len(out1), len(out2)"
   ],
   "metadata": {
    "collapsed": false,
    "ExecuteTime": {
     "end_time": "2023-12-21T06:29:40.346113188Z",
     "start_time": "2023-12-21T06:29:40.335192246Z"
    }
   },
   "id": "7e0dab569a6fc1a"
  },
  {
   "cell_type": "code",
   "execution_count": 10,
   "outputs": [
    {
     "name": "stdout",
     "output_type": "stream",
     "text": [
      "46 70\n"
     ]
    }
   ],
   "source": [
    "male_sum = sum(out2['Sex'] == 'male')\n",
    "female_sum = sum(out2['Sex'] == 'female')\n",
    "print(male_sum, female_sum)"
   ],
   "metadata": {
    "collapsed": false,
    "ExecuteTime": {
     "end_time": "2023-12-21T06:30:20.480819271Z",
     "start_time": "2023-12-21T06:30:20.472697091Z"
    }
   },
   "id": "7e2848d6adf228f8"
  }
 ],
 "metadata": {
  "kernelspec": {
   "display_name": "Python 3",
   "language": "python",
   "name": "python3"
  },
  "language_info": {
   "codemirror_mode": {
    "name": "ipython",
    "version": 2
   },
   "file_extension": ".py",
   "mimetype": "text/x-python",
   "name": "python",
   "nbconvert_exporter": "python",
   "pygments_lexer": "ipython2",
   "version": "2.7.6"
  }
 },
 "nbformat": 4,
 "nbformat_minor": 5
}

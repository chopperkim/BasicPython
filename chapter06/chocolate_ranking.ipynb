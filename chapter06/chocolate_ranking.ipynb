{
 "cells": [
  {
   "cell_type": "code",
   "execution_count": 1,
   "id": "initial_id",
   "metadata": {
    "collapsed": true,
    "ExecuteTime": {
     "end_time": "2023-12-15T00:05:33.515033126Z",
     "start_time": "2023-12-15T00:05:33.358086591Z"
    }
   },
   "outputs": [
    {
     "data": {
      "text/plain": "array([[1.000e+00, 2.016e+03, 6.300e-01, 3.750e+00],\n       [2.000e+00, 2.015e+03, 7.000e-01, 2.750e+00],\n       [3.000e+00, 2.015e+03, 7.000e-01, 3.000e+00],\n       ...,\n       [1.793e+03, 2.011e+03, 6.500e-01, 3.500e+00],\n       [1.794e+03, 2.011e+03, 6.200e-01, 3.250e+00],\n       [1.795e+03, 2.010e+03, 6.500e-01, 3.000e+00]])"
     },
     "execution_count": 1,
     "metadata": {},
     "output_type": "execute_result"
    }
   ],
   "source": [
    "import numpy as np\n",
    "\n",
    "data = np.loadtxt('chocolate_rating.csv', delimiter=',')\n",
    "data\n"
   ]
  },
  {
   "cell_type": "code",
   "execution_count": 2,
   "outputs": [
    {
     "name": "stdout",
     "output_type": "stream",
     "text": [
      "3.185933147632312\n"
     ]
    }
   ],
   "source": [
    "rating_mean = data[:, 3].mean()\n",
    "print(rating_mean)"
   ],
   "metadata": {
    "collapsed": false,
    "ExecuteTime": {
     "end_time": "2023-12-15T00:05:37.346060686Z",
     "start_time": "2023-12-15T00:05:37.319270248Z"
    }
   },
   "id": "23c8811cb8004811"
  },
  {
   "cell_type": "code",
   "execution_count": 3,
   "outputs": [
    {
     "name": "stdout",
     "output_type": "stream",
     "text": [
      "[  10   18   21   55   57   77   78   79   84   87   88   93  108  109\n",
      "  118  124  153  180  181  187  223  232  233  240  243  244  245  248\n",
      "  257  312  316  317  358  437  503  567  573  574  582  601  650  687\n",
      "  690  691  701  720  730  800  828  862  864  865  866  883  919  993\n",
      " 1088 1089 1118 1119 1120 1204 1241 1245 1247 1274 1277 1278 1289 1291\n",
      " 1293 1295 1323 1331 1336 1378 1394 1426 1428 1433 1479 1488 1513 1516\n",
      " 1529 1530 1531 1533 1536 1537 1544 1545 1664 1683 1686 1688 1694 1700\n",
      " 1740 1757]\n"
     ]
    }
   ],
   "source": [
    "high_level = data[data[:, 3] >= 4]\n",
    "high_id = high_level[:, 0].astype(np.int64)\n",
    "print(high_id)"
   ],
   "metadata": {
    "collapsed": false,
    "ExecuteTime": {
     "end_time": "2023-12-15T00:05:40.472055076Z",
     "start_time": "2023-12-15T00:05:40.455362991Z"
    }
   },
   "id": "85302631bb43c4fe"
  },
  {
   "cell_type": "code",
   "execution_count": 4,
   "outputs": [
    {
     "name": "stdout",
     "output_type": "stream",
     "text": [
      "[0.6  0.63 0.64 0.65 0.66 0.67 0.68 0.69 0.7  0.71 0.72 0.73 0.74 0.75\n",
      " 0.78 0.8  0.88]\n",
      "[ 1  3  4  2  1  3  2  2 45  1 11  1  4 17  1  1  1]\n"
     ]
    }
   ],
   "source": [
    "# 우수 초콜릿의 카카오 함유량 빈도 분석\n",
    "high_kakao = high_level[:, 2]\n",
    "unique_value, value_counts = np.unique(high_kakao, return_counts=True)\n",
    "print(unique_value)\n",
    "print(value_counts)"
   ],
   "metadata": {
    "collapsed": false,
    "ExecuteTime": {
     "end_time": "2023-12-15T00:08:31.012092932Z",
     "start_time": "2023-12-15T00:08:30.969709315Z"
    }
   },
   "id": "5a3355c226d771cc"
  },
  {
   "cell_type": "code",
   "execution_count": 5,
   "outputs": [
    {
     "name": "stdout",
     "output_type": "stream",
     "text": [
      "0.7\n"
     ]
    }
   ],
   "source": [
    "# 우수 초콜릿 중 가장 빈도수가 큰 카카오 함유량 구하기\n",
    "max_index = np.argmax(value_counts) # 가장 큰 값의 인덱스를 가져온다\n",
    "print(unique_value[max_index])"
   ],
   "metadata": {
    "collapsed": false,
    "ExecuteTime": {
     "end_time": "2023-12-15T00:12:18.431710055Z",
     "start_time": "2023-12-15T00:12:18.393660338Z"
    }
   },
   "id": "aeeac403f5f9baf3"
  }
 ],
 "metadata": {
  "kernelspec": {
   "display_name": "Python 3",
   "language": "python",
   "name": "python3"
  },
  "language_info": {
   "codemirror_mode": {
    "name": "ipython",
    "version": 2
   },
   "file_extension": ".py",
   "mimetype": "text/x-python",
   "name": "python",
   "nbconvert_exporter": "python",
   "pygments_lexer": "ipython2",
   "version": "2.7.6"
  }
 },
 "nbformat": 4,
 "nbformat_minor": 5
}

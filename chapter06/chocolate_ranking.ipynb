{
 "cells": [
  {
   "cell_type": "code",
   "execution_count": 8,
   "id": "initial_id",
   "metadata": {
    "collapsed": true,
    "ExecuteTime": {
     "end_time": "2023-12-14T03:43:36.184563316Z",
     "start_time": "2023-12-14T03:43:36.159807074Z"
    }
   },
   "outputs": [
    {
     "data": {
      "text/plain": "array([[1.000e+00, 2.016e+03, 6.300e-01, 3.750e+00],\n       [2.000e+00, 2.015e+03, 7.000e-01, 2.750e+00],\n       [3.000e+00, 2.015e+03, 7.000e-01, 3.000e+00],\n       ...,\n       [1.793e+03, 2.011e+03, 6.500e-01, 3.500e+00],\n       [1.794e+03, 2.011e+03, 6.200e-01, 3.250e+00],\n       [1.795e+03, 2.010e+03, 6.500e-01, 3.000e+00]])"
     },
     "execution_count": 8,
     "metadata": {},
     "output_type": "execute_result"
    }
   ],
   "source": [
    "import numpy as np\n",
    "\n",
    "data = np.loadtxt('chocolate_rating.csv', delimiter=',')\n",
    "data\n"
   ]
  },
  {
   "cell_type": "code",
   "execution_count": 9,
   "outputs": [
    {
     "name": "stdout",
     "output_type": "stream",
     "text": [
      "3.185933147632312\n"
     ]
    }
   ],
   "source": [
    "rating_mean = data[:, 3].mean()\n",
    "print(rating_mean)"
   ],
   "metadata": {
    "collapsed": false,
    "ExecuteTime": {
     "end_time": "2023-12-14T03:45:46.837442875Z",
     "start_time": "2023-12-14T03:45:46.809957625Z"
    }
   },
   "id": "23c8811cb8004811"
  },
  {
   "cell_type": "code",
   "execution_count": 10,
   "outputs": [
    {
     "name": "stdout",
     "output_type": "stream",
     "text": [
      "[  10   18   21   55   57   77   78   79   84   87   88   93  108  109\n",
      "  118  124  153  180  181  187  223  232  233  240  243  244  245  248\n",
      "  257  312  316  317  358  437  503  567  573  574  582  601  650  687\n",
      "  690  691  701  720  730  800  828  862  864  865  866  883  919  993\n",
      " 1088 1089 1118 1119 1120 1204 1241 1245 1247 1274 1277 1278 1289 1291\n",
      " 1293 1295 1323 1331 1336 1378 1394 1426 1428 1433 1479 1488 1513 1516\n",
      " 1529 1530 1531 1533 1536 1537 1544 1545 1664 1683 1686 1688 1694 1700\n",
      " 1740 1757]\n"
     ]
    }
   ],
   "source": [
    "high_level = data[data[:, 3] >= 4]\n",
    "high_id = high_level[:, 0].astype(np.int64)\n",
    "print(high_id)"
   ],
   "metadata": {
    "collapsed": false,
    "ExecuteTime": {
     "end_time": "2023-12-14T03:47:32.816061400Z",
     "start_time": "2023-12-14T03:47:32.774743983Z"
    }
   },
   "id": "85302631bb43c4fe"
  }
 ],
 "metadata": {
  "kernelspec": {
   "display_name": "Python 3",
   "language": "python",
   "name": "python3"
  },
  "language_info": {
   "codemirror_mode": {
    "name": "ipython",
    "version": 2
   },
   "file_extension": ".py",
   "mimetype": "text/x-python",
   "name": "python",
   "nbconvert_exporter": "python",
   "pygments_lexer": "ipython2",
   "version": "2.7.6"
  }
 },
 "nbformat": 4,
 "nbformat_minor": 5
}

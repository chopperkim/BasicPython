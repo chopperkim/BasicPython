{
 "cells": [
  {
   "cell_type": "code",
   "execution_count": 2,
   "id": "initial_id",
   "metadata": {
    "collapsed": true,
    "ExecuteTime": {
     "end_time": "2023-12-15T00:20:10.319830623Z",
     "start_time": "2023-12-15T00:20:10.267928892Z"
    }
   },
   "outputs": [
    {
     "data": {
      "text/plain": "a    1\nb    2\nc    3\nd    4\ndtype: int64"
     },
     "execution_count": 2,
     "metadata": {},
     "output_type": "execute_result"
    }
   ],
   "source": [
    "import pandas as pd\n",
    "\n",
    "# 시리즈\n",
    "a = pd.Series([1, 2, 3, 4], index=['a', 'b', 'c', 'd'])\n",
    "a"
   ]
  },
  {
   "cell_type": "code",
   "execution_count": 3,
   "outputs": [
    {
     "data": {
      "text/plain": "   이름  성별  나이    키\n0  한빛  남자  20  180\n1  한결  남자  21  177\n2  한라  여자  20  160",
      "text/html": "<div>\n<style scoped>\n    .dataframe tbody tr th:only-of-type {\n        vertical-align: middle;\n    }\n\n    .dataframe tbody tr th {\n        vertical-align: top;\n    }\n\n    .dataframe thead th {\n        text-align: right;\n    }\n</style>\n<table border=\"1\" class=\"dataframe\">\n  <thead>\n    <tr style=\"text-align: right;\">\n      <th></th>\n      <th>이름</th>\n      <th>성별</th>\n      <th>나이</th>\n      <th>키</th>\n    </tr>\n  </thead>\n  <tbody>\n    <tr>\n      <th>0</th>\n      <td>한빛</td>\n      <td>남자</td>\n      <td>20</td>\n      <td>180</td>\n    </tr>\n    <tr>\n      <th>1</th>\n      <td>한결</td>\n      <td>남자</td>\n      <td>21</td>\n      <td>177</td>\n    </tr>\n    <tr>\n      <th>2</th>\n      <td>한라</td>\n      <td>여자</td>\n      <td>20</td>\n      <td>160</td>\n    </tr>\n  </tbody>\n</table>\n</div>"
     },
     "execution_count": 3,
     "metadata": {},
     "output_type": "execute_result"
    }
   ],
   "source": [
    "# DataFrame\n",
    "df = pd.DataFrame([['한빛', '남자', '20', '180'],\n",
    "                   ['한결', '남자', '21', '177'],\n",
    "                   ['한라', '여자', '20', '160']],\n",
    "                  columns=['이름', '성별', '나이', '키'])\n",
    "df"
   ],
   "metadata": {
    "collapsed": false,
    "ExecuteTime": {
     "end_time": "2023-12-15T00:22:07.048874215Z",
     "start_time": "2023-12-15T00:22:07.001325044Z"
    }
   },
   "id": "7cd24e8569204ab8"
  },
  {
   "cell_type": "code",
   "execution_count": 4,
   "outputs": [
    {
     "data": {
      "text/plain": "   이름  성별  나이    키\n0  한빛  남자  20  180\n1  한결  남자  21  177\n2  한라  여자  20  160",
      "text/html": "<div>\n<style scoped>\n    .dataframe tbody tr th:only-of-type {\n        vertical-align: middle;\n    }\n\n    .dataframe tbody tr th {\n        vertical-align: top;\n    }\n\n    .dataframe thead th {\n        text-align: right;\n    }\n</style>\n<table border=\"1\" class=\"dataframe\">\n  <thead>\n    <tr style=\"text-align: right;\">\n      <th></th>\n      <th>이름</th>\n      <th>성별</th>\n      <th>나이</th>\n      <th>키</th>\n    </tr>\n  </thead>\n  <tbody>\n    <tr>\n      <th>0</th>\n      <td>한빛</td>\n      <td>남자</td>\n      <td>20</td>\n      <td>180</td>\n    </tr>\n    <tr>\n      <th>1</th>\n      <td>한결</td>\n      <td>남자</td>\n      <td>21</td>\n      <td>177</td>\n    </tr>\n    <tr>\n      <th>2</th>\n      <td>한라</td>\n      <td>여자</td>\n      <td>20</td>\n      <td>160</td>\n    </tr>\n  </tbody>\n</table>\n</div>"
     },
     "execution_count": 4,
     "metadata": {},
     "output_type": "execute_result"
    }
   ],
   "source": [
    "df2 = pd.DataFrame({'이름': {0: '한빛', 1: '한결', 2: '한라'},\n",
    "                    '성별': {0: '남자', 1: '남자', 2: '여자'},\n",
    "                    '나이': {0: '20', 1: '21', 2:'20'},\n",
    "                    '키': {0: '180', 1: '177', 2: '160'}})\n",
    "df2"
   ],
   "metadata": {
    "collapsed": false,
    "ExecuteTime": {
     "end_time": "2023-12-15T00:26:37.148129485Z",
     "start_time": "2023-12-15T00:26:37.103201193Z"
    }
   },
   "id": "d20a97387371fb24"
  },
  {
   "cell_type": "code",
   "execution_count": 5,
   "outputs": [
    {
     "data": {
      "text/plain": "   이름  성별  나이    키\n0  한빛  남자  20  180\n1  한결  남자  21  177\n2  한라  여자  20  160",
      "text/html": "<div>\n<style scoped>\n    .dataframe tbody tr th:only-of-type {\n        vertical-align: middle;\n    }\n\n    .dataframe tbody tr th {\n        vertical-align: top;\n    }\n\n    .dataframe thead th {\n        text-align: right;\n    }\n</style>\n<table border=\"1\" class=\"dataframe\">\n  <thead>\n    <tr style=\"text-align: right;\">\n      <th></th>\n      <th>이름</th>\n      <th>성별</th>\n      <th>나이</th>\n      <th>키</th>\n    </tr>\n  </thead>\n  <tbody>\n    <tr>\n      <th>0</th>\n      <td>한빛</td>\n      <td>남자</td>\n      <td>20</td>\n      <td>180</td>\n    </tr>\n    <tr>\n      <th>1</th>\n      <td>한결</td>\n      <td>남자</td>\n      <td>21</td>\n      <td>177</td>\n    </tr>\n    <tr>\n      <th>2</th>\n      <td>한라</td>\n      <td>여자</td>\n      <td>20</td>\n      <td>160</td>\n    </tr>\n  </tbody>\n</table>\n</div>"
     },
     "execution_count": 5,
     "metadata": {},
     "output_type": "execute_result"
    }
   ],
   "source": [
    "df3 = pd.DataFrame({'이름': ['한빛','한결','한라'],\n",
    "                    '성별': ['남자','남자','여자'],\n",
    "                    '나이': ['20','21','20'],\n",
    "                    '키': ['180','177','160']})\n",
    "df3"
   ],
   "metadata": {
    "collapsed": false,
    "ExecuteTime": {
     "end_time": "2023-12-15T00:28:02.928407779Z",
     "start_time": "2023-12-15T00:28:02.886552067Z"
    }
   },
   "id": "e49d6e076898bc67"
  },
  {
   "cell_type": "code",
   "execution_count": 9,
   "outputs": [
    {
     "name": "stdout",
     "output_type": "stream",
     "text": [
      "[['한빛' '남자' '20' '180']\n",
      " ['한결' '남자' '21' '177']\n",
      " ['한라' '여자' '20' '160']]\n"
     ]
    }
   ],
   "source": [
    "# pandas -> numpy\n",
    "# 데이터프레임에 to_numpy()함수를 호출한다.\n",
    "np_value = df.to_numpy()\n",
    "print(np_value)"
   ],
   "metadata": {
    "collapsed": false,
    "ExecuteTime": {
     "end_time": "2023-12-15T00:31:56.895892156Z",
     "start_time": "2023-12-15T00:31:56.850986850Z"
    }
   },
   "id": "6d127783c1fc42c7"
  },
  {
   "cell_type": "code",
   "execution_count": 11,
   "outputs": [
    {
     "data": {
      "text/plain": "   이름  성별  나이    키\n0  한빛  남자  20  180\n1  한결  남자  21  177\n2  한라  여자  20  160",
      "text/html": "<div>\n<style scoped>\n    .dataframe tbody tr th:only-of-type {\n        vertical-align: middle;\n    }\n\n    .dataframe tbody tr th {\n        vertical-align: top;\n    }\n\n    .dataframe thead th {\n        text-align: right;\n    }\n</style>\n<table border=\"1\" class=\"dataframe\">\n  <thead>\n    <tr style=\"text-align: right;\">\n      <th></th>\n      <th>이름</th>\n      <th>성별</th>\n      <th>나이</th>\n      <th>키</th>\n    </tr>\n  </thead>\n  <tbody>\n    <tr>\n      <th>0</th>\n      <td>한빛</td>\n      <td>남자</td>\n      <td>20</td>\n      <td>180</td>\n    </tr>\n    <tr>\n      <th>1</th>\n      <td>한결</td>\n      <td>남자</td>\n      <td>21</td>\n      <td>177</td>\n    </tr>\n    <tr>\n      <th>2</th>\n      <td>한라</td>\n      <td>여자</td>\n      <td>20</td>\n      <td>160</td>\n    </tr>\n  </tbody>\n</table>\n</div>"
     },
     "execution_count": 11,
     "metadata": {},
     "output_type": "execute_result"
    }
   ],
   "source": [
    "import numpy as np\n",
    "\n",
    "# numpy -> pandas\n",
    "# pd.DataFrame(numpy데이터)\n",
    "arr = np.array([['한빛', '남자', '20', '180'],\n",
    "                ['한결', '남자', '21', '177'],\n",
    "                ['한라', '여자', '20', '160']])\n",
    "col_names = ['이름', '성별', '나이', '키']\n",
    "df4 = pd.DataFrame(arr, columns=col_names)\n",
    "df4"
   ],
   "metadata": {
    "collapsed": false,
    "ExecuteTime": {
     "end_time": "2023-12-15T00:35:35.617098482Z",
     "start_time": "2023-12-15T00:35:35.553718172Z"
    }
   },
   "id": "4db5dd8e65eac370"
  },
  {
   "cell_type": "code",
   "execution_count": 14,
   "outputs": [
    {
     "data": {
      "text/plain": "         0     1     2     3\n0        1  2016  0.63  3.75\n1        2  2015  0.70  2.75\n2        3  2015  0.70  3.00\n3        4  2015  0.70  3.50\n4        5  2015  0.70  3.50\n...    ...   ...   ...   ...\n1790  1791  2011  0.70  3.75\n1791  1792  2011  0.65  3.00\n1792  1793  2011  0.65  3.50\n1793  1794  2011  0.62  3.25\n1794  1795  2010  0.65  3.00\n\n[1795 rows x 4 columns]",
      "text/html": "<div>\n<style scoped>\n    .dataframe tbody tr th:only-of-type {\n        vertical-align: middle;\n    }\n\n    .dataframe tbody tr th {\n        vertical-align: top;\n    }\n\n    .dataframe thead th {\n        text-align: right;\n    }\n</style>\n<table border=\"1\" class=\"dataframe\">\n  <thead>\n    <tr style=\"text-align: right;\">\n      <th></th>\n      <th>0</th>\n      <th>1</th>\n      <th>2</th>\n      <th>3</th>\n    </tr>\n  </thead>\n  <tbody>\n    <tr>\n      <th>0</th>\n      <td>1</td>\n      <td>2016</td>\n      <td>0.63</td>\n      <td>3.75</td>\n    </tr>\n    <tr>\n      <th>1</th>\n      <td>2</td>\n      <td>2015</td>\n      <td>0.70</td>\n      <td>2.75</td>\n    </tr>\n    <tr>\n      <th>2</th>\n      <td>3</td>\n      <td>2015</td>\n      <td>0.70</td>\n      <td>3.00</td>\n    </tr>\n    <tr>\n      <th>3</th>\n      <td>4</td>\n      <td>2015</td>\n      <td>0.70</td>\n      <td>3.50</td>\n    </tr>\n    <tr>\n      <th>4</th>\n      <td>5</td>\n      <td>2015</td>\n      <td>0.70</td>\n      <td>3.50</td>\n    </tr>\n    <tr>\n      <th>...</th>\n      <td>...</td>\n      <td>...</td>\n      <td>...</td>\n      <td>...</td>\n    </tr>\n    <tr>\n      <th>1790</th>\n      <td>1791</td>\n      <td>2011</td>\n      <td>0.70</td>\n      <td>3.75</td>\n    </tr>\n    <tr>\n      <th>1791</th>\n      <td>1792</td>\n      <td>2011</td>\n      <td>0.65</td>\n      <td>3.00</td>\n    </tr>\n    <tr>\n      <th>1792</th>\n      <td>1793</td>\n      <td>2011</td>\n      <td>0.65</td>\n      <td>3.50</td>\n    </tr>\n    <tr>\n      <th>1793</th>\n      <td>1794</td>\n      <td>2011</td>\n      <td>0.62</td>\n      <td>3.25</td>\n    </tr>\n    <tr>\n      <th>1794</th>\n      <td>1795</td>\n      <td>2010</td>\n      <td>0.65</td>\n      <td>3.00</td>\n    </tr>\n  </tbody>\n</table>\n<p>1795 rows × 4 columns</p>\n</div>"
     },
     "execution_count": 14,
     "metadata": {},
     "output_type": "execute_result"
    }
   ],
   "source": [
    "# CSV 파일로 데이터프레임 생성\n",
    "df5 = pd.read_csv('chocolate_rating.csv', header=None)\n",
    "df5"
   ],
   "metadata": {
    "collapsed": false,
    "ExecuteTime": {
     "end_time": "2023-12-15T00:38:39.992017791Z",
     "start_time": "2023-12-15T00:38:39.950296508Z"
    }
   },
   "id": "284d955711c296e6"
  },
  {
   "cell_type": "code",
   "execution_count": 20,
   "outputs": [],
   "source": [
    "df5.to_csv('chocolate_rating1.csv', header=None)"
   ],
   "metadata": {
    "collapsed": false,
    "ExecuteTime": {
     "end_time": "2023-12-15T01:03:33.302687604Z",
     "start_time": "2023-12-15T01:03:33.295078607Z"
    }
   },
   "id": "4813beb0c10009b5"
  },
  {
   "cell_type": "code",
   "execution_count": 22,
   "outputs": [
    {
     "data": {
      "text/plain": "Index(['이름', '성별', '나이', '키'], dtype='object')"
     },
     "execution_count": 22,
     "metadata": {},
     "output_type": "execute_result"
    }
   ],
   "source": [
    "df.columns"
   ],
   "metadata": {
    "collapsed": false,
    "ExecuteTime": {
     "end_time": "2023-12-15T01:04:32.823908851Z",
     "start_time": "2023-12-15T01:04:32.781614452Z"
    }
   },
   "id": "3038cd902c9d4b7"
  },
  {
   "cell_type": "code",
   "execution_count": 23,
   "outputs": [
    {
     "data": {
      "text/plain": "                 0            1            2            3\ncount  1795.000000  1795.000000  1795.000000  1795.000000\nmean    898.000000  2012.325348     0.717003     3.185933\nstd     518.316184     2.927210     0.063230     0.478062\nmin       1.000000  2006.000000     0.420000     1.000000\n25%     449.500000  2010.000000     0.700000     2.875000\n50%     898.000000  2013.000000     0.700000     3.250000\n75%    1346.500000  2015.000000     0.750000     3.500000\nmax    1795.000000  2017.000000     1.000000     5.000000",
      "text/html": "<div>\n<style scoped>\n    .dataframe tbody tr th:only-of-type {\n        vertical-align: middle;\n    }\n\n    .dataframe tbody tr th {\n        vertical-align: top;\n    }\n\n    .dataframe thead th {\n        text-align: right;\n    }\n</style>\n<table border=\"1\" class=\"dataframe\">\n  <thead>\n    <tr style=\"text-align: right;\">\n      <th></th>\n      <th>0</th>\n      <th>1</th>\n      <th>2</th>\n      <th>3</th>\n    </tr>\n  </thead>\n  <tbody>\n    <tr>\n      <th>count</th>\n      <td>1795.000000</td>\n      <td>1795.000000</td>\n      <td>1795.000000</td>\n      <td>1795.000000</td>\n    </tr>\n    <tr>\n      <th>mean</th>\n      <td>898.000000</td>\n      <td>2012.325348</td>\n      <td>0.717003</td>\n      <td>3.185933</td>\n    </tr>\n    <tr>\n      <th>std</th>\n      <td>518.316184</td>\n      <td>2.927210</td>\n      <td>0.063230</td>\n      <td>0.478062</td>\n    </tr>\n    <tr>\n      <th>min</th>\n      <td>1.000000</td>\n      <td>2006.000000</td>\n      <td>0.420000</td>\n      <td>1.000000</td>\n    </tr>\n    <tr>\n      <th>25%</th>\n      <td>449.500000</td>\n      <td>2010.000000</td>\n      <td>0.700000</td>\n      <td>2.875000</td>\n    </tr>\n    <tr>\n      <th>50%</th>\n      <td>898.000000</td>\n      <td>2013.000000</td>\n      <td>0.700000</td>\n      <td>3.250000</td>\n    </tr>\n    <tr>\n      <th>75%</th>\n      <td>1346.500000</td>\n      <td>2015.000000</td>\n      <td>0.750000</td>\n      <td>3.500000</td>\n    </tr>\n    <tr>\n      <th>max</th>\n      <td>1795.000000</td>\n      <td>2017.000000</td>\n      <td>1.000000</td>\n      <td>5.000000</td>\n    </tr>\n  </tbody>\n</table>\n</div>"
     },
     "execution_count": 23,
     "metadata": {},
     "output_type": "execute_result"
    }
   ],
   "source": [
    "df5.describe()"
   ],
   "metadata": {
    "collapsed": false,
    "ExecuteTime": {
     "end_time": "2023-12-15T01:05:14.497294968Z",
     "start_time": "2023-12-15T01:05:14.441001967Z"
    }
   },
   "id": "9b630be36776ff24"
  },
  {
   "cell_type": "code",
   "execution_count": 24,
   "outputs": [
    {
     "name": "stdout",
     "output_type": "stream",
     "text": [
      "<class 'pandas.core.frame.DataFrame'>\n",
      "RangeIndex: 1795 entries, 0 to 1794\n",
      "Data columns (total 4 columns):\n",
      " #   Column  Non-Null Count  Dtype  \n",
      "---  ------  --------------  -----  \n",
      " 0   0       1795 non-null   int64  \n",
      " 1   1       1795 non-null   int64  \n",
      " 2   2       1795 non-null   float64\n",
      " 3   3       1795 non-null   float64\n",
      "dtypes: float64(2), int64(2)\n",
      "memory usage: 56.2 KB\n"
     ]
    }
   ],
   "source": [
    "df5.info()"
   ],
   "metadata": {
    "collapsed": false,
    "ExecuteTime": {
     "end_time": "2023-12-15T01:12:59.675767776Z",
     "start_time": "2023-12-15T01:12:59.629192550Z"
    }
   },
   "id": "a56c3e575ebb5a04"
  },
  {
   "cell_type": "code",
   "execution_count": 28,
   "outputs": [
    {
     "data": {
      "text/plain": "    0     1     2     3\n0   1  2016  0.63  3.75\n1   2  2015  0.70  2.75\n2   3  2015  0.70  3.00\n3   4  2015  0.70  3.50\n4   5  2015  0.70  3.50\n5   6  2014  0.70  2.75\n6   7  2014  0.70  3.50\n7   8  2014  0.70  3.50\n8   9  2014  0.70  3.75\n9  10  2014  0.70  4.00",
      "text/html": "<div>\n<style scoped>\n    .dataframe tbody tr th:only-of-type {\n        vertical-align: middle;\n    }\n\n    .dataframe tbody tr th {\n        vertical-align: top;\n    }\n\n    .dataframe thead th {\n        text-align: right;\n    }\n</style>\n<table border=\"1\" class=\"dataframe\">\n  <thead>\n    <tr style=\"text-align: right;\">\n      <th></th>\n      <th>0</th>\n      <th>1</th>\n      <th>2</th>\n      <th>3</th>\n    </tr>\n  </thead>\n  <tbody>\n    <tr>\n      <th>0</th>\n      <td>1</td>\n      <td>2016</td>\n      <td>0.63</td>\n      <td>3.75</td>\n    </tr>\n    <tr>\n      <th>1</th>\n      <td>2</td>\n      <td>2015</td>\n      <td>0.70</td>\n      <td>2.75</td>\n    </tr>\n    <tr>\n      <th>2</th>\n      <td>3</td>\n      <td>2015</td>\n      <td>0.70</td>\n      <td>3.00</td>\n    </tr>\n    <tr>\n      <th>3</th>\n      <td>4</td>\n      <td>2015</td>\n      <td>0.70</td>\n      <td>3.50</td>\n    </tr>\n    <tr>\n      <th>4</th>\n      <td>5</td>\n      <td>2015</td>\n      <td>0.70</td>\n      <td>3.50</td>\n    </tr>\n    <tr>\n      <th>5</th>\n      <td>6</td>\n      <td>2014</td>\n      <td>0.70</td>\n      <td>2.75</td>\n    </tr>\n    <tr>\n      <th>6</th>\n      <td>7</td>\n      <td>2014</td>\n      <td>0.70</td>\n      <td>3.50</td>\n    </tr>\n    <tr>\n      <th>7</th>\n      <td>8</td>\n      <td>2014</td>\n      <td>0.70</td>\n      <td>3.50</td>\n    </tr>\n    <tr>\n      <th>8</th>\n      <td>9</td>\n      <td>2014</td>\n      <td>0.70</td>\n      <td>3.75</td>\n    </tr>\n    <tr>\n      <th>9</th>\n      <td>10</td>\n      <td>2014</td>\n      <td>0.70</td>\n      <td>4.00</td>\n    </tr>\n  </tbody>\n</table>\n</div>"
     },
     "execution_count": 28,
     "metadata": {},
     "output_type": "execute_result"
    }
   ],
   "source": [
    "df5.head(10)"
   ],
   "metadata": {
    "collapsed": false,
    "ExecuteTime": {
     "end_time": "2023-12-15T01:16:57.690960844Z",
     "start_time": "2023-12-15T01:16:57.671225010Z"
    }
   },
   "id": "7d961e21cb321f21"
  },
  {
   "cell_type": "code",
   "execution_count": 30,
   "outputs": [
    {
     "data": {
      "text/plain": "         0     1     2     3\n1785  1786  2012  0.75  3.00\n1786  1787  2012  0.90  3.25\n1787  1788  2012  0.70  3.75\n1788  1789  2012  0.68  3.25\n1789  1790  2012  0.58  3.50\n1790  1791  2011  0.70  3.75\n1791  1792  2011  0.65  3.00\n1792  1793  2011  0.65  3.50\n1793  1794  2011  0.62  3.25\n1794  1795  2010  0.65  3.00",
      "text/html": "<div>\n<style scoped>\n    .dataframe tbody tr th:only-of-type {\n        vertical-align: middle;\n    }\n\n    .dataframe tbody tr th {\n        vertical-align: top;\n    }\n\n    .dataframe thead th {\n        text-align: right;\n    }\n</style>\n<table border=\"1\" class=\"dataframe\">\n  <thead>\n    <tr style=\"text-align: right;\">\n      <th></th>\n      <th>0</th>\n      <th>1</th>\n      <th>2</th>\n      <th>3</th>\n    </tr>\n  </thead>\n  <tbody>\n    <tr>\n      <th>1785</th>\n      <td>1786</td>\n      <td>2012</td>\n      <td>0.75</td>\n      <td>3.00</td>\n    </tr>\n    <tr>\n      <th>1786</th>\n      <td>1787</td>\n      <td>2012</td>\n      <td>0.90</td>\n      <td>3.25</td>\n    </tr>\n    <tr>\n      <th>1787</th>\n      <td>1788</td>\n      <td>2012</td>\n      <td>0.70</td>\n      <td>3.75</td>\n    </tr>\n    <tr>\n      <th>1788</th>\n      <td>1789</td>\n      <td>2012</td>\n      <td>0.68</td>\n      <td>3.25</td>\n    </tr>\n    <tr>\n      <th>1789</th>\n      <td>1790</td>\n      <td>2012</td>\n      <td>0.58</td>\n      <td>3.50</td>\n    </tr>\n    <tr>\n      <th>1790</th>\n      <td>1791</td>\n      <td>2011</td>\n      <td>0.70</td>\n      <td>3.75</td>\n    </tr>\n    <tr>\n      <th>1791</th>\n      <td>1792</td>\n      <td>2011</td>\n      <td>0.65</td>\n      <td>3.00</td>\n    </tr>\n    <tr>\n      <th>1792</th>\n      <td>1793</td>\n      <td>2011</td>\n      <td>0.65</td>\n      <td>3.50</td>\n    </tr>\n    <tr>\n      <th>1793</th>\n      <td>1794</td>\n      <td>2011</td>\n      <td>0.62</td>\n      <td>3.25</td>\n    </tr>\n    <tr>\n      <th>1794</th>\n      <td>1795</td>\n      <td>2010</td>\n      <td>0.65</td>\n      <td>3.00</td>\n    </tr>\n  </tbody>\n</table>\n</div>"
     },
     "execution_count": 30,
     "metadata": {},
     "output_type": "execute_result"
    }
   ],
   "source": [
    "df5.tail(10)"
   ],
   "metadata": {
    "collapsed": false,
    "ExecuteTime": {
     "end_time": "2023-12-15T01:17:12.300111508Z",
     "start_time": "2023-12-15T01:17:12.253719684Z"
    }
   },
   "id": "8b3c9a8ba03860c0"
  },
  {
   "cell_type": "code",
   "execution_count": 33,
   "outputs": [
    {
     "data": {
      "text/plain": "    이름  성별  나이    키\n0  허준호  남자  30  183\n1  이가원  여자  24  162\n2  배규민  남자  23  179\n3  고고림  남자  21  182\n4  이새봄  여자  28  160\n5  이보람  여자  26  163\n6  이루리  여자  24  157\n7  오다현  여자  24  172",
      "text/html": "<div>\n<style scoped>\n    .dataframe tbody tr th:only-of-type {\n        vertical-align: middle;\n    }\n\n    .dataframe tbody tr th {\n        vertical-align: top;\n    }\n\n    .dataframe thead th {\n        text-align: right;\n    }\n</style>\n<table border=\"1\" class=\"dataframe\">\n  <thead>\n    <tr style=\"text-align: right;\">\n      <th></th>\n      <th>이름</th>\n      <th>성별</th>\n      <th>나이</th>\n      <th>키</th>\n    </tr>\n  </thead>\n  <tbody>\n    <tr>\n      <th>0</th>\n      <td>허준호</td>\n      <td>남자</td>\n      <td>30</td>\n      <td>183</td>\n    </tr>\n    <tr>\n      <th>1</th>\n      <td>이가원</td>\n      <td>여자</td>\n      <td>24</td>\n      <td>162</td>\n    </tr>\n    <tr>\n      <th>2</th>\n      <td>배규민</td>\n      <td>남자</td>\n      <td>23</td>\n      <td>179</td>\n    </tr>\n    <tr>\n      <th>3</th>\n      <td>고고림</td>\n      <td>남자</td>\n      <td>21</td>\n      <td>182</td>\n    </tr>\n    <tr>\n      <th>4</th>\n      <td>이새봄</td>\n      <td>여자</td>\n      <td>28</td>\n      <td>160</td>\n    </tr>\n    <tr>\n      <th>5</th>\n      <td>이보람</td>\n      <td>여자</td>\n      <td>26</td>\n      <td>163</td>\n    </tr>\n    <tr>\n      <th>6</th>\n      <td>이루리</td>\n      <td>여자</td>\n      <td>24</td>\n      <td>157</td>\n    </tr>\n    <tr>\n      <th>7</th>\n      <td>오다현</td>\n      <td>여자</td>\n      <td>24</td>\n      <td>172</td>\n    </tr>\n  </tbody>\n</table>\n</div>"
     },
     "execution_count": 33,
     "metadata": {},
     "output_type": "execute_result"
    }
   ],
   "source": [
    "df6 = pd.DataFrame([['허준호', '남자', '30', '183'],\n",
    "                    ['이가원', '여자', '24', '162'],\n",
    "                    ['배규민', '남자', '23', '179'],\n",
    "                    ['고고림', '남자', '21', '182'],\n",
    "                    ['이새봄', '여자', '28', '160'],\n",
    "                    ['이보람', '여자', '26', '163'], \n",
    "                    ['이루리', '여자', '24', '157'],\n",
    "                    ['오다현', '여자', '24', '172']],\n",
    "                   columns=['이름', '성별', '나이', '키'])"
   ],
   "metadata": {
    "collapsed": false,
    "ExecuteTime": {
     "end_time": "2023-12-15T01:24:22.964069811Z",
     "start_time": "2023-12-15T01:24:22.920155474Z"
    }
   },
   "id": "67089a002de7ab2d"
  },
  {
   "cell_type": "code",
   "execution_count": 38,
   "outputs": [
    {
     "data": {
      "text/plain": "   나이  성별   이름    키\n0  30  남자  허준호  183\n1  24  여자  이가원  162\n2  23  남자  배규민  179\n3  21  남자  고고림  182\n4  28  여자  이새봄  160\n5  26  여자  이보람  163\n6  24  여자  이루리  157\n7  24  여자  오다현  172",
      "text/html": "<div>\n<style scoped>\n    .dataframe tbody tr th:only-of-type {\n        vertical-align: middle;\n    }\n\n    .dataframe tbody tr th {\n        vertical-align: top;\n    }\n\n    .dataframe thead th {\n        text-align: right;\n    }\n</style>\n<table border=\"1\" class=\"dataframe\">\n  <thead>\n    <tr style=\"text-align: right;\">\n      <th></th>\n      <th>나이</th>\n      <th>성별</th>\n      <th>이름</th>\n      <th>키</th>\n    </tr>\n  </thead>\n  <tbody>\n    <tr>\n      <th>0</th>\n      <td>30</td>\n      <td>남자</td>\n      <td>허준호</td>\n      <td>183</td>\n    </tr>\n    <tr>\n      <th>1</th>\n      <td>24</td>\n      <td>여자</td>\n      <td>이가원</td>\n      <td>162</td>\n    </tr>\n    <tr>\n      <th>2</th>\n      <td>23</td>\n      <td>남자</td>\n      <td>배규민</td>\n      <td>179</td>\n    </tr>\n    <tr>\n      <th>3</th>\n      <td>21</td>\n      <td>남자</td>\n      <td>고고림</td>\n      <td>182</td>\n    </tr>\n    <tr>\n      <th>4</th>\n      <td>28</td>\n      <td>여자</td>\n      <td>이새봄</td>\n      <td>160</td>\n    </tr>\n    <tr>\n      <th>5</th>\n      <td>26</td>\n      <td>여자</td>\n      <td>이보람</td>\n      <td>163</td>\n    </tr>\n    <tr>\n      <th>6</th>\n      <td>24</td>\n      <td>여자</td>\n      <td>이루리</td>\n      <td>157</td>\n    </tr>\n    <tr>\n      <th>7</th>\n      <td>24</td>\n      <td>여자</td>\n      <td>오다현</td>\n      <td>172</td>\n    </tr>\n  </tbody>\n</table>\n</div>"
     },
     "execution_count": 38,
     "metadata": {},
     "output_type": "execute_result"
    }
   ],
   "source": [
    "df6.sort_index(axis=1, ascending=True)"
   ],
   "metadata": {
    "collapsed": false,
    "ExecuteTime": {
     "end_time": "2023-12-15T01:26:56.883870822Z",
     "start_time": "2023-12-15T01:26:56.842584190Z"
    }
   },
   "id": "7a342a250eac0609"
  },
  {
   "cell_type": "code",
   "execution_count": 41,
   "outputs": [
    {
     "data": {
      "text/plain": "    이름  성별  나이    키\n3  고고림  남자  21  182\n2  배규민  남자  23  179\n6  이루리  여자  24  157\n1  이가원  여자  24  162\n7  오다현  여자  24  172\n5  이보람  여자  26  163\n4  이새봄  여자  28  160\n0  허준호  남자  30  183",
      "text/html": "<div>\n<style scoped>\n    .dataframe tbody tr th:only-of-type {\n        vertical-align: middle;\n    }\n\n    .dataframe tbody tr th {\n        vertical-align: top;\n    }\n\n    .dataframe thead th {\n        text-align: right;\n    }\n</style>\n<table border=\"1\" class=\"dataframe\">\n  <thead>\n    <tr style=\"text-align: right;\">\n      <th></th>\n      <th>이름</th>\n      <th>성별</th>\n      <th>나이</th>\n      <th>키</th>\n    </tr>\n  </thead>\n  <tbody>\n    <tr>\n      <th>3</th>\n      <td>고고림</td>\n      <td>남자</td>\n      <td>21</td>\n      <td>182</td>\n    </tr>\n    <tr>\n      <th>2</th>\n      <td>배규민</td>\n      <td>남자</td>\n      <td>23</td>\n      <td>179</td>\n    </tr>\n    <tr>\n      <th>6</th>\n      <td>이루리</td>\n      <td>여자</td>\n      <td>24</td>\n      <td>157</td>\n    </tr>\n    <tr>\n      <th>1</th>\n      <td>이가원</td>\n      <td>여자</td>\n      <td>24</td>\n      <td>162</td>\n    </tr>\n    <tr>\n      <th>7</th>\n      <td>오다현</td>\n      <td>여자</td>\n      <td>24</td>\n      <td>172</td>\n    </tr>\n    <tr>\n      <th>5</th>\n      <td>이보람</td>\n      <td>여자</td>\n      <td>26</td>\n      <td>163</td>\n    </tr>\n    <tr>\n      <th>4</th>\n      <td>이새봄</td>\n      <td>여자</td>\n      <td>28</td>\n      <td>160</td>\n    </tr>\n    <tr>\n      <th>0</th>\n      <td>허준호</td>\n      <td>남자</td>\n      <td>30</td>\n      <td>183</td>\n    </tr>\n  </tbody>\n</table>\n</div>"
     },
     "execution_count": 41,
     "metadata": {},
     "output_type": "execute_result"
    }
   ],
   "source": [
    "df6.sort_values(by=['나이', '키'], ascending=True)"
   ],
   "metadata": {
    "collapsed": false,
    "ExecuteTime": {
     "end_time": "2023-12-15T01:28:35.360744631Z",
     "start_time": "2023-12-15T01:28:35.318868239Z"
    }
   },
   "id": "dd2eb5704b6cd1ce"
  },
  {
   "cell_type": "code",
   "execution_count": 43,
   "outputs": [
    {
     "data": {
      "text/plain": "    이름  나이    키\n0  허준호  30  183\n1  이가원  24  162\n2  배규민  23  179\n3  고고림  21  182\n4  이새봄  28  160\n5  이보람  26  163\n6  이루리  24  157\n7  오다현  24  172",
      "text/html": "<div>\n<style scoped>\n    .dataframe tbody tr th:only-of-type {\n        vertical-align: middle;\n    }\n\n    .dataframe tbody tr th {\n        vertical-align: top;\n    }\n\n    .dataframe thead th {\n        text-align: right;\n    }\n</style>\n<table border=\"1\" class=\"dataframe\">\n  <thead>\n    <tr style=\"text-align: right;\">\n      <th></th>\n      <th>이름</th>\n      <th>나이</th>\n      <th>키</th>\n    </tr>\n  </thead>\n  <tbody>\n    <tr>\n      <th>0</th>\n      <td>허준호</td>\n      <td>30</td>\n      <td>183</td>\n    </tr>\n    <tr>\n      <th>1</th>\n      <td>이가원</td>\n      <td>24</td>\n      <td>162</td>\n    </tr>\n    <tr>\n      <th>2</th>\n      <td>배규민</td>\n      <td>23</td>\n      <td>179</td>\n    </tr>\n    <tr>\n      <th>3</th>\n      <td>고고림</td>\n      <td>21</td>\n      <td>182</td>\n    </tr>\n    <tr>\n      <th>4</th>\n      <td>이새봄</td>\n      <td>28</td>\n      <td>160</td>\n    </tr>\n    <tr>\n      <th>5</th>\n      <td>이보람</td>\n      <td>26</td>\n      <td>163</td>\n    </tr>\n    <tr>\n      <th>6</th>\n      <td>이루리</td>\n      <td>24</td>\n      <td>157</td>\n    </tr>\n    <tr>\n      <th>7</th>\n      <td>오다현</td>\n      <td>24</td>\n      <td>172</td>\n    </tr>\n  </tbody>\n</table>\n</div>"
     },
     "execution_count": 43,
     "metadata": {},
     "output_type": "execute_result"
    }
   ],
   "source": [
    "# 데이터 조회\n",
    "# 데이터프레임[조건식] => Series로 출력\n",
    "# 데이터프레임[[조건식]] => DataFrame으로 출력\n",
    "df6[['이름', '나이', '키']] # 데이터프레임으로 반환"
   ],
   "metadata": {
    "collapsed": false,
    "ExecuteTime": {
     "end_time": "2023-12-15T01:32:28.284719987Z",
     "start_time": "2023-12-15T01:32:28.239645365Z"
    }
   },
   "id": "c717e4116e606107"
  },
  {
   "cell_type": "code",
   "execution_count": 44,
   "outputs": [
    {
     "data": {
      "text/plain": "0    허준호\n1    이가원\n2    배규민\n3    고고림\n4    이새봄\n5    이보람\n6    이루리\n7    오다현\nName: 이름, dtype: object"
     },
     "execution_count": 44,
     "metadata": {},
     "output_type": "execute_result"
    }
   ],
   "source": [
    "df6['이름'] # 시리즈로 반환"
   ],
   "metadata": {
    "collapsed": false,
    "ExecuteTime": {
     "end_time": "2023-12-15T01:32:33.993854733Z",
     "start_time": "2023-12-15T01:32:33.989211088Z"
    }
   },
   "id": "3e1c4be4fb1891d1"
  },
  {
   "cell_type": "code",
   "execution_count": 46,
   "outputs": [
    {
     "data": {
      "text/plain": "0    183\n1    162\n2    179\n3    182\n4    160\n5    163\n6    157\n7    172\nName: 키, dtype: object"
     },
     "execution_count": 46,
     "metadata": {},
     "output_type": "execute_result"
    }
   ],
   "source": [
    "df6['키']"
   ],
   "metadata": {
    "collapsed": false,
    "ExecuteTime": {
     "end_time": "2023-12-15T01:34:59.299785032Z",
     "start_time": "2023-12-15T01:34:59.257015216Z"
    }
   },
   "id": "e3b3ad31c6f03767"
  },
  {
   "cell_type": "code",
   "execution_count": 47,
   "outputs": [
    {
     "data": {
      "text/plain": "0    30\n1    24\n2    23\n3    21\nName: 나이, dtype: object"
     },
     "execution_count": 47,
     "metadata": {},
     "output_type": "execute_result"
    }
   ],
   "source": [
    "# loc[]: location => \n",
    "# iloc[]: integer location => 숫자 인덱스 형태로 조회\n",
    "\n",
    "df6.loc[0:3, '나이']"
   ],
   "metadata": {
    "collapsed": false,
    "ExecuteTime": {
     "end_time": "2023-12-15T01:41:05.645936930Z",
     "start_time": "2023-12-15T01:41:05.599213077Z"
    }
   },
   "id": "7c2304e6877e0104"
  },
  {
   "cell_type": "code",
   "execution_count": 49,
   "outputs": [
    {
     "data": {
      "text/plain": "0    30\n1    24\n2    23\n3    21\nName: 나이, dtype: object"
     },
     "execution_count": 49,
     "metadata": {},
     "output_type": "execute_result"
    }
   ],
   "source": [
    "df6.iloc[0:4, 2]"
   ],
   "metadata": {
    "collapsed": false,
    "ExecuteTime": {
     "end_time": "2023-12-15T01:41:53.748609984Z",
     "start_time": "2023-12-15T01:41:53.707218448Z"
    }
   },
   "id": "6828c6a697fc6dbc"
  },
  {
   "cell_type": "code",
   "execution_count": 54,
   "outputs": [
    {
     "name": "stdout",
     "output_type": "stream",
     "text": [
      "<class 'pandas.core.frame.DataFrame'>\n",
      "RangeIndex: 8 entries, 0 to 7\n",
      "Data columns (total 4 columns):\n",
      " #   Column  Non-Null Count  Dtype \n",
      "---  ------  --------------  ----- \n",
      " 0   이름      8 non-null      object\n",
      " 1   성별      8 non-null      object\n",
      " 2   나이      8 non-null      int64 \n",
      " 3   키       8 non-null      int64 \n",
      "dtypes: int64(2), object(2)\n",
      "memory usage: 384.0+ bytes\n"
     ]
    }
   ],
   "source": [
    "# df6.info()\n",
    "df6[['나이', '키']] = df6[['나이', '키']].astype(dtype=int)\n",
    "df6.info()"
   ],
   "metadata": {
    "collapsed": false,
    "ExecuteTime": {
     "end_time": "2023-12-15T01:48:32.079745046Z",
     "start_time": "2023-12-15T01:48:32.032822294Z"
    }
   },
   "id": "d6339a68274f3f5a"
  },
  {
   "cell_type": "code",
   "execution_count": 55,
   "outputs": [
    {
     "data": {
      "text/plain": "    이름  성별  나이    키\n0  허준호  남자  30  183\n1  이가원  여자  24  162\n2  배규민  남자  23  179\n3  고고림  남자  21  182\n4  이새봄  여자  28  160\n5  이보람  여자  26  163\n6  이루리  여자  24  157\n7  오다현  여자  24  172",
      "text/html": "<div>\n<style scoped>\n    .dataframe tbody tr th:only-of-type {\n        vertical-align: middle;\n    }\n\n    .dataframe tbody tr th {\n        vertical-align: top;\n    }\n\n    .dataframe thead th {\n        text-align: right;\n    }\n</style>\n<table border=\"1\" class=\"dataframe\">\n  <thead>\n    <tr style=\"text-align: right;\">\n      <th></th>\n      <th>이름</th>\n      <th>성별</th>\n      <th>나이</th>\n      <th>키</th>\n    </tr>\n  </thead>\n  <tbody>\n    <tr>\n      <th>0</th>\n      <td>허준호</td>\n      <td>남자</td>\n      <td>30</td>\n      <td>183</td>\n    </tr>\n    <tr>\n      <th>1</th>\n      <td>이가원</td>\n      <td>여자</td>\n      <td>24</td>\n      <td>162</td>\n    </tr>\n    <tr>\n      <th>2</th>\n      <td>배규민</td>\n      <td>남자</td>\n      <td>23</td>\n      <td>179</td>\n    </tr>\n    <tr>\n      <th>3</th>\n      <td>고고림</td>\n      <td>남자</td>\n      <td>21</td>\n      <td>182</td>\n    </tr>\n    <tr>\n      <th>4</th>\n      <td>이새봄</td>\n      <td>여자</td>\n      <td>28</td>\n      <td>160</td>\n    </tr>\n    <tr>\n      <th>5</th>\n      <td>이보람</td>\n      <td>여자</td>\n      <td>26</td>\n      <td>163</td>\n    </tr>\n    <tr>\n      <th>6</th>\n      <td>이루리</td>\n      <td>여자</td>\n      <td>24</td>\n      <td>157</td>\n    </tr>\n    <tr>\n      <th>7</th>\n      <td>오다현</td>\n      <td>여자</td>\n      <td>24</td>\n      <td>172</td>\n    </tr>\n  </tbody>\n</table>\n</div>"
     },
     "execution_count": 55,
     "metadata": {},
     "output_type": "execute_result"
    }
   ],
   "source": [
    "df6"
   ],
   "metadata": {
    "collapsed": false,
    "ExecuteTime": {
     "end_time": "2023-12-15T01:48:40.249137982Z",
     "start_time": "2023-12-15T01:48:40.238021430Z"
    }
   },
   "id": "1138d3ae5073e03f"
  },
  {
   "cell_type": "code",
   "execution_count": 57,
   "outputs": [
    {
     "data": {
      "text/plain": "    이름  성별  나이    키\n0  허준호  남자  30  183\n3  고고림  남자  21  182",
      "text/html": "<div>\n<style scoped>\n    .dataframe tbody tr th:only-of-type {\n        vertical-align: middle;\n    }\n\n    .dataframe tbody tr th {\n        vertical-align: top;\n    }\n\n    .dataframe thead th {\n        text-align: right;\n    }\n</style>\n<table border=\"1\" class=\"dataframe\">\n  <thead>\n    <tr style=\"text-align: right;\">\n      <th></th>\n      <th>이름</th>\n      <th>성별</th>\n      <th>나이</th>\n      <th>키</th>\n    </tr>\n  </thead>\n  <tbody>\n    <tr>\n      <th>0</th>\n      <td>허준호</td>\n      <td>남자</td>\n      <td>30</td>\n      <td>183</td>\n    </tr>\n    <tr>\n      <th>3</th>\n      <td>고고림</td>\n      <td>남자</td>\n      <td>21</td>\n      <td>182</td>\n    </tr>\n  </tbody>\n</table>\n</div>"
     },
     "execution_count": 57,
     "metadata": {},
     "output_type": "execute_result"
    }
   ],
   "source": [
    "# numpy[조건식]\n",
    "# df[[조건식]]\n",
    "df6[df6['키'] >= 180]"
   ],
   "metadata": {
    "collapsed": false,
    "ExecuteTime": {
     "end_time": "2023-12-15T02:06:19.439951364Z",
     "start_time": "2023-12-15T02:06:19.399983433Z"
    }
   },
   "id": "437016480239a253"
  },
  {
   "cell_type": "code",
   "execution_count": 59,
   "outputs": [
    {
     "data": {
      "text/plain": "    이름  성별  나이    키\n1  이가원  여자  24  162\n4  이새봄  여자  28  160\n5  이보람  여자  26  163\n7  오다현  여자  24  172",
      "text/html": "<div>\n<style scoped>\n    .dataframe tbody tr th:only-of-type {\n        vertical-align: middle;\n    }\n\n    .dataframe tbody tr th {\n        vertical-align: top;\n    }\n\n    .dataframe thead th {\n        text-align: right;\n    }\n</style>\n<table border=\"1\" class=\"dataframe\">\n  <thead>\n    <tr style=\"text-align: right;\">\n      <th></th>\n      <th>이름</th>\n      <th>성별</th>\n      <th>나이</th>\n      <th>키</th>\n    </tr>\n  </thead>\n  <tbody>\n    <tr>\n      <th>1</th>\n      <td>이가원</td>\n      <td>여자</td>\n      <td>24</td>\n      <td>162</td>\n    </tr>\n    <tr>\n      <th>4</th>\n      <td>이새봄</td>\n      <td>여자</td>\n      <td>28</td>\n      <td>160</td>\n    </tr>\n    <tr>\n      <th>5</th>\n      <td>이보람</td>\n      <td>여자</td>\n      <td>26</td>\n      <td>163</td>\n    </tr>\n    <tr>\n      <th>7</th>\n      <td>오다현</td>\n      <td>여자</td>\n      <td>24</td>\n      <td>172</td>\n    </tr>\n  </tbody>\n</table>\n</div>"
     },
     "execution_count": 59,
     "metadata": {},
     "output_type": "execute_result"
    }
   ],
   "source": [
    "df6[(df6['성별'] == '여자') & (df6['키'] >= 160)] "
   ],
   "metadata": {
    "collapsed": false,
    "ExecuteTime": {
     "end_time": "2023-12-15T02:09:27.971018375Z",
     "start_time": "2023-12-15T02:09:27.912067828Z"
    }
   },
   "id": "168eab24e0ada67e"
  },
  {
   "cell_type": "code",
   "execution_count": 60,
   "outputs": [
    {
     "data": {
      "text/plain": "    이름  성별  나이    키\n0  허준호  남자  30  183\n2  배규민  남자  23  179\n3  고고림  남자  21  182\n4  이새봄  여자  28  160",
      "text/html": "<div>\n<style scoped>\n    .dataframe tbody tr th:only-of-type {\n        vertical-align: middle;\n    }\n\n    .dataframe tbody tr th {\n        vertical-align: top;\n    }\n\n    .dataframe thead th {\n        text-align: right;\n    }\n</style>\n<table border=\"1\" class=\"dataframe\">\n  <thead>\n    <tr style=\"text-align: right;\">\n      <th></th>\n      <th>이름</th>\n      <th>성별</th>\n      <th>나이</th>\n      <th>키</th>\n    </tr>\n  </thead>\n  <tbody>\n    <tr>\n      <th>0</th>\n      <td>허준호</td>\n      <td>남자</td>\n      <td>30</td>\n      <td>183</td>\n    </tr>\n    <tr>\n      <th>2</th>\n      <td>배규민</td>\n      <td>남자</td>\n      <td>23</td>\n      <td>179</td>\n    </tr>\n    <tr>\n      <th>3</th>\n      <td>고고림</td>\n      <td>남자</td>\n      <td>21</td>\n      <td>182</td>\n    </tr>\n    <tr>\n      <th>4</th>\n      <td>이새봄</td>\n      <td>여자</td>\n      <td>28</td>\n      <td>160</td>\n    </tr>\n  </tbody>\n</table>\n</div>"
     },
     "execution_count": 60,
     "metadata": {},
     "output_type": "execute_result"
    }
   ],
   "source": [
    "df6[(df6['나이'] >= 28) | (df6['성별'] == '남자')]"
   ],
   "metadata": {
    "collapsed": false,
    "ExecuteTime": {
     "end_time": "2023-12-15T02:12:15.355937497Z",
     "start_time": "2023-12-15T02:12:15.314949954Z"
    }
   },
   "id": "219e54ea70b5f384"
  },
  {
   "cell_type": "code",
   "execution_count": 61,
   "outputs": [
    {
     "data": {
      "text/plain": "    이름  성별  나이    키\n2  배규민  남자  23  179\n3  고고림  남자  21  182",
      "text/html": "<div>\n<style scoped>\n    .dataframe tbody tr th:only-of-type {\n        vertical-align: middle;\n    }\n\n    .dataframe tbody tr th {\n        vertical-align: top;\n    }\n\n    .dataframe thead th {\n        text-align: right;\n    }\n</style>\n<table border=\"1\" class=\"dataframe\">\n  <thead>\n    <tr style=\"text-align: right;\">\n      <th></th>\n      <th>이름</th>\n      <th>성별</th>\n      <th>나이</th>\n      <th>키</th>\n    </tr>\n  </thead>\n  <tbody>\n    <tr>\n      <th>2</th>\n      <td>배규민</td>\n      <td>남자</td>\n      <td>23</td>\n      <td>179</td>\n    </tr>\n    <tr>\n      <th>3</th>\n      <td>고고림</td>\n      <td>남자</td>\n      <td>21</td>\n      <td>182</td>\n    </tr>\n  </tbody>\n</table>\n</div>"
     },
     "execution_count": 61,
     "metadata": {},
     "output_type": "execute_result"
    }
   ],
   "source": [
    "df6[df6['나이'].isin([21, 23])]"
   ],
   "metadata": {
    "collapsed": false,
    "ExecuteTime": {
     "end_time": "2023-12-15T02:16:09.876227438Z",
     "start_time": "2023-12-15T02:16:09.828615323Z"
    }
   },
   "id": "5601dcbadfec8a13"
  },
  {
   "cell_type": "code",
   "execution_count": 68,
   "outputs": [
    {
     "data": {
      "text/plain": "         0     1    2     3\n1        2  2015  0.7  2.75\n2        3  2015  0.7  3.00\n3        4  2015  0.7  3.50\n4        5  2015  0.7  3.50\n5        6  2014  0.7  2.75\n...    ...   ...  ...   ...\n1771  1772  2016  0.7  3.50\n1781  1782  2012  0.7  3.00\n1782  1783  2012  0.7  3.50\n1787  1788  2012  0.7  3.75\n1790  1791  2011  0.7  3.75\n\n[672 rows x 4 columns]",
      "text/html": "<div>\n<style scoped>\n    .dataframe tbody tr th:only-of-type {\n        vertical-align: middle;\n    }\n\n    .dataframe tbody tr th {\n        vertical-align: top;\n    }\n\n    .dataframe thead th {\n        text-align: right;\n    }\n</style>\n<table border=\"1\" class=\"dataframe\">\n  <thead>\n    <tr style=\"text-align: right;\">\n      <th></th>\n      <th>0</th>\n      <th>1</th>\n      <th>2</th>\n      <th>3</th>\n    </tr>\n  </thead>\n  <tbody>\n    <tr>\n      <th>1</th>\n      <td>2</td>\n      <td>2015</td>\n      <td>0.7</td>\n      <td>2.75</td>\n    </tr>\n    <tr>\n      <th>2</th>\n      <td>3</td>\n      <td>2015</td>\n      <td>0.7</td>\n      <td>3.00</td>\n    </tr>\n    <tr>\n      <th>3</th>\n      <td>4</td>\n      <td>2015</td>\n      <td>0.7</td>\n      <td>3.50</td>\n    </tr>\n    <tr>\n      <th>4</th>\n      <td>5</td>\n      <td>2015</td>\n      <td>0.7</td>\n      <td>3.50</td>\n    </tr>\n    <tr>\n      <th>5</th>\n      <td>6</td>\n      <td>2014</td>\n      <td>0.7</td>\n      <td>2.75</td>\n    </tr>\n    <tr>\n      <th>...</th>\n      <td>...</td>\n      <td>...</td>\n      <td>...</td>\n      <td>...</td>\n    </tr>\n    <tr>\n      <th>1771</th>\n      <td>1772</td>\n      <td>2016</td>\n      <td>0.7</td>\n      <td>3.50</td>\n    </tr>\n    <tr>\n      <th>1781</th>\n      <td>1782</td>\n      <td>2012</td>\n      <td>0.7</td>\n      <td>3.00</td>\n    </tr>\n    <tr>\n      <th>1782</th>\n      <td>1783</td>\n      <td>2012</td>\n      <td>0.7</td>\n      <td>3.50</td>\n    </tr>\n    <tr>\n      <th>1787</th>\n      <td>1788</td>\n      <td>2012</td>\n      <td>0.7</td>\n      <td>3.75</td>\n    </tr>\n    <tr>\n      <th>1790</th>\n      <td>1791</td>\n      <td>2011</td>\n      <td>0.7</td>\n      <td>3.75</td>\n    </tr>\n  </tbody>\n</table>\n<p>672 rows × 4 columns</p>\n</div>"
     },
     "execution_count": 68,
     "metadata": {},
     "output_type": "execute_result"
    }
   ],
   "source": [
    "# df5의 카카오 함유량이 0.7인 데이터만 출력하시오.\n",
    "df5[df5[2].isin([0.7])]"
   ],
   "metadata": {
    "collapsed": false,
    "ExecuteTime": {
     "end_time": "2023-12-15T02:19:50.848001561Z",
     "start_time": "2023-12-15T02:19:50.804897670Z"
    }
   },
   "id": "b684407d92d031f2"
  },
  {
   "cell_type": "code",
   "execution_count": 71,
   "outputs": [
    {
     "data": {
      "text/plain": "         0     1     2    3\n1203  1204  2015  0.75  4.0\n1487  1488  2015  0.72  4.0\n1515  1516  2015  0.75  4.0",
      "text/html": "<div>\n<style scoped>\n    .dataframe tbody tr th:only-of-type {\n        vertical-align: middle;\n    }\n\n    .dataframe tbody tr th {\n        vertical-align: top;\n    }\n\n    .dataframe thead th {\n        text-align: right;\n    }\n</style>\n<table border=\"1\" class=\"dataframe\">\n  <thead>\n    <tr style=\"text-align: right;\">\n      <th></th>\n      <th>0</th>\n      <th>1</th>\n      <th>2</th>\n      <th>3</th>\n    </tr>\n  </thead>\n  <tbody>\n    <tr>\n      <th>1203</th>\n      <td>1204</td>\n      <td>2015</td>\n      <td>0.75</td>\n      <td>4.0</td>\n    </tr>\n    <tr>\n      <th>1487</th>\n      <td>1488</td>\n      <td>2015</td>\n      <td>0.72</td>\n      <td>4.0</td>\n    </tr>\n    <tr>\n      <th>1515</th>\n      <td>1516</td>\n      <td>2015</td>\n      <td>0.75</td>\n      <td>4.0</td>\n    </tr>\n  </tbody>\n</table>\n</div>"
     },
     "execution_count": 71,
     "metadata": {},
     "output_type": "execute_result"
    }
   ],
   "source": [
    "# df5의 평점이 4.0 이상이고 카카오 함유량이 0.71 이상이면서 연도가 2015년도인 초콜릿을 출력하시오.\n",
    "df5[(df5[3] >= 4.0) & (df5[2] >= 0.71) & (df5[1] == 2015)]"
   ],
   "metadata": {
    "collapsed": false,
    "ExecuteTime": {
     "end_time": "2023-12-15T02:29:32.914029223Z",
     "start_time": "2023-12-15T02:29:32.902516975Z"
    }
   },
   "id": "786e593b75cd09dc"
  },
  {
   "cell_type": "code",
   "execution_count": 73,
   "outputs": [
    {
     "name": "stdout",
     "output_type": "stream",
     "text": [
      "<class 'pandas.core.frame.DataFrame'>\n",
      "RangeIndex: 8 entries, 0 to 7\n",
      "Data columns (total 4 columns):\n",
      " #   Column  Non-Null Count  Dtype \n",
      "---  ------  --------------  ----- \n",
      " 0   이름      8 non-null      object\n",
      " 1   성별      8 non-null      object\n",
      " 2   나이      8 non-null      int64 \n",
      " 3   키       8 non-null      int64 \n",
      "dtypes: int64(2), object(2)\n",
      "memory usage: 384.0+ bytes\n"
     ]
    }
   ],
   "source": [
    "# 문자가 포함되어 있는지\n",
    "df6[df6['이름'].str.contains('봄')]"
   ],
   "metadata": {
    "collapsed": false,
    "ExecuteTime": {
     "end_time": "2023-12-15T02:31:24.315789552Z",
     "start_time": "2023-12-15T02:31:24.272420868Z"
    }
   },
   "id": "82ed8b1069f09954"
  },
  {
   "cell_type": "code",
   "execution_count": 79,
   "outputs": [
    {
     "data": {
      "text/plain": "    이름  성별  나이    키\n0  허준호  남자  30  183\n1  이가원  여자  24  162\n2  배규민  남자  23  179\n3  고고림  남자  21  182\n4  이새봄  여자  28  175\n5  이보람  여자  26  163\n6  이루리  여자  24  157\n7  오다현  여자  24  172",
      "text/html": "<div>\n<style scoped>\n    .dataframe tbody tr th:only-of-type {\n        vertical-align: middle;\n    }\n\n    .dataframe tbody tr th {\n        vertical-align: top;\n    }\n\n    .dataframe thead th {\n        text-align: right;\n    }\n</style>\n<table border=\"1\" class=\"dataframe\">\n  <thead>\n    <tr style=\"text-align: right;\">\n      <th></th>\n      <th>이름</th>\n      <th>성별</th>\n      <th>나이</th>\n      <th>키</th>\n    </tr>\n  </thead>\n  <tbody>\n    <tr>\n      <th>0</th>\n      <td>허준호</td>\n      <td>남자</td>\n      <td>30</td>\n      <td>183</td>\n    </tr>\n    <tr>\n      <th>1</th>\n      <td>이가원</td>\n      <td>여자</td>\n      <td>24</td>\n      <td>162</td>\n    </tr>\n    <tr>\n      <th>2</th>\n      <td>배규민</td>\n      <td>남자</td>\n      <td>23</td>\n      <td>179</td>\n    </tr>\n    <tr>\n      <th>3</th>\n      <td>고고림</td>\n      <td>남자</td>\n      <td>21</td>\n      <td>182</td>\n    </tr>\n    <tr>\n      <th>4</th>\n      <td>이새봄</td>\n      <td>여자</td>\n      <td>28</td>\n      <td>175</td>\n    </tr>\n    <tr>\n      <th>5</th>\n      <td>이보람</td>\n      <td>여자</td>\n      <td>26</td>\n      <td>163</td>\n    </tr>\n    <tr>\n      <th>6</th>\n      <td>이루리</td>\n      <td>여자</td>\n      <td>24</td>\n      <td>157</td>\n    </tr>\n    <tr>\n      <th>7</th>\n      <td>오다현</td>\n      <td>여자</td>\n      <td>24</td>\n      <td>172</td>\n    </tr>\n  </tbody>\n</table>\n</div>"
     },
     "execution_count": 79,
     "metadata": {},
     "output_type": "execute_result"
    }
   ],
   "source": [
    "df6.loc[4, '키'] = df6.loc[4, '키'] + 5\n",
    "df6"
   ],
   "metadata": {
    "collapsed": false,
    "ExecuteTime": {
     "end_time": "2023-12-15T02:36:31.628496532Z",
     "start_time": "2023-12-15T02:36:31.601368423Z"
    }
   },
   "id": "aaeeefc06764a7dc"
  },
  {
   "cell_type": "code",
   "execution_count": 82,
   "outputs": [
    {
     "data": {
      "text/plain": "    이름  성별  나이    키\n0  허준호  남자  30  183\n1  이가원  여자  24  162\n2  배규민  남자  23  179\n3  고고림  남자  21  182\n4  이새봄  여자  28  160\n5  이보람  여자  26  163\n6  이루리  여자  24  157\n7  오다현  여자  24  172",
      "text/html": "<div>\n<style scoped>\n    .dataframe tbody tr th:only-of-type {\n        vertical-align: middle;\n    }\n\n    .dataframe tbody tr th {\n        vertical-align: top;\n    }\n\n    .dataframe thead th {\n        text-align: right;\n    }\n</style>\n<table border=\"1\" class=\"dataframe\">\n  <thead>\n    <tr style=\"text-align: right;\">\n      <th></th>\n      <th>이름</th>\n      <th>성별</th>\n      <th>나이</th>\n      <th>키</th>\n    </tr>\n  </thead>\n  <tbody>\n    <tr>\n      <th>0</th>\n      <td>허준호</td>\n      <td>남자</td>\n      <td>30</td>\n      <td>183</td>\n    </tr>\n    <tr>\n      <th>1</th>\n      <td>이가원</td>\n      <td>여자</td>\n      <td>24</td>\n      <td>162</td>\n    </tr>\n    <tr>\n      <th>2</th>\n      <td>배규민</td>\n      <td>남자</td>\n      <td>23</td>\n      <td>179</td>\n    </tr>\n    <tr>\n      <th>3</th>\n      <td>고고림</td>\n      <td>남자</td>\n      <td>21</td>\n      <td>182</td>\n    </tr>\n    <tr>\n      <th>4</th>\n      <td>이새봄</td>\n      <td>여자</td>\n      <td>28</td>\n      <td>160</td>\n    </tr>\n    <tr>\n      <th>5</th>\n      <td>이보람</td>\n      <td>여자</td>\n      <td>26</td>\n      <td>163</td>\n    </tr>\n    <tr>\n      <th>6</th>\n      <td>이루리</td>\n      <td>여자</td>\n      <td>24</td>\n      <td>157</td>\n    </tr>\n    <tr>\n      <th>7</th>\n      <td>오다현</td>\n      <td>여자</td>\n      <td>24</td>\n      <td>172</td>\n    </tr>\n  </tbody>\n</table>\n</div>"
     },
     "execution_count": 82,
     "metadata": {},
     "output_type": "execute_result"
    }
   ],
   "source": [
    "df6.loc[4, '키'] = df6.loc[4, '키'] - 5\n",
    "df6"
   ],
   "metadata": {
    "collapsed": false,
    "ExecuteTime": {
     "end_time": "2023-12-15T02:37:04.056282470Z",
     "start_time": "2023-12-15T02:37:04.052541392Z"
    }
   },
   "id": "b44350b1ce694d32"
  },
  {
   "cell_type": "code",
   "execution_count": 88,
   "outputs": [
    {
     "data": {
      "text/plain": "    이름  성별  나이     키\n0  허준호  남자  30   183\n1  이가원  여자  24  None\n2  배규민  남자  23  None\n3  고고림  남자  21  None\n4  이새봄  여자  28   160\n5  이보람  여자  26   163\n6  이루리  여자  24   157\n7  오다현  여자  24   172",
      "text/html": "<div>\n<style scoped>\n    .dataframe tbody tr th:only-of-type {\n        vertical-align: middle;\n    }\n\n    .dataframe tbody tr th {\n        vertical-align: top;\n    }\n\n    .dataframe thead th {\n        text-align: right;\n    }\n</style>\n<table border=\"1\" class=\"dataframe\">\n  <thead>\n    <tr style=\"text-align: right;\">\n      <th></th>\n      <th>이름</th>\n      <th>성별</th>\n      <th>나이</th>\n      <th>키</th>\n    </tr>\n  </thead>\n  <tbody>\n    <tr>\n      <th>0</th>\n      <td>허준호</td>\n      <td>남자</td>\n      <td>30</td>\n      <td>183</td>\n    </tr>\n    <tr>\n      <th>1</th>\n      <td>이가원</td>\n      <td>여자</td>\n      <td>24</td>\n      <td>None</td>\n    </tr>\n    <tr>\n      <th>2</th>\n      <td>배규민</td>\n      <td>남자</td>\n      <td>23</td>\n      <td>None</td>\n    </tr>\n    <tr>\n      <th>3</th>\n      <td>고고림</td>\n      <td>남자</td>\n      <td>21</td>\n      <td>None</td>\n    </tr>\n    <tr>\n      <th>4</th>\n      <td>이새봄</td>\n      <td>여자</td>\n      <td>28</td>\n      <td>160</td>\n    </tr>\n    <tr>\n      <th>5</th>\n      <td>이보람</td>\n      <td>여자</td>\n      <td>26</td>\n      <td>163</td>\n    </tr>\n    <tr>\n      <th>6</th>\n      <td>이루리</td>\n      <td>여자</td>\n      <td>24</td>\n      <td>157</td>\n    </tr>\n    <tr>\n      <th>7</th>\n      <td>오다현</td>\n      <td>여자</td>\n      <td>24</td>\n      <td>172</td>\n    </tr>\n  </tbody>\n</table>\n</div>"
     },
     "execution_count": 88,
     "metadata": {},
     "output_type": "execute_result"
    }
   ],
   "source": [
    "df6.loc[1:3, '키'] = [None] * 3\n",
    "df6"
   ],
   "metadata": {
    "collapsed": false,
    "ExecuteTime": {
     "end_time": "2023-12-15T02:40:06.616153713Z",
     "start_time": "2023-12-15T02:40:06.557875492Z"
    }
   },
   "id": "44135eca6c217748"
  },
  {
   "cell_type": "code",
   "execution_count": 89,
   "outputs": [
    {
     "data": {
      "text/plain": "    이름  성별  나이    키\n0  허준호  남자  30  183\n1  이가원  여자  24  162\n2  배규민  남자  23  179\n3  고고림  남자  21  182\n4  이새봄  여자  28  160\n5  이보람  여자  26  163\n6  이루리  여자  24  157\n7  오다현  여자  24  172",
      "text/html": "<div>\n<style scoped>\n    .dataframe tbody tr th:only-of-type {\n        vertical-align: middle;\n    }\n\n    .dataframe tbody tr th {\n        vertical-align: top;\n    }\n\n    .dataframe thead th {\n        text-align: right;\n    }\n</style>\n<table border=\"1\" class=\"dataframe\">\n  <thead>\n    <tr style=\"text-align: right;\">\n      <th></th>\n      <th>이름</th>\n      <th>성별</th>\n      <th>나이</th>\n      <th>키</th>\n    </tr>\n  </thead>\n  <tbody>\n    <tr>\n      <th>0</th>\n      <td>허준호</td>\n      <td>남자</td>\n      <td>30</td>\n      <td>183</td>\n    </tr>\n    <tr>\n      <th>1</th>\n      <td>이가원</td>\n      <td>여자</td>\n      <td>24</td>\n      <td>162</td>\n    </tr>\n    <tr>\n      <th>2</th>\n      <td>배규민</td>\n      <td>남자</td>\n      <td>23</td>\n      <td>179</td>\n    </tr>\n    <tr>\n      <th>3</th>\n      <td>고고림</td>\n      <td>남자</td>\n      <td>21</td>\n      <td>182</td>\n    </tr>\n    <tr>\n      <th>4</th>\n      <td>이새봄</td>\n      <td>여자</td>\n      <td>28</td>\n      <td>160</td>\n    </tr>\n    <tr>\n      <th>5</th>\n      <td>이보람</td>\n      <td>여자</td>\n      <td>26</td>\n      <td>163</td>\n    </tr>\n    <tr>\n      <th>6</th>\n      <td>이루리</td>\n      <td>여자</td>\n      <td>24</td>\n      <td>157</td>\n    </tr>\n    <tr>\n      <th>7</th>\n      <td>오다현</td>\n      <td>여자</td>\n      <td>24</td>\n      <td>172</td>\n    </tr>\n  </tbody>\n</table>\n</div>"
     },
     "execution_count": 89,
     "metadata": {},
     "output_type": "execute_result"
    }
   ],
   "source": [
    "df6.loc[1:3, '키'] = [162, 179, 182]\n",
    "df6"
   ],
   "metadata": {
    "collapsed": false,
    "ExecuteTime": {
     "end_time": "2023-12-15T02:40:36.446245329Z",
     "start_time": "2023-12-15T02:40:36.390438035Z"
    }
   },
   "id": "34878bfedd9e39c0"
  },
  {
   "cell_type": "code",
   "execution_count": 91,
   "outputs": [
    {
     "data": {
      "text/plain": "     성별  나이    키\n이름              \n허준호  남자  30  183\n이가원  여자  24  162\n배규민  남자  23  179\n고고림  남자  21  182\n이새봄  여자  28  160\n이보람  여자  26  163\n이루리  여자  24  157\n오다현  여자  24  172",
      "text/html": "<div>\n<style scoped>\n    .dataframe tbody tr th:only-of-type {\n        vertical-align: middle;\n    }\n\n    .dataframe tbody tr th {\n        vertical-align: top;\n    }\n\n    .dataframe thead th {\n        text-align: right;\n    }\n</style>\n<table border=\"1\" class=\"dataframe\">\n  <thead>\n    <tr style=\"text-align: right;\">\n      <th></th>\n      <th>성별</th>\n      <th>나이</th>\n      <th>키</th>\n    </tr>\n    <tr>\n      <th>이름</th>\n      <th></th>\n      <th></th>\n      <th></th>\n    </tr>\n  </thead>\n  <tbody>\n    <tr>\n      <th>허준호</th>\n      <td>남자</td>\n      <td>30</td>\n      <td>183</td>\n    </tr>\n    <tr>\n      <th>이가원</th>\n      <td>여자</td>\n      <td>24</td>\n      <td>162</td>\n    </tr>\n    <tr>\n      <th>배규민</th>\n      <td>남자</td>\n      <td>23</td>\n      <td>179</td>\n    </tr>\n    <tr>\n      <th>고고림</th>\n      <td>남자</td>\n      <td>21</td>\n      <td>182</td>\n    </tr>\n    <tr>\n      <th>이새봄</th>\n      <td>여자</td>\n      <td>28</td>\n      <td>160</td>\n    </tr>\n    <tr>\n      <th>이보람</th>\n      <td>여자</td>\n      <td>26</td>\n      <td>163</td>\n    </tr>\n    <tr>\n      <th>이루리</th>\n      <td>여자</td>\n      <td>24</td>\n      <td>157</td>\n    </tr>\n    <tr>\n      <th>오다현</th>\n      <td>여자</td>\n      <td>24</td>\n      <td>172</td>\n    </tr>\n  </tbody>\n</table>\n</div>"
     },
     "execution_count": 91,
     "metadata": {},
     "output_type": "execute_result"
    }
   ],
   "source": [
    "# 데이터프레임 구조 수정\n",
    "df7 = df6.set_index('이름', inplace=False)\n",
    "df7"
   ],
   "metadata": {
    "collapsed": false,
    "ExecuteTime": {
     "end_time": "2023-12-15T02:43:57.896088817Z",
     "start_time": "2023-12-15T02:43:57.854782370Z"
    }
   },
   "id": "a94db795715e2703"
  },
  {
   "cell_type": "code",
   "execution_count": 92,
   "outputs": [
    {
     "data": {
      "text/plain": "    이름  성별  나이    키     보너스\n0  허준호  남자  30  183  300000\n1  이가원  여자  24  162  240000\n2  배규민  남자  23  179  230000\n3  고고림  남자  21  182  210000\n4  이새봄  여자  28  160  280000\n5  이보람  여자  26  163  260000\n6  이루리  여자  24  157  240000\n7  오다현  여자  24  172  240000",
      "text/html": "<div>\n<style scoped>\n    .dataframe tbody tr th:only-of-type {\n        vertical-align: middle;\n    }\n\n    .dataframe tbody tr th {\n        vertical-align: top;\n    }\n\n    .dataframe thead th {\n        text-align: right;\n    }\n</style>\n<table border=\"1\" class=\"dataframe\">\n  <thead>\n    <tr style=\"text-align: right;\">\n      <th></th>\n      <th>이름</th>\n      <th>성별</th>\n      <th>나이</th>\n      <th>키</th>\n      <th>보너스</th>\n    </tr>\n  </thead>\n  <tbody>\n    <tr>\n      <th>0</th>\n      <td>허준호</td>\n      <td>남자</td>\n      <td>30</td>\n      <td>183</td>\n      <td>300000</td>\n    </tr>\n    <tr>\n      <th>1</th>\n      <td>이가원</td>\n      <td>여자</td>\n      <td>24</td>\n      <td>162</td>\n      <td>240000</td>\n    </tr>\n    <tr>\n      <th>2</th>\n      <td>배규민</td>\n      <td>남자</td>\n      <td>23</td>\n      <td>179</td>\n      <td>230000</td>\n    </tr>\n    <tr>\n      <th>3</th>\n      <td>고고림</td>\n      <td>남자</td>\n      <td>21</td>\n      <td>182</td>\n      <td>210000</td>\n    </tr>\n    <tr>\n      <th>4</th>\n      <td>이새봄</td>\n      <td>여자</td>\n      <td>28</td>\n      <td>160</td>\n      <td>280000</td>\n    </tr>\n    <tr>\n      <th>5</th>\n      <td>이보람</td>\n      <td>여자</td>\n      <td>26</td>\n      <td>163</td>\n      <td>260000</td>\n    </tr>\n    <tr>\n      <th>6</th>\n      <td>이루리</td>\n      <td>여자</td>\n      <td>24</td>\n      <td>157</td>\n      <td>240000</td>\n    </tr>\n    <tr>\n      <th>7</th>\n      <td>오다현</td>\n      <td>여자</td>\n      <td>24</td>\n      <td>172</td>\n      <td>240000</td>\n    </tr>\n  </tbody>\n</table>\n</div>"
     },
     "execution_count": 92,
     "metadata": {},
     "output_type": "execute_result"
    }
   ],
   "source": [
    "df6['보너스'] = df6['나이'] * 10000\n",
    "df6"
   ],
   "metadata": {
    "collapsed": false,
    "ExecuteTime": {
     "end_time": "2023-12-15T02:45:59.139970601Z",
     "start_time": "2023-12-15T02:45:59.095039821Z"
    }
   },
   "id": "1ef286972e30979"
  },
  {
   "cell_type": "code",
   "execution_count": 97,
   "outputs": [
    {
     "data": {
      "text/plain": "    이름  성별  나이    키\n0  허준호  남자  30  183\n1  이가원  여자  24  162\n2  배규민  남자  23  179\n3  고고림  남자  21  182\n4  이새봄  여자  28  160\n5  이보람  여자  26  163\n6  이루리  여자  24  157\n7  오다현  여자  24  172",
      "text/html": "<div>\n<style scoped>\n    .dataframe tbody tr th:only-of-type {\n        vertical-align: middle;\n    }\n\n    .dataframe tbody tr th {\n        vertical-align: top;\n    }\n\n    .dataframe thead th {\n        text-align: right;\n    }\n</style>\n<table border=\"1\" class=\"dataframe\">\n  <thead>\n    <tr style=\"text-align: right;\">\n      <th></th>\n      <th>이름</th>\n      <th>성별</th>\n      <th>나이</th>\n      <th>키</th>\n    </tr>\n  </thead>\n  <tbody>\n    <tr>\n      <th>0</th>\n      <td>허준호</td>\n      <td>남자</td>\n      <td>30</td>\n      <td>183</td>\n    </tr>\n    <tr>\n      <th>1</th>\n      <td>이가원</td>\n      <td>여자</td>\n      <td>24</td>\n      <td>162</td>\n    </tr>\n    <tr>\n      <th>2</th>\n      <td>배규민</td>\n      <td>남자</td>\n      <td>23</td>\n      <td>179</td>\n    </tr>\n    <tr>\n      <th>3</th>\n      <td>고고림</td>\n      <td>남자</td>\n      <td>21</td>\n      <td>182</td>\n    </tr>\n    <tr>\n      <th>4</th>\n      <td>이새봄</td>\n      <td>여자</td>\n      <td>28</td>\n      <td>160</td>\n    </tr>\n    <tr>\n      <th>5</th>\n      <td>이보람</td>\n      <td>여자</td>\n      <td>26</td>\n      <td>163</td>\n    </tr>\n    <tr>\n      <th>6</th>\n      <td>이루리</td>\n      <td>여자</td>\n      <td>24</td>\n      <td>157</td>\n    </tr>\n    <tr>\n      <th>7</th>\n      <td>오다현</td>\n      <td>여자</td>\n      <td>24</td>\n      <td>172</td>\n    </tr>\n  </tbody>\n</table>\n</div>"
     },
     "execution_count": 97,
     "metadata": {},
     "output_type": "execute_result"
    }
   ],
   "source": [
    "# df6.drop('보너스', axis=1, inplace=True)\n",
    "df6['키'] = df6['키'].astype(int)\n",
    "df6"
   ],
   "metadata": {
    "collapsed": false,
    "ExecuteTime": {
     "end_time": "2023-12-15T02:49:53.763801297Z",
     "start_time": "2023-12-15T02:49:53.721716438Z"
    }
   },
   "id": "6d72366e60d93233"
  },
  {
   "cell_type": "code",
   "execution_count": 99,
   "outputs": [
    {
     "data": {
      "text/plain": "    이름  성별  나이    키\n0  허준호  남자  30  183\n1  이가원  여자  24  162\n2  배규민  남자  23  179\n3  고고림  남자  21  182\n4  이새봄  여자  28  160\n5  이보람  여자  26  163\n6  이루리  여자  24  157\n7  오다현  여자  24  172",
      "text/html": "<div>\n<style scoped>\n    .dataframe tbody tr th:only-of-type {\n        vertical-align: middle;\n    }\n\n    .dataframe tbody tr th {\n        vertical-align: top;\n    }\n\n    .dataframe thead th {\n        text-align: right;\n    }\n</style>\n<table border=\"1\" class=\"dataframe\">\n  <thead>\n    <tr style=\"text-align: right;\">\n      <th></th>\n      <th>이름</th>\n      <th>성별</th>\n      <th>나이</th>\n      <th>키</th>\n    </tr>\n  </thead>\n  <tbody>\n    <tr>\n      <th>0</th>\n      <td>허준호</td>\n      <td>남자</td>\n      <td>30</td>\n      <td>183</td>\n    </tr>\n    <tr>\n      <th>1</th>\n      <td>이가원</td>\n      <td>여자</td>\n      <td>24</td>\n      <td>162</td>\n    </tr>\n    <tr>\n      <th>2</th>\n      <td>배규민</td>\n      <td>남자</td>\n      <td>23</td>\n      <td>179</td>\n    </tr>\n    <tr>\n      <th>3</th>\n      <td>고고림</td>\n      <td>남자</td>\n      <td>21</td>\n      <td>182</td>\n    </tr>\n    <tr>\n      <th>4</th>\n      <td>이새봄</td>\n      <td>여자</td>\n      <td>28</td>\n      <td>160</td>\n    </tr>\n    <tr>\n      <th>5</th>\n      <td>이보람</td>\n      <td>여자</td>\n      <td>26</td>\n      <td>163</td>\n    </tr>\n    <tr>\n      <th>6</th>\n      <td>이루리</td>\n      <td>여자</td>\n      <td>24</td>\n      <td>157</td>\n    </tr>\n    <tr>\n      <th>7</th>\n      <td>오다현</td>\n      <td>여자</td>\n      <td>24</td>\n      <td>172</td>\n    </tr>\n  </tbody>\n</table>\n</div>"
     },
     "execution_count": 99,
     "metadata": {},
     "output_type": "execute_result"
    }
   ],
   "source": [
    "df7.reset_index(inplace=True)\n",
    "df7"
   ],
   "metadata": {
    "collapsed": false,
    "ExecuteTime": {
     "end_time": "2023-12-15T03:17:22.697627822Z",
     "start_time": "2023-12-15T03:17:22.686992667Z"
    }
   },
   "id": "9ed6f8a57f676b8d"
  },
  {
   "cell_type": "code",
   "execution_count": 100,
   "outputs": [
    {
     "data": {
      "text/plain": "    이름  성별  나이    키\n0  허준호   1  30  183\n1  이가원   0  24  162\n2  배규민   1  23  179\n3  고고림   1  21  182\n4  이새봄   0  28  160\n5  이보람   0  26  163\n6  이루리   0  24  157\n7  오다현   0  24  172",
      "text/html": "<div>\n<style scoped>\n    .dataframe tbody tr th:only-of-type {\n        vertical-align: middle;\n    }\n\n    .dataframe tbody tr th {\n        vertical-align: top;\n    }\n\n    .dataframe thead th {\n        text-align: right;\n    }\n</style>\n<table border=\"1\" class=\"dataframe\">\n  <thead>\n    <tr style=\"text-align: right;\">\n      <th></th>\n      <th>이름</th>\n      <th>성별</th>\n      <th>나이</th>\n      <th>키</th>\n    </tr>\n  </thead>\n  <tbody>\n    <tr>\n      <th>0</th>\n      <td>허준호</td>\n      <td>1</td>\n      <td>30</td>\n      <td>183</td>\n    </tr>\n    <tr>\n      <th>1</th>\n      <td>이가원</td>\n      <td>0</td>\n      <td>24</td>\n      <td>162</td>\n    </tr>\n    <tr>\n      <th>2</th>\n      <td>배규민</td>\n      <td>1</td>\n      <td>23</td>\n      <td>179</td>\n    </tr>\n    <tr>\n      <th>3</th>\n      <td>고고림</td>\n      <td>1</td>\n      <td>21</td>\n      <td>182</td>\n    </tr>\n    <tr>\n      <th>4</th>\n      <td>이새봄</td>\n      <td>0</td>\n      <td>28</td>\n      <td>160</td>\n    </tr>\n    <tr>\n      <th>5</th>\n      <td>이보람</td>\n      <td>0</td>\n      <td>26</td>\n      <td>163</td>\n    </tr>\n    <tr>\n      <th>6</th>\n      <td>이루리</td>\n      <td>0</td>\n      <td>24</td>\n      <td>157</td>\n    </tr>\n    <tr>\n      <th>7</th>\n      <td>오다현</td>\n      <td>0</td>\n      <td>24</td>\n      <td>172</td>\n    </tr>\n  </tbody>\n</table>\n</div>"
     },
     "execution_count": 100,
     "metadata": {},
     "output_type": "execute_result"
    }
   ],
   "source": [
    "# 데이터 치환\n",
    "df8 = df7.replace({'성별': {'남자': 1, '여자': 0}}, inplace=False)\n",
    "df8"
   ],
   "metadata": {
    "collapsed": false,
    "ExecuteTime": {
     "end_time": "2023-12-15T03:20:09.875974410Z",
     "start_time": "2023-12-15T03:20:09.809830963Z"
    }
   },
   "id": "31c92ef67af24767"
  },
  {
   "cell_type": "code",
   "execution_count": 108,
   "outputs": [
    {
     "data": {
      "text/plain": "   성별        평균 키   키의 표준편차\n0  남자  181.333333  2.081666\n1  여자  162.800000  5.630275",
      "text/html": "<div>\n<style scoped>\n    .dataframe tbody tr th:only-of-type {\n        vertical-align: middle;\n    }\n\n    .dataframe tbody tr th {\n        vertical-align: top;\n    }\n\n    .dataframe thead th {\n        text-align: right;\n    }\n</style>\n<table border=\"1\" class=\"dataframe\">\n  <thead>\n    <tr style=\"text-align: right;\">\n      <th></th>\n      <th>성별</th>\n      <th>평균 키</th>\n      <th>키의 표준편차</th>\n    </tr>\n  </thead>\n  <tbody>\n    <tr>\n      <th>0</th>\n      <td>남자</td>\n      <td>181.333333</td>\n      <td>2.081666</td>\n    </tr>\n    <tr>\n      <th>1</th>\n      <td>여자</td>\n      <td>162.800000</td>\n      <td>5.630275</td>\n    </tr>\n  </tbody>\n</table>\n</div>"
     },
     "execution_count": 108,
     "metadata": {},
     "output_type": "execute_result"
    }
   ],
   "source": [
    "mean_by_gender = df6.groupby(['성별'], as_index=False)['키'].mean()\n",
    "mean_by_gender.rename(columns={'키': '평균 키'}, inplace=True)\n",
    "mean_by_gender\n",
    "\n",
    "std_by_gender = df6.groupby(['성별'], as_index=False)['키'].std()\n",
    "std_by_gender.rename(columns={'키': '키의 표준편차'}, inplace=True)\n",
    "std_by_gender\n",
    "\n",
    "new_df = pd.merge(mean_by_gender, std_by_gender)\n",
    "new_df"
   ],
   "metadata": {
    "collapsed": false,
    "ExecuteTime": {
     "end_time": "2023-12-15T03:28:42.427796960Z",
     "start_time": "2023-12-15T03:28:42.381932839Z"
    }
   },
   "id": "2e0bd7831aa01317"
  },
  {
   "cell_type": "code",
   "execution_count": 114,
   "outputs": [
    {
     "data": {
      "text/plain": "  강의실  시간수\n0  R1    3\n1  R2    2\n2  R3    3\n3  R4    4",
      "text/html": "<div>\n<style scoped>\n    .dataframe tbody tr th:only-of-type {\n        vertical-align: middle;\n    }\n\n    .dataframe tbody tr th {\n        vertical-align: top;\n    }\n\n    .dataframe thead th {\n        text-align: right;\n    }\n</style>\n<table border=\"1\" class=\"dataframe\">\n  <thead>\n    <tr style=\"text-align: right;\">\n      <th></th>\n      <th>강의실</th>\n      <th>시간수</th>\n    </tr>\n  </thead>\n  <tbody>\n    <tr>\n      <th>0</th>\n      <td>R1</td>\n      <td>3</td>\n    </tr>\n    <tr>\n      <th>1</th>\n      <td>R2</td>\n      <td>2</td>\n    </tr>\n    <tr>\n      <th>2</th>\n      <td>R3</td>\n      <td>3</td>\n    </tr>\n    <tr>\n      <th>3</th>\n      <td>R4</td>\n      <td>4</td>\n    </tr>\n  </tbody>\n</table>\n</div>"
     },
     "execution_count": 114,
     "metadata": {},
     "output_type": "execute_result"
    }
   ],
   "source": [
    "# 강의 시간표분석\n",
    "time_table_df = pd.DataFrame([['C1', '인공지능개론', 'R1', 3],\n",
    "                              ['C2', '웃음치료', 'R2', 2],\n",
    "                              ['C3', '경영학', 'R3', 3],\n",
    "                              ['C4', '3D디자인', 'R4', 4],\n",
    "                              ['C5', '스포츠경영', 'R2', 2],\n",
    "                              ['C6', '예술의 세계', 'R3', 1]],\n",
    "                             columns=['과목번호', '과목명', '강의실', '시간수'])\n",
    "time_table_df.to_csv('timetable.csv', index=False, encoding='utf-8')\n",
    "df2 = pd.read_csv('timetable.csv')\n",
    "df2['교수'] = ['김예희', '오정현', '인세훈', '이새봄', '배유진', '이가원']\n",
    "df2\n",
    "max_hour = df2.groupby(by=['강의실'], as_index=False)['시간수'].max()\n",
    "max_hour"
   ],
   "metadata": {
    "collapsed": false,
    "ExecuteTime": {
     "end_time": "2023-12-15T03:43:50.964844524Z",
     "start_time": "2023-12-15T03:43:50.900439052Z"
    }
   },
   "id": "6a76a76696673f2a"
  }
 ],
 "metadata": {
  "kernelspec": {
   "display_name": "Python 3",
   "language": "python",
   "name": "python3"
  },
  "language_info": {
   "codemirror_mode": {
    "name": "ipython",
    "version": 2
   },
   "file_extension": ".py",
   "mimetype": "text/x-python",
   "name": "python",
   "nbconvert_exporter": "python",
   "pygments_lexer": "ipython2",
   "version": "2.7.6"
  }
 },
 "nbformat": 4,
 "nbformat_minor": 5
}

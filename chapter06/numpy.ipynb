{
 "cells": [
  {
   "cell_type": "code",
   "execution_count": 6,
   "id": "initial_id",
   "metadata": {
    "collapsed": true,
    "ExecuteTime": {
     "end_time": "2023-12-14T01:29:55.216250246Z",
     "start_time": "2023-12-14T01:29:55.172917214Z"
    }
   },
   "outputs": [
    {
     "name": "stdout",
     "output_type": "stream",
     "text": [
      "list1[0]: 1\n",
      "a.shape: (4,)\n",
      "a[0]: 1\n",
      "b.shape: (2, 3)\n",
      "b[0, 1]: 2\n"
     ]
    }
   ],
   "source": [
    "#numpy.ipynb\n",
    "\n",
    "import numpy as np\n",
    "\n",
    "list1 = [1, 2, 3, 4]\n",
    "\n",
    "print(f'list1[{0}]: {list1[0]}')\n",
    "\n",
    "a = np.array(list1)\n",
    "print(f'a.shape: {a.shape}')\n",
    "print(f'a[0]: {a[0]}')\n",
    "\n",
    "# 2차원 배열 생성\n",
    "b = np.array([[1, 2, 3], [4, 5, 6]])\n",
    "print(f'b.shape: {b.shape}')\n",
    "print(f'b[0, 1]: {b[0, 1]}')"
   ]
  },
  {
   "cell_type": "code",
   "execution_count": 15,
   "outputs": [
    {
     "data": {
      "text/plain": "array([0, 0])"
     },
     "execution_count": 15,
     "metadata": {},
     "output_type": "execute_result"
    }
   ],
   "source": [
    "# 넘파이 배열을 생성하는 함수\n",
    "a = np.zeros(2, dtype=int)\n",
    "a"
   ],
   "metadata": {
    "collapsed": false,
    "ExecuteTime": {
     "end_time": "2023-12-14T01:37:26.695130589Z",
     "start_time": "2023-12-14T01:37:26.654589672Z"
    }
   },
   "id": "994a887f25788c54"
  },
  {
   "cell_type": "code",
   "execution_count": 16,
   "outputs": [
    {
     "data": {
      "text/plain": "array([[0, 0],\n       [0, 0]])"
     },
     "execution_count": 16,
     "metadata": {},
     "output_type": "execute_result"
    }
   ],
   "source": [
    "b = np.zeros((2, 2), dtype=int)\n",
    "b"
   ],
   "metadata": {
    "collapsed": false,
    "ExecuteTime": {
     "end_time": "2023-12-14T01:37:34.717382688Z",
     "start_time": "2023-12-14T01:37:34.703614594Z"
    }
   },
   "id": "f544e17c5c73ca6d"
  },
  {
   "cell_type": "code",
   "execution_count": 18,
   "outputs": [
    {
     "data": {
      "text/plain": "array([[1, 1, 1],\n       [1, 1, 1]])"
     },
     "execution_count": 18,
     "metadata": {},
     "output_type": "execute_result"
    }
   ],
   "source": [
    "c = np.ones((2, 3), dtype=int)\n",
    "c"
   ],
   "metadata": {
    "collapsed": false,
    "ExecuteTime": {
     "end_time": "2023-12-14T01:38:52.795214935Z",
     "start_time": "2023-12-14T01:38:52.753001416Z"
    }
   },
   "id": "dc8df36e08285e35"
  },
  {
   "cell_type": "code",
   "execution_count": 19,
   "outputs": [
    {
     "data": {
      "text/plain": "array([[100, 100, 100],\n       [100, 100, 100]])"
     },
     "execution_count": 19,
     "metadata": {},
     "output_type": "execute_result"
    }
   ],
   "source": [
    "d = np.full((2, 3), 100)\n",
    "d"
   ],
   "metadata": {
    "collapsed": false,
    "ExecuteTime": {
     "end_time": "2023-12-14T01:39:25.443824001Z",
     "start_time": "2023-12-14T01:39:25.436285700Z"
    }
   },
   "id": "d9de9572f3eb8029"
  },
  {
   "cell_type": "code",
   "execution_count": 20,
   "outputs": [
    {
     "data": {
      "text/plain": "array([[1, 0, 0],\n       [0, 1, 0],\n       [0, 0, 1]])"
     },
     "execution_count": 20,
     "metadata": {},
     "output_type": "execute_result"
    }
   ],
   "source": [
    "e = np.eye(3, dtype=int) # identity()와 같음\n",
    "e"
   ],
   "metadata": {
    "collapsed": false,
    "ExecuteTime": {
     "end_time": "2023-12-14T01:41:15.280729074Z",
     "start_time": "2023-12-14T01:41:15.272454515Z"
    }
   },
   "id": "57fe2af44d2b24f6"
  },
  {
   "cell_type": "code",
   "execution_count": 21,
   "outputs": [
    {
     "name": "stdout",
     "output_type": "stream",
     "text": [
      "1\n",
      "2\n",
      "3\n",
      "4\n",
      "5\n"
     ]
    }
   ],
   "source": [
    "# 기본 파이썬 range 함수\n",
    "for i in range(1, 6):\n",
    "    print(i)"
   ],
   "metadata": {
    "collapsed": false,
    "ExecuteTime": {
     "end_time": "2023-12-14T01:42:37.560258068Z",
     "start_time": "2023-12-14T01:42:37.516605894Z"
    }
   },
   "id": "90ca1daae0ce9af1"
  },
  {
   "cell_type": "code",
   "execution_count": 22,
   "outputs": [
    {
     "name": "stdout",
     "output_type": "stream",
     "text": [
      "1\n",
      "2\n",
      "3\n",
      "4\n",
      "5\n"
     ]
    }
   ],
   "source": [
    "# range()와 비슷한 함수: arange()\n",
    "for i in np.arange(1, 6):\n",
    "    print(i)"
   ],
   "metadata": {
    "collapsed": false,
    "ExecuteTime": {
     "end_time": "2023-12-14T01:44:01.438642986Z",
     "start_time": "2023-12-14T01:44:01.389239920Z"
    }
   },
   "id": "6a90ad7d37094328"
  },
  {
   "cell_type": "code",
   "execution_count": 26,
   "outputs": [
    {
     "name": "stdout",
     "output_type": "stream",
     "text": [
      "<class 'list'>\n",
      "float64\n",
      "int8\n"
     ]
    }
   ],
   "source": [
    "print(type([1, 2]))\n",
    "\n",
    "a = np.array([1, 2], dtype=np.float64) # 8byte\n",
    "print(a.dtype)\n",
    "\n",
    "b = a.astype(np.int8)\n",
    "print(b.dtype)"
   ],
   "metadata": {
    "collapsed": false,
    "ExecuteTime": {
     "end_time": "2023-12-14T01:49:59.275878649Z",
     "start_time": "2023-12-14T01:49:59.271441672Z"
    }
   },
   "id": "b51a1656f3e0fa06"
  },
  {
   "cell_type": "code",
   "execution_count": 28,
   "outputs": [
    {
     "name": "stdout",
     "output_type": "stream",
     "text": [
      "type(arr): <class 'numpy.ndarray'>\n",
      "arr.ndim: 2\n",
      "arr.dtype: int64\n",
      "arr.itemsize: 8\n",
      "arr.size: 6\n",
      "arr.nbytes: 48\n",
      "arr.T:\n",
      " [[0 3]\n",
      " [1 4]\n",
      " [2 5]]\n",
      "arr.shape: (2, 3)\n"
     ]
    }
   ],
   "source": [
    "# ndarray 속성\n",
    "# [\n",
    "#   [0, 1, 2],\n",
    "#   [3, 4, 5]\n",
    "# ]\n",
    "arr = np.array([[0, 1, 2], [3, 4, 5]])\n",
    "print(f'type(arr): {type(arr)}')\n",
    "print(f'arr.ndim: {arr.ndim}')\n",
    "print(f'arr.dtype: {arr.dtype}')\n",
    "print(f'arr.itemsize: {arr.itemsize}')\n",
    "print(f'arr.size: {arr.size}')\n",
    "print(f'arr.nbytes: {arr.nbytes}')\n",
    "print(f'arr.T:\\n {arr.T}')\n",
    "print(f'arr.shape: {arr.shape}')"
   ],
   "metadata": {
    "collapsed": false,
    "ExecuteTime": {
     "end_time": "2023-12-14T02:14:58.380104856Z",
     "start_time": "2023-12-14T02:14:58.358830918Z"
    }
   },
   "id": "9b3341e8c13effb2"
  },
  {
   "cell_type": "code",
   "execution_count": 48,
   "outputs": [
    {
     "name": "stdout",
     "output_type": "stream",
     "text": [
      "a: \n",
      "[0 1 2 3 4 5 6 7]\n",
      "shape:\n",
      "(8,)\n",
      "shape:\n",
      "(2, 2, 2)\n",
      "a:\n",
      "[[[0 1]\n",
      "  [2 3]]\n",
      "\n",
      " [[4 5]\n",
      "  [6 7]]]\n",
      "flatten:\n",
      "[0 1 2 3 4 5 6 7]\n",
      "resize:\n",
      "[[0 1]\n",
      " [2 3]\n",
      " [4 5]\n",
      " [6 7]]\n",
      "b:\n",
      "[[0 2 4 6]\n",
      " [1 3 5 7]]\n"
     ]
    }
   ],
   "source": [
    "a = np.arange(8) # 0부터 7까지 배열로 저장\n",
    "print(f'a: \\n{a}')\n",
    "print(f'shape:\\n{a.shape}')\n",
    "a.shape = (2, 2, 2) # 머신러닝에서 차원의 축소를 실행할 때 사용\n",
    "# a = a.reshape(2, 4)\n",
    "print(f'shape:\\n{a.shape}')\n",
    "print(f'a:\\n{a}')\n",
    "# flatten => 평평하게 하다\n",
    "print(f'flatten:\\n{a.flatten()}')\n",
    "\n",
    "# resize()로 함수 모양 변경하기\n",
    "a.resize(4,2)\n",
    "print(f'resize:\\n{a}')\n",
    "\n",
    "# transpose()를 이용하여 행과 열을 교차하여 표현하기\n",
    "b = a.transpose()\n",
    "print(f'b:\\n{b}')\n"
   ],
   "metadata": {
    "collapsed": false,
    "ExecuteTime": {
     "end_time": "2023-12-14T02:27:03.585781724Z",
     "start_time": "2023-12-14T02:27:03.580358333Z"
    }
   },
   "id": "49af0041a4ec6c47"
  },
  {
   "cell_type": "code",
   "execution_count": 49,
   "outputs": [
    {
     "name": "stdout",
     "output_type": "stream",
     "text": [
      "a:\n",
      "[[0 1 2 3 4]\n",
      " [5 6 7 8 9]]\n",
      "b:\n",
      "[[0 5]\n",
      " [1 6]\n",
      " [2 7]\n",
      " [3 8]\n",
      " [4 9]]\n"
     ]
    }
   ],
   "source": [
    "# p211 확인문제 1\n",
    "# 0부터 9까지의 1차원 배열 생성\n",
    "# a = range(10)\n",
    "a = np.arange(10)\n",
    "# a.shape = (2, 5)\n",
    "a = a.reshape(2, 5)\n",
    "# b = a.T\n",
    "b = a.transpose()\n",
    "print(f'a:\\n{a}')\n",
    "print(f'b:\\n{b}')"
   ],
   "metadata": {
    "collapsed": false,
    "ExecuteTime": {
     "end_time": "2023-12-14T02:31:03.356024741Z",
     "start_time": "2023-12-14T02:31:03.349254185Z"
    }
   },
   "id": "dbff68d876bfd80c"
  },
  {
   "cell_type": "code",
   "execution_count": 51,
   "outputs": [
    {
     "name": "stdout",
     "output_type": "stream",
     "text": [
      "[[4 5]\n",
      " [7 8]]\n"
     ]
    }
   ],
   "source": [
    "# p211 확인문제 2\n",
    "list1 = [[1, 2, 3],\n",
    "         [4, 5, 6],\n",
    "         [7, 8, 9]]\n",
    "a = np.array(list1)\n",
    "print(a[1:3, :2])"
   ],
   "metadata": {
    "collapsed": false,
    "ExecuteTime": {
     "end_time": "2023-12-14T02:43:45.818465373Z",
     "start_time": "2023-12-14T02:43:45.809871337Z"
    }
   },
   "id": "12614e5c6fba40e3"
  },
  {
   "cell_type": "code",
   "execution_count": 59,
   "outputs": [
    {
     "data": {
      "text/plain": "array([['그대들은 어떻게 살 것인가', '23.10.25', '전체관람가', '1,975,751'],\n       ['스노우 폭스: 썰매개가 될 거야!', '23.11.23', '전체관람가', '68,655'],\n       ['겨울왕국', '23.11.30', '전체관람가', '10,324,794'],\n       ['극장판 우당탕탕 은하안전단: 진정한 용기!', '23.11.30', '전체관람가', '22,117'],\n       ['겨울왕국 2', '23.11.30', '전체관람가', '13,764,388'],\n       ['이빨요정 비올레타: 요정나라로 돌아갈래!', '23.11.18', '전체관람가', '53,554']],\n      dtype='<U24')"
     },
     "execution_count": 59,
     "metadata": {},
     "output_type": "execute_result"
    }
   ],
   "source": [
    "import csv\n",
    "box_office = []\n",
    "with open('boxoffice.csv', encoding='utf-8') as f:\n",
    "    reader = csv.reader(f)\n",
    "    for row in reader:\n",
    "        box_office.append(row)\n",
    "\n",
    "bo = np.array(box_office)\n",
    "bo[bo[:, 2] == '전체관람가']"
   ],
   "metadata": {
    "collapsed": false,
    "ExecuteTime": {
     "end_time": "2023-12-14T03:18:08.705415080Z",
     "start_time": "2023-12-14T03:18:08.695347848Z"
    }
   },
   "id": "c166c4e304cf9dcc"
  },
  {
   "cell_type": "code",
   "execution_count": 71,
   "outputs": [
    {
     "name": "stdout",
     "output_type": "stream",
     "text": [
      "[1 2 3 4 5 6]\n",
      "[10 20 30 40 50 60]\n",
      "[10 10 10 10 10 10]\n",
      "[1, 2, 3, 4, 5, 6, 9, 8, 7, 6, 5, 4]\n"
     ]
    }
   ],
   "source": [
    "# Numpy의 Broadcasting\n",
    "list1 = [1, 2, 3, 4, 5, 6]\n",
    "a = np.array(list1)\n",
    "print(a)\n",
    "b = a * 10\n",
    "print(b)\n",
    "\n",
    "list2 = [9, 8, 7, 6, 5, 4]\n",
    "b = np.array(list2)\n",
    "c = a + b\n",
    "print(c)\n",
    "\n",
    "d = list1 + list2\n",
    "print(d)\n"
   ],
   "metadata": {
    "collapsed": false,
    "ExecuteTime": {
     "end_time": "2023-12-14T03:26:29.203105518Z",
     "start_time": "2023-12-14T03:26:29.162284551Z"
    }
   },
   "id": "d96bbb8e0d4e06ef"
  },
  {
   "cell_type": "code",
   "execution_count": 76,
   "outputs": [
    {
     "name": "stdout",
     "output_type": "stream",
     "text": [
      "원본: [3 9 1 6 2 8]\n",
      "정렬 후: [1 2 3 6 8 9]\n",
      "정렬하기 전 인덱스: [2 4 0 3 5 1]\n"
     ]
    }
   ],
   "source": [
    "a = np.array([3, 9, 1, 6, 2, 8])\n",
    "print(f'원본: {a}')\n",
    "\n",
    "# print(f'정렬 후: {np.sort(a)}') # 배열을 정렬해서, 새로운 배열 객체 반환\n",
    "# a.sort()\n",
    "# print(f'정렬 후: {a}')  # 배열을 정렬(원본을 정렬)\n",
    "\n",
    "# np.argsort(배열)\n",
    "print(f'정렬 후: {np.sort(a)}')\n",
    "print(f'정렬하기 전 인덱스: {np.argsort(a)}')\n"
   ],
   "metadata": {
    "collapsed": false,
    "ExecuteTime": {
     "end_time": "2023-12-14T03:34:18.288762344Z",
     "start_time": "2023-12-14T03:34:18.280980189Z"
    }
   },
   "id": "d4315ba90f41636b"
  },
  {
   "cell_type": "code",
   "execution_count": 77,
   "outputs": [
    {
     "name": "stdout",
     "output_type": "stream",
     "text": [
      "[5 6 7]\n"
     ]
    }
   ],
   "source": [
    "a = np.array([1, 2, 3])\n",
    "b = np.array([4])\n",
    "c = a + b\n",
    "print(c)"
   ],
   "metadata": {
    "collapsed": false,
    "ExecuteTime": {
     "end_time": "2023-12-14T03:35:36.387072841Z",
     "start_time": "2023-12-14T03:35:36.343738586Z"
    }
   },
   "id": "ec966ff20ff88a24"
  }
 ],
 "metadata": {
  "kernelspec": {
   "display_name": "Python 3",
   "language": "python",
   "name": "python3"
  },
  "language_info": {
   "codemirror_mode": {
    "name": "ipython",
    "version": 2
   },
   "file_extension": ".py",
   "mimetype": "text/x-python",
   "name": "python",
   "nbconvert_exporter": "python",
   "pygments_lexer": "ipython2",
   "version": "2.7.6"
  }
 },
 "nbformat": 4,
 "nbformat_minor": 5
}

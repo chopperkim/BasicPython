{
 "cells": [
  {
   "cell_type": "code",
   "execution_count": 3,
   "id": "initial_id",
   "metadata": {
    "collapsed": true,
    "ExecuteTime": {
     "end_time": "2023-12-22T06:07:43.523820577Z",
     "start_time": "2023-12-22T06:07:43.384709387Z"
    }
   },
   "outputs": [
    {
     "data": {
      "text/plain": "<Figure size 640x480 with 1 Axes>",
      "image/png": "[encoded data removed]"
     },
     "metadata": {},
     "output_type": "display_data"
    }
   ],
   "source": [
    "# 선형회귀(Linear Regression)\n",
    "\n",
    "import pandas as pd\n",
    "import matplotlib.pyplot as plt\n",
    "\n",
    "# 연봉과 직장 만족도의 분석\n",
    "x = [3000, 4200, 4000, 5000, 6000, 3800, 3500, 6200, 3900, 4500]\n",
    "y = [60, 75, 70, 85, 90, 70, 65, 95, 70, 80]\n",
    "\n",
    "data = {'x': x, 'y': y}\n",
    "df = pd.DataFrame(data)\n",
    "plt.scatter(df['x'], df['y'])\n",
    "plt.show()"
   ]
  },
  {
   "cell_type": "code",
   "execution_count": 6,
   "outputs": [
    {
     "name": "stdout",
     "output_type": "stream",
     "text": [
      "                            OLS Regression Results                            \n",
      "==============================================================================\n",
      "Dep. Variable:                      y   R-squared:                       0.971\n",
      "Model:                            OLS   Adj. R-squared:                  0.968\n",
      "Method:                 Least Squares   F-statistic:                     271.0\n",
      "Date:                Fri, 22 Dec 2023   Prob (F-statistic):           1.87e-07\n",
      "Time:                        15:16:09   Log-Likelihood:                -20.111\n",
      "No. Observations:                  10   AIC:                             44.22\n",
      "Df Residuals:                       8   BIC:                             44.83\n",
      "Df Model:                           1                                         \n",
      "Covariance Type:            nonrobust                                         \n",
      "==============================================================================\n",
      "                 coef    std err          t      P>|t|      [0.025      0.975]\n",
      "------------------------------------------------------------------------------\n",
      "Intercept     29.0004      2.926      9.913      0.000      22.254      35.747\n",
      "x              0.0107      0.001     16.463      0.000       0.009       0.012\n",
      "==============================================================================\n",
      "Omnibus:                        0.346   Durbin-Watson:                   2.871\n",
      "Prob(Omnibus):                  0.841   Jarque-Bera (JB):                0.447\n",
      "Skew:                           0.286   Prob(JB):                        0.800\n",
      "Kurtosis:                       2.136   Cond. No.                     2.07e+04\n",
      "==============================================================================\n",
      "\n",
      "Notes:\n",
      "[1] Standard Errors assume that the covariance matrix of the errors is correctly specified.\n",
      "[2] The condition number is large, 2.07e+04. This might indicate that there are\n",
      "strong multicollinearity or other numerical problems.\n"
     ]
    },
    {
     "name": "stderr",
     "output_type": "stream",
     "text": [
      "/home/ssam/PycharmProjects/BasicPython/venv/lib/python3.10/site-packages/scipy/stats/_stats_py.py:1806: UserWarning: kurtosistest only valid for n>=20 ... continuing anyway, n=10\n",
      "  warnings.warn(\"kurtosistest only valid for n>=20 ... continuing \"\n"
     ]
    }
   ],
   "source": [
    "from statsmodels.formula.api import ols\n",
    "from sklearn.linear_model import LinearRegression\n",
    "\n",
    "fit = ols('y ~ x', data=df).fit()   # 모델 생성\n",
    "print(fit.summary())\n"
   ],
   "metadata": {
    "collapsed": false,
    "ExecuteTime": {
     "end_time": "2023-12-22T06:16:09.095689056Z",
     "start_time": "2023-12-22T06:16:09.055610452Z"
    }
   },
   "id": "ad704ea36fd9e137"
  },
  {
   "cell_type": "code",
   "execution_count": 7,
   "outputs": [
    {
     "name": "stdout",
     "output_type": "stream",
     "text": [
      "                             OLS Regression Results                             \n",
      "================================================================================\n",
      "Dep. Variable:     company_satisfaction   R-squared:                       0.988\n",
      "Model:                              OLS   Adj. R-squared:                  0.982\n",
      "Method:                   Least Squares   F-statistic:                     164.0\n",
      "Date:                  Fri, 22 Dec 2023   Prob (F-statistic):           3.81e-06\n",
      "Time:                          15:26:20   Log-Likelihood:                -15.777\n",
      "No. Observations:                    10   AIC:                             39.55\n",
      "Df Residuals:                         6   BIC:                             40.77\n",
      "Df Model:                             3                                         \n",
      "Covariance Type:              nonrobust                                         \n",
      "================================================================================\n",
      "                   coef    std err          t      P>|t|      [0.025      0.975]\n",
      "--------------------------------------------------------------------------------\n",
      "Intercept       24.9819      5.353      4.667      0.003      11.884      38.080\n",
      "salary           0.0120      0.001     15.895      0.000       0.010       0.014\n",
      "break_time       0.0668      0.027      2.491      0.047       0.001       0.132\n",
      "working_time    -0.9718      0.412     -2.356      0.057      -1.981       0.037\n",
      "==============================================================================\n",
      "Omnibus:                        0.929   Durbin-Watson:                   2.500\n",
      "Prob(Omnibus):                  0.628   Jarque-Bera (JB):                0.752\n",
      "Skew:                          -0.441   Prob(JB):                        0.686\n",
      "Kurtosis:                       1.986   Cond. No.                     5.06e+04\n",
      "==============================================================================\n",
      "\n",
      "Notes:\n",
      "[1] Standard Errors assume that the covariance matrix of the errors is correctly specified.\n",
      "[2] The condition number is large, 5.06e+04. This might indicate that there are\n",
      "strong multicollinearity or other numerical problems.\n"
     ]
    },
    {
     "name": "stderr",
     "output_type": "stream",
     "text": [
      "/home/ssam/PycharmProjects/BasicPython/venv/lib/python3.10/site-packages/scipy/stats/_stats_py.py:1806: UserWarning: kurtosistest only valid for n>=20 ... continuing anyway, n=10\n",
      "  warnings.warn(\"kurtosistest only valid for n>=20 ... continuing \"\n"
     ]
    }
   ],
   "source": [
    "# 연봉 이외의 어떤 요인이 직장 만족도에 영향을 미치는지 알아보기\n",
    "salary = [3000, 4200, 4000, 5000, 6000, 3800, 3500, 6200, 3900, 4500]\n",
    "break_time = [120, 60, 100, 100, 50, 120, 90, 40, 120, 120]\n",
    "working_time = [8, 6, 10, 8, 10, 10, 9, 7, 8, 9]\n",
    "company_satisfaction = [60, 75, 70, 85, 90, 70, 65, 95, 70, 80]\n",
    "\n",
    "data = {'salary': salary, 'break_time': break_time, 'working_time': working_time, 'company_satisfaction': company_satisfaction}\n",
    "\n",
    "df = pd.DataFrame(data)\n",
    "\n",
    "fit = ols('company_satisfaction ~ salary + break_time + working_time', data=df).fit()\n",
    "print(fit.summary())"
   ],
   "metadata": {
    "collapsed": false,
    "ExecuteTime": {
     "end_time": "2023-12-22T06:26:20.927066911Z",
     "start_time": "2023-12-22T06:26:20.906931867Z"
    }
   },
   "id": "36d1bd4fbe506321"
  },
  {
   "cell_type": "code",
   "execution_count": 8,
   "outputs": [
    {
     "name": "stdout",
     "output_type": "stream",
     "text": [
      "Optimization terminated successfully.\n",
      "         Current function value: 0.430873\n",
      "         Iterations 7\n",
      "                           Logit Regression Results                           \n",
      "==============================================================================\n",
      "Dep. Variable:                  sales   No. Observations:                   17\n",
      "Model:                          Logit   Df Residuals:                       15\n",
      "Method:                           MLE   Df Model:                            1\n",
      "Date:                Fri, 22 Dec 2023   Pseudo R-squ.:                  0.3768\n",
      "Time:                        16:03:13   Log-Likelihood:                -7.3248\n",
      "converged:                       True   LL-Null:                       -11.754\n",
      "Covariance Type:            nonrobust   LLR p-value:                  0.002917\n",
      "==============================================================================\n",
      "                 coef    std err          z      P>|z|      [0.025      0.975]\n",
      "------------------------------------------------------------------------------\n",
      "Intercept      6.5752      3.300      1.993      0.046       0.108      13.042\n",
      "price         -0.0016      0.001     -2.008      0.045      -0.003   -3.75e-05\n",
      "==============================================================================\n"
     ]
    }
   ],
   "source": [
    "import statsmodels.api as sm\n",
    "\n",
    "sales = [1, 1, 1, 1, 1, 1, 1, 1, 1, 0, 0, 0, 0, 0, 0, 0, 0]\n",
    "price = [1500, 2000, 5000, 3000, 3500, 2500, 4000, 4500, 3000, 4500, 4000, 4500, 5500, 6500, 5000, 3500, 7000]\n",
    "data = {'sales': sales, 'price': price}\n",
    "df = pd.DataFrame(data)\n",
    "\n",
    "logis = sm.Logit.from_formula('sales ~ price', data=df).fit()\n",
    "print(logis.summary())"
   ],
   "metadata": {
    "collapsed": false,
    "ExecuteTime": {
     "end_time": "2023-12-22T07:03:13.181017457Z",
     "start_time": "2023-12-22T07:03:13.052836629Z"
    }
   },
   "id": "19f46939f8e51fa3"
  },
  {
   "cell_type": "code",
   "execution_count": 9,
   "outputs": [
    {
     "data": {
      "text/plain": "Intercept    6.575158\nprice       -0.001569\ndtype: float64"
     },
     "execution_count": 9,
     "metadata": {},
     "output_type": "execute_result"
    }
   ],
   "source": [
    "logis.params"
   ],
   "metadata": {
    "collapsed": false,
    "ExecuteTime": {
     "end_time": "2023-12-22T07:06:03.809605900Z",
     "start_time": "2023-12-22T07:06:03.765884125Z"
    }
   },
   "id": "1f18ea4effee3e71"
  },
  {
   "cell_type": "code",
   "execution_count": 10,
   "outputs": [
    {
     "name": "stdout",
     "output_type": "stream",
     "text": [
      "Intercept    717.058841\n",
      "price          0.998433\n",
      "dtype: float64\n"
     ]
    }
   ],
   "source": [
    "import numpy as np\n",
    "\n",
    "print(np.exp(logis.params))"
   ],
   "metadata": {
    "collapsed": false,
    "ExecuteTime": {
     "end_time": "2023-12-22T07:07:39.416317580Z",
     "start_time": "2023-12-22T07:07:39.373855020Z"
    }
   },
   "id": "524730c2c0d45166"
  },
  {
   "cell_type": "code",
   "execution_count": 12,
   "outputs": [
    {
     "data": {
      "text/plain": "     survived  pclass     sex   age  sibsp  parch     fare embarked   class  \\\n0           0       3    male  22.0      1      0   7.2500        S   Third   \n1           1       1  female  38.0      1      0  71.2833        C   First   \n2           1       3  female  26.0      0      0   7.9250        S   Third   \n3           1       1  female  35.0      1      0  53.1000        S   First   \n4           0       3    male  35.0      0      0   8.0500        S   Third   \n..        ...     ...     ...   ...    ...    ...      ...      ...     ...   \n886         0       2    male  27.0      0      0  13.0000        S  Second   \n887         1       1  female  19.0      0      0  30.0000        S   First   \n888         0       3  female   NaN      1      2  23.4500        S   Third   \n889         1       1    male  26.0      0      0  30.0000        C   First   \n890         0       3    male  32.0      0      0   7.7500        Q   Third   \n\n       who  adult_male deck  embark_town alive  alone  \n0      man        True  NaN  Southampton    no  False  \n1    woman       False    C    Cherbourg   yes  False  \n2    woman       False  NaN  Southampton   yes   True  \n3    woman       False    C  Southampton   yes  False  \n4      man        True  NaN  Southampton    no   True  \n..     ...         ...  ...          ...   ...    ...  \n886    man        True  NaN  Southampton    no   True  \n887  woman       False    B  Southampton   yes   True  \n888  woman       False  NaN  Southampton    no  False  \n889    man        True    C    Cherbourg   yes   True  \n890    man        True  NaN   Queenstown    no   True  \n\n[891 rows x 15 columns]",
      "text/html": "<div>\n<style scoped>\n    .dataframe tbody tr th:only-of-type {\n        vertical-align: middle;\n    }\n\n    .dataframe tbody tr th {\n        vertical-align: top;\n    }\n\n    .dataframe thead th {\n        text-align: right;\n    }\n</style>\n<table border=\"1\" class=\"dataframe\">\n  <thead>\n    <tr style=\"text-align: right;\">\n      <th></th>\n      <th>survived</th>\n      <th>pclass</th>\n      <th>sex</th>\n      <th>age</th>\n      <th>sibsp</th>\n      <th>parch</th>\n      <th>fare</th>\n      <th>embarked</th>\n      <th>class</th>\n      <th>who</th>\n      <th>adult_male</th>\n      <th>deck</th>\n      <th>embark_town</th>\n      <th>alive</th>\n      <th>alone</th>\n    </tr>\n  </thead>\n  <tbody>\n    <tr>\n      <th>0</th>\n      <td>0</td>\n      <td>3</td>\n      <td>male</td>\n      <td>22.0</td>\n      <td>1</td>\n      <td>0</td>\n      <td>7.2500</td>\n      <td>S</td>\n      <td>Third</td>\n      <td>man</td>\n      <td>True</td>\n      <td>NaN</td>\n      <td>Southampton</td>\n      <td>no</td>\n      <td>False</td>\n    </tr>\n    <tr>\n      <th>1</th>\n      <td>1</td>\n      <td>1</td>\n      <td>female</td>\n      <td>38.0</td>\n      <td>1</td>\n      <td>0</td>\n      <td>71.2833</td>\n      <td>C</td>\n      <td>First</td>\n      <td>woman</td>\n      <td>False</td>\n      <td>C</td>\n      <td>Cherbourg</td>\n      <td>yes</td>\n      <td>False</td>\n    </tr>\n    <tr>\n      <th>2</th>\n      <td>1</td>\n      <td>3</td>\n      <td>female</td>\n      <td>26.0</td>\n      <td>0</td>\n      <td>0</td>\n      <td>7.9250</td>\n      <td>S</td>\n      <td>Third</td>\n      <td>woman</td>\n      <td>False</td>\n      <td>NaN</td>\n      <td>Southampton</td>\n      <td>yes</td>\n      <td>True</td>\n    </tr>\n    <tr>\n      <th>3</th>\n      <td>1</td>\n      <td>1</td>\n      <td>female</td>\n      <td>35.0</td>\n      <td>1</td>\n      <td>0</td>\n      <td>53.1000</td>\n      <td>S</td>\n      <td>First</td>\n      <td>woman</td>\n      <td>False</td>\n      <td>C</td>\n      <td>Southampton</td>\n      <td>yes</td>\n      <td>False</td>\n    </tr>\n    <tr>\n      <th>4</th>\n      <td>0</td>\n      <td>3</td>\n      <td>male</td>\n      <td>35.0</td>\n      <td>0</td>\n      <td>0</td>\n      <td>8.0500</td>\n      <td>S</td>\n      <td>Third</td>\n      <td>man</td>\n      <td>True</td>\n      <td>NaN</td>\n      <td>Southampton</td>\n      <td>no</td>\n      <td>True</td>\n    </tr>\n    <tr>\n      <th>...</th>\n      <td>...</td>\n      <td>...</td>\n      <td>...</td>\n      <td>...</td>\n      <td>...</td>\n      <td>...</td>\n      <td>...</td>\n      <td>...</td>\n      <td>...</td>\n      <td>...</td>\n      <td>...</td>\n      <td>...</td>\n      <td>...</td>\n      <td>...</td>\n      <td>...</td>\n    </tr>\n    <tr>\n      <th>886</th>\n      <td>0</td>\n      <td>2</td>\n      <td>male</td>\n      <td>27.0</td>\n      <td>0</td>\n      <td>0</td>\n      <td>13.0000</td>\n      <td>S</td>\n      <td>Second</td>\n      <td>man</td>\n      <td>True</td>\n      <td>NaN</td>\n      <td>Southampton</td>\n      <td>no</td>\n      <td>True</td>\n    </tr>\n    <tr>\n      <th>887</th>\n      <td>1</td>\n      <td>1</td>\n      <td>female</td>\n      <td>19.0</td>\n      <td>0</td>\n      <td>0</td>\n      <td>30.0000</td>\n      <td>S</td>\n      <td>First</td>\n      <td>woman</td>\n      <td>False</td>\n      <td>B</td>\n      <td>Southampton</td>\n      <td>yes</td>\n      <td>True</td>\n    </tr>\n    <tr>\n      <th>888</th>\n      <td>0</td>\n      <td>3</td>\n      <td>female</td>\n      <td>NaN</td>\n      <td>1</td>\n      <td>2</td>\n      <td>23.4500</td>\n      <td>S</td>\n      <td>Third</td>\n      <td>woman</td>\n      <td>False</td>\n      <td>NaN</td>\n      <td>Southampton</td>\n      <td>no</td>\n      <td>False</td>\n    </tr>\n    <tr>\n      <th>889</th>\n      <td>1</td>\n      <td>1</td>\n      <td>male</td>\n      <td>26.0</td>\n      <td>0</td>\n      <td>0</td>\n      <td>30.0000</td>\n      <td>C</td>\n      <td>First</td>\n      <td>man</td>\n      <td>True</td>\n      <td>C</td>\n      <td>Cherbourg</td>\n      <td>yes</td>\n      <td>True</td>\n    </tr>\n    <tr>\n      <th>890</th>\n      <td>0</td>\n      <td>3</td>\n      <td>male</td>\n      <td>32.0</td>\n      <td>0</td>\n      <td>0</td>\n      <td>7.7500</td>\n      <td>Q</td>\n      <td>Third</td>\n      <td>man</td>\n      <td>True</td>\n      <td>NaN</td>\n      <td>Queenstown</td>\n      <td>no</td>\n      <td>True</td>\n    </tr>\n  </tbody>\n</table>\n<p>891 rows × 15 columns</p>\n</div>"
     },
     "execution_count": 12,
     "metadata": {},
     "output_type": "execute_result"
    }
   ],
   "source": [
    "# seaborn: matplotlib과 같은 그래프 그리는 라이브러리\n",
    "import seaborn as sns\n",
    "# seaborn에 자체적인 저장소(repository)가 존재하여 저장소로부터 직접 데이터를 가져올 수 있다.\n",
    "titanic = sns.load_dataset('titanic') # 온라인에서 사용\n",
    "# titanic = pd.read_csv('../chapter08/titanic.csv') #오프라인에서 사용\n",
    "titanic"
   ],
   "metadata": {
    "collapsed": false,
    "ExecuteTime": {
     "end_time": "2023-12-22T07:16:35.742694575Z",
     "start_time": "2023-12-22T07:16:35.703947231Z"
    }
   },
   "id": "c82163a3cc43ee1c"
  },
  {
   "cell_type": "code",
   "execution_count": 13,
   "outputs": [
    {
     "data": {
      "text/plain": "     survived  pclass  sex   age  sibsp  parch     fare embarked   class  \\\n0           0       3    1  22.0      1      0   7.2500        S   Third   \n1           1       1    0  38.0      1      0  71.2833        C   First   \n2           1       3    0  26.0      0      0   7.9250        S   Third   \n3           1       1    0  35.0      1      0  53.1000        S   First   \n4           0       3    1  35.0      0      0   8.0500        S   Third   \n..        ...     ...  ...   ...    ...    ...      ...      ...     ...   \n886         0       2    1  27.0      0      0  13.0000        S  Second   \n887         1       1    0  19.0      0      0  30.0000        S   First   \n888         0       3    0   NaN      1      2  23.4500        S   Third   \n889         1       1    1  26.0      0      0  30.0000        C   First   \n890         0       3    1  32.0      0      0   7.7500        Q   Third   \n\n       who  adult_male deck  embark_town alive  alone  \n0      man        True  NaN  Southampton    no  False  \n1    woman       False    C    Cherbourg   yes  False  \n2    woman       False  NaN  Southampton   yes   True  \n3    woman       False    C  Southampton   yes  False  \n4      man        True  NaN  Southampton    no   True  \n..     ...         ...  ...          ...   ...    ...  \n886    man        True  NaN  Southampton    no   True  \n887  woman       False    B  Southampton   yes   True  \n888  woman       False  NaN  Southampton    no  False  \n889    man        True    C    Cherbourg   yes   True  \n890    man        True  NaN   Queenstown    no   True  \n\n[891 rows x 15 columns]",
      "text/html": "<div>\n<style scoped>\n    .dataframe tbody tr th:only-of-type {\n        vertical-align: middle;\n    }\n\n    .dataframe tbody tr th {\n        vertical-align: top;\n    }\n\n    .dataframe thead th {\n        text-align: right;\n    }\n</style>\n<table border=\"1\" class=\"dataframe\">\n  <thead>\n    <tr style=\"text-align: right;\">\n      <th></th>\n      <th>survived</th>\n      <th>pclass</th>\n      <th>sex</th>\n      <th>age</th>\n      <th>sibsp</th>\n      <th>parch</th>\n      <th>fare</th>\n      <th>embarked</th>\n      <th>class</th>\n      <th>who</th>\n      <th>adult_male</th>\n      <th>deck</th>\n      <th>embark_town</th>\n      <th>alive</th>\n      <th>alone</th>\n    </tr>\n  </thead>\n  <tbody>\n    <tr>\n      <th>0</th>\n      <td>0</td>\n      <td>3</td>\n      <td>1</td>\n      <td>22.0</td>\n      <td>1</td>\n      <td>0</td>\n      <td>7.2500</td>\n      <td>S</td>\n      <td>Third</td>\n      <td>man</td>\n      <td>True</td>\n      <td>NaN</td>\n      <td>Southampton</td>\n      <td>no</td>\n      <td>False</td>\n    </tr>\n    <tr>\n      <th>1</th>\n      <td>1</td>\n      <td>1</td>\n      <td>0</td>\n      <td>38.0</td>\n      <td>1</td>\n      <td>0</td>\n      <td>71.2833</td>\n      <td>C</td>\n      <td>First</td>\n      <td>woman</td>\n      <td>False</td>\n      <td>C</td>\n      <td>Cherbourg</td>\n      <td>yes</td>\n      <td>False</td>\n    </tr>\n    <tr>\n      <th>2</th>\n      <td>1</td>\n      <td>3</td>\n      <td>0</td>\n      <td>26.0</td>\n      <td>0</td>\n      <td>0</td>\n      <td>7.9250</td>\n      <td>S</td>\n      <td>Third</td>\n      <td>woman</td>\n      <td>False</td>\n      <td>NaN</td>\n      <td>Southampton</td>\n      <td>yes</td>\n      <td>True</td>\n    </tr>\n    <tr>\n      <th>3</th>\n      <td>1</td>\n      <td>1</td>\n      <td>0</td>\n      <td>35.0</td>\n      <td>1</td>\n      <td>0</td>\n      <td>53.1000</td>\n      <td>S</td>\n      <td>First</td>\n      <td>woman</td>\n      <td>False</td>\n      <td>C</td>\n      <td>Southampton</td>\n      <td>yes</td>\n      <td>False</td>\n    </tr>\n    <tr>\n      <th>4</th>\n      <td>0</td>\n      <td>3</td>\n      <td>1</td>\n      <td>35.0</td>\n      <td>0</td>\n      <td>0</td>\n      <td>8.0500</td>\n      <td>S</td>\n      <td>Third</td>\n      <td>man</td>\n      <td>True</td>\n      <td>NaN</td>\n      <td>Southampton</td>\n      <td>no</td>\n      <td>True</td>\n    </tr>\n    <tr>\n      <th>...</th>\n      <td>...</td>\n      <td>...</td>\n      <td>...</td>\n      <td>...</td>\n      <td>...</td>\n      <td>...</td>\n      <td>...</td>\n      <td>...</td>\n      <td>...</td>\n      <td>...</td>\n      <td>...</td>\n      <td>...</td>\n      <td>...</td>\n      <td>...</td>\n      <td>...</td>\n    </tr>\n    <tr>\n      <th>886</th>\n      <td>0</td>\n      <td>2</td>\n      <td>1</td>\n      <td>27.0</td>\n      <td>0</td>\n      <td>0</td>\n      <td>13.0000</td>\n      <td>S</td>\n      <td>Second</td>\n      <td>man</td>\n      <td>True</td>\n      <td>NaN</td>\n      <td>Southampton</td>\n      <td>no</td>\n      <td>True</td>\n    </tr>\n    <tr>\n      <th>887</th>\n      <td>1</td>\n      <td>1</td>\n      <td>0</td>\n      <td>19.0</td>\n      <td>0</td>\n      <td>0</td>\n      <td>30.0000</td>\n      <td>S</td>\n      <td>First</td>\n      <td>woman</td>\n      <td>False</td>\n      <td>B</td>\n      <td>Southampton</td>\n      <td>yes</td>\n      <td>True</td>\n    </tr>\n    <tr>\n      <th>888</th>\n      <td>0</td>\n      <td>3</td>\n      <td>0</td>\n      <td>NaN</td>\n      <td>1</td>\n      <td>2</td>\n      <td>23.4500</td>\n      <td>S</td>\n      <td>Third</td>\n      <td>woman</td>\n      <td>False</td>\n      <td>NaN</td>\n      <td>Southampton</td>\n      <td>no</td>\n      <td>False</td>\n    </tr>\n    <tr>\n      <th>889</th>\n      <td>1</td>\n      <td>1</td>\n      <td>1</td>\n      <td>26.0</td>\n      <td>0</td>\n      <td>0</td>\n      <td>30.0000</td>\n      <td>C</td>\n      <td>First</td>\n      <td>man</td>\n      <td>True</td>\n      <td>C</td>\n      <td>Cherbourg</td>\n      <td>yes</td>\n      <td>True</td>\n    </tr>\n    <tr>\n      <th>890</th>\n      <td>0</td>\n      <td>3</td>\n      <td>1</td>\n      <td>32.0</td>\n      <td>0</td>\n      <td>0</td>\n      <td>7.7500</td>\n      <td>Q</td>\n      <td>Third</td>\n      <td>man</td>\n      <td>True</td>\n      <td>NaN</td>\n      <td>Queenstown</td>\n      <td>no</td>\n      <td>True</td>\n    </tr>\n  </tbody>\n</table>\n<p>891 rows × 15 columns</p>\n</div>"
     },
     "execution_count": 13,
     "metadata": {},
     "output_type": "execute_result"
    }
   ],
   "source": [
    "from sklearn.preprocessing import LabelEncoder\n",
    "\n",
    "encoder = LabelEncoder()\n",
    "encoder.fit(titanic['sex'])\n",
    "sex = encoder.transform(titanic['sex'])\n",
    "titanic['sex'] = sex\n",
    "titanic"
   ],
   "metadata": {
    "collapsed": false,
    "ExecuteTime": {
     "end_time": "2023-12-22T07:20:21.893488921Z",
     "start_time": "2023-12-22T07:20:21.877788596Z"
    }
   },
   "id": "11ac523f4eb0cddb"
  },
  {
   "cell_type": "code",
   "execution_count": 14,
   "outputs": [
    {
     "name": "stdout",
     "output_type": "stream",
     "text": [
      "Optimization terminated successfully.\n",
      "         Current function value: 0.445244\n",
      "         Iterations 6\n",
      "                           Logit Regression Results                           \n",
      "==============================================================================\n",
      "Dep. Variable:               survived   No. Observations:                  714\n",
      "Model:                          Logit   Df Residuals:                      707\n",
      "Method:                           MLE   Df Model:                            6\n",
      "Date:                Fri, 22 Dec 2023   Pseudo R-squ.:                  0.3408\n",
      "Time:                        16:23:47   Log-Likelihood:                -317.90\n",
      "converged:                       True   LL-Null:                       -482.26\n",
      "Covariance Type:            nonrobust   LLR p-value:                 5.727e-68\n",
      "==============================================================================\n",
      "                 coef    std err          z      P>|z|      [0.025      0.975]\n",
      "------------------------------------------------------------------------------\n",
      "Intercept      5.3890      0.604      8.926      0.000       4.206       6.572\n",
      "pclass        -1.2422      0.163     -7.612      0.000      -1.562      -0.922\n",
      "sex           -2.6348      0.220    -11.998      0.000      -3.065      -2.204\n",
      "age           -0.0440      0.008     -5.374      0.000      -0.060      -0.028\n",
      "fare           0.0022      0.002      0.866      0.386      -0.003       0.007\n",
      "parch         -0.0619      0.123     -0.504      0.614      -0.303       0.179\n",
      "sibsp         -0.3758      0.127     -2.950      0.003      -0.625      -0.126\n",
      "==============================================================================\n"
     ]
    }
   ],
   "source": [
    "logit = sm.Logit.from_formula('survived ~ pclass + sex + age + fare + parch + sibsp', data=titanic).fit()\n",
    "print(logit.summary())"
   ],
   "metadata": {
    "collapsed": false,
    "ExecuteTime": {
     "end_time": "2023-12-22T07:23:47.437241639Z",
     "start_time": "2023-12-22T07:23:47.387197041Z"
    }
   },
   "id": "9535af28e2479158"
  }
 ],
 "metadata": {
  "kernelspec": {
   "display_name": "Python 3",
   "language": "python",
   "name": "python3"
  },
  "language_info": {
   "codemirror_mode": {
    "name": "ipython",
    "version": 2
   },
   "file_extension": ".py",
   "mimetype": "text/x-python",
   "name": "python",
   "nbconvert_exporter": "python",
   "pygments_lexer": "ipython2",
   "version": "2.7.6"
  }
 },
 "nbformat": 4,
 "nbformat_minor": 5
}

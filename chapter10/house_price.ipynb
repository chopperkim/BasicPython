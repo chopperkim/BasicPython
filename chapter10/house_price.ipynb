{
 "cells": [
  {
   "cell_type": "code",
   "execution_count": 1,
   "id": "initial_id",
   "metadata": {
    "collapsed": true,
    "ExecuteTime": {
     "end_time": "2023-12-22T08:02:25.960349020Z",
     "start_time": "2023-12-22T08:02:25.103688116Z"
    }
   },
   "outputs": [
    {
     "name": "stdout",
     "output_type": "stream",
     "text": [
      "                            OLS Regression Results                            \n",
      "==============================================================================\n",
      "Dep. Variable:                  price   R-squared:                       0.876\n",
      "Model:                            OLS   Adj. R-squared:                  0.862\n",
      "Method:                 Least Squares   F-statistic:                     62.45\n",
      "Date:                Fri, 22 Dec 2023   Prob (F-statistic):           1.11e-25\n",
      "Time:                        17:02:25   Log-Likelihood:                -734.71\n",
      "No. Observations:                  70   AIC:                             1485.\n",
      "Df Residuals:                      62   BIC:                             1503.\n",
      "Df Model:                           7                                         \n",
      "Covariance Type:            nonrobust                                         \n",
      "====================================================================================\n",
      "                       coef    std err          t      P>|t|      [0.025      0.975]\n",
      "------------------------------------------------------------------------------------\n",
      "Intercept         1.169e+05   1.23e+05      0.948      0.347    -1.3e+05    3.64e+05\n",
      "size               534.9026     43.081     12.416      0.000     448.785     621.021\n",
      "age              -1460.9677   1754.535     -0.833      0.408   -4968.233    2046.298\n",
      "kindergarten      1927.0880    591.638      3.257      0.002     744.421    3109.755\n",
      "elementarySchool -1599.1185   3858.456     -0.414      0.680   -9312.062    6113.825\n",
      "busStop            -13.2131    730.790     -0.018      0.986   -1474.042    1447.616\n",
      "hospital           737.2488    891.948      0.827      0.412   -1045.730    2520.227\n",
      "mart             -1372.4907   3583.901     -0.383      0.703   -8536.606    5791.625\n",
      "==============================================================================\n",
      "Omnibus:                        4.208   Durbin-Watson:                   2.150\n",
      "Prob(Omnibus):                  0.122   Jarque-Bera (JB):                3.332\n",
      "Skew:                          -0.446   Prob(JB):                        0.189\n",
      "Kurtosis:                       3.589   Cond. No.                     1.17e+04\n",
      "==============================================================================\n",
      "\n",
      "Notes:\n",
      "[1] Standard Errors assume that the covariance matrix of the errors is correctly specified.\n",
      "[2] The condition number is large, 1.17e+04. This might indicate that there are\n",
      "strong multicollinearity or other numerical problems.\n"
     ]
    }
   ],
   "source": [
    "import pandas as pd\n",
    "import matplotlib.pyplot as plt\n",
    "from statsmodels.formula.api import ols\n",
    "from sklearn.linear_model import LinearRegression\n",
    "\n",
    "df = pd.read_csv('house_price.csv')\n",
    "fit = ols('price ~ size + age + kindergarten + elementarySchool + busStop + hospital + mart', data=df).fit()\n",
    "\n",
    "print(fit.summary())"
   ]
  }
 ],
 "metadata": {
  "kernelspec": {
   "display_name": "Python 3",
   "language": "python",
   "name": "python3"
  },
  "language_info": {
   "codemirror_mode": {
    "name": "ipython",
    "version": 2
   },
   "file_extension": ".py",
   "mimetype": "text/x-python",
   "name": "python",
   "nbconvert_exporter": "python",
   "pygments_lexer": "ipython2",
   "version": "2.7.6"
  }
 },
 "nbformat": 4,
 "nbformat_minor": 5
}
